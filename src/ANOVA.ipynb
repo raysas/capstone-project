{
 "cells": [
  {
   "cell_type": "markdown",
   "metadata": {},
   "source": [
    "# ANOVA\n",
    "\n",
    "applying 2 way ANOVA on SVM correlation"
   ]
  },
  {
   "cell_type": "code",
   "execution_count": 5,
   "metadata": {},
   "outputs": [],
   "source": [
    "import pandas as pd\n",
    "import numpy as np\n",
    "import networkx as nx\n",
    "\n",
    "SVM_corr_G=nx.read_graphml('../data/graphs-4/signed_corr0.6_200SVM_Campylobacter_coli_ciprofloxacin.graphml')\n",
    "gene_pairs=list(SVM_corr_G.edges())\n",
    "\n",
    "X=pd.read_csv('../data/graphs-4/X.csv')\n",
    "y=pd.read_csv('../data/graphs-4/y.csv')"
   ]
  },
  {
   "cell_type": "code",
   "execution_count": null,
   "metadata": {},
   "outputs": [],
   "source": [
    "# -- 2 way ANOVA for each gene pair \n",
    "\n",
    "for pair in gene_pairs:\n",
    "    "
   ]
  }
 ],
 "metadata": {
  "kernelspec": {
   "display_name": "base",
   "language": "python",
   "name": "python3"
  },
  "language_info": {
   "codemirror_mode": {
    "name": "ipython",
    "version": 3
   },
   "file_extension": ".py",
   "mimetype": "text/x-python",
   "name": "python",
   "nbconvert_exporter": "python",
   "pygments_lexer": "ipython3",
   "version": "3.12.2"
  }
 },
 "nbformat": 4,
 "nbformat_minor": 2
}
