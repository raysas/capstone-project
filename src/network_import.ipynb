{
 "cells": [
  {
   "cell_type": "code",
   "execution_count": 4,
   "metadata": {},
   "outputs": [],
   "source": [
    "import networkx as nx\n",
    "\n",
    "signed_G6 = nx.read_gml(\"../data/graphs/signed_full_gene_correlation_C.coli_ciprofloxacin_0.6.gml\")\n",
    "signed_G65 = nx.read_gml(\"../data/graphs/signed_full_gene_correlation_C.coli_ciprofloxacin_0.65.gml\")\n",
    "signed_G7 = nx.read_gml(\"../data/graphs/signed_full_gene_correlation_C.coli_ciprofloxacin_0.7.gml\")\n",
    "signed_G75 = nx.read_gml(\"../data/graphs/signed_full_gene_correlation_C.coli_ciprofloxacin_0.75.gml\")\n",
    "signed_G8 = nx.read_gml(\"../data/graphs/signed_full_gene_correlation_C.coli_ciprofloxacin_0.8.gml\")\n",
    "signed_G85 = nx.read_gml(\"../data/graphs/signed_full_gene_correlation_C.coli_ciprofloxacin_0.85.gml\")\n",
    "signed_G9 = nx.read_gml(\"../data/graphs/signed_full_gene_correlation_C.coli_ciprofloxacin_0.9.gml\")\n",
    "signed_G95 = nx.read_gml(\"../data/graphs/signed_full_gene_correlation_C.coli_ciprofloxacin_0.95.gml\")\n",
    "\n",
    "unsigned_G6 = nx.read_gml(\"../data/graphs/unsigned_full_gene_correlation_C.coli_ciprofloxacin_0.6.gml\")\n",
    "unsigned_G65 = nx.read_gml(\"../data/graphs/unsigned_full_gene_correlation_C.coli_ciprofloxacin_0.65.gml\")\n",
    "unsigned_G7 = nx.read_gml(\"../data/graphs/unsigned_full_gene_correlation_C.coli_ciprofloxacin_0.7.gml\")\n",
    "unsigned_G75 = nx.read_gml(\"../data/graphs/unsigned_full_gene_correlation_C.coli_ciprofloxacin_0.75.gml\")\n",
    "unsigned_G8 = nx.read_gml(\"../data/graphs/unsigned_full_gene_correlation_C.coli_ciprofloxacin_0.8.gml\")\n",
    "unsigned_G85 = nx.read_gml(\"../data/graphs/unsigned_full_gene_correlation_C.coli_ciprofloxacin_0.85.gml\")\n",
    "unsigned_G9 = nx.read_gml(\"../data/graphs/unsigned_full_gene_correlation_C.coli_ciprofloxacin_0.9.gml\")\n",
    "unsigned_G95 = nx.read_gml(\"../data/graphs/unsigned_full_gene_correlation_C.coli_ciprofloxacin_0.95.gml\")"
   ]
  },
  {
   "cell_type": "code",
   "execution_count": 5,
   "metadata": {},
   "outputs": [],
   "source": [
    "#transform the graphs to graphml\n",
    "\n",
    "nx.write_graphml(signed_G6, \"../data/graphs/graphml/signed_full_gene_correlation_C.coli_ciprofloxacin_0.6.graphml\")\n",
    "nx.write_graphml(signed_G65, \"../data/graphs/graphml/signed_full_gene_correlation_C.coli_ciprofloxacin_0.65.graphml\")\n",
    "nx.write_graphml(signed_G7, \"../data/graphs/graphml/signed_full_gene_correlation_C.coli_ciprofloxacin_0.7.graphml\")\n",
    "nx.write_graphml(signed_G75, \"../data/graphs/graphml/signed_full_gene_correlation_C.coli_ciprofloxacin_0.75.graphml\")\n",
    "nx.write_graphml(signed_G8, \"../data/graphs/graphml/signed_full_gene_correlation_C.coli_ciprofloxacin_0.8.graphml\")\n",
    "nx.write_graphml(signed_G85, \"../data/graphs/graphml/signed_full_gene_correlation_C.coli_ciprofloxacin_0.85.graphml\")\n",
    "nx.write_graphml(signed_G9, \"../data/graphs/graphml/signed_full_gene_correlation_C.coli_ciprofloxacin_0.9.graphml\")\n",
    "nx.write_graphml(signed_G95, \"../data/graphs/graphml/signed_full_gene_correlation_C.coli_ciprofloxacin_0.95.graphml\")\n",
    "\n",
    "nx.write_graphml(unsigned_G6, \"../data/graphs/graphml/unsigned_full_gene_correlation_C.coli_ciprofloxacin_0.6.graphml\")\n",
    "nx.write_graphml(unsigned_G65, \"../data/graphs/graphml/unsigned_full_gene_correlation_C.coli_ciprofloxacin_0.65.graphml\")\n",
    "nx.write_graphml(unsigned_G7, \"../data/graphs/graphml/unsigned_full_gene_correlation_C.coli_ciprofloxacin_0.7.graphml\")\n",
    "nx.write_graphml(unsigned_G75, \"../data/graphs/graphml/unsigned_full_gene_correlation_C.coli_ciprofloxacin_0.75.graphml\")\n",
    "nx.write_graphml(unsigned_G8, \"../data/graphs/graphml/unsigned_full_gene_correlation_C.coli_ciprofloxacin_0.8.graphml\")\n",
    "nx.write_graphml(unsigned_G85, \"../data/graphs/graphml/unsigned_full_gene_correlation_C.coli_ciprofloxacin_0.85.graphml\")\n",
    "nx.write_graphml(unsigned_G9, \"../data/graphs/graphml/unsigned_full_gene_correlation_C.coli_ciprofloxacin_0.9.graphml\")\n",
    "nx.write_graphml(unsigned_G95, \"../data/graphs/graphml/unsigned_full_gene_correlation_C.coli_ciprofloxacin_0.95.graphml\")"
   ]
  }
 ],
 "metadata": {
  "kernelspec": {
   "display_name": "base",
   "language": "python",
   "name": "python3"
  },
  "language_info": {
   "codemirror_mode": {
    "name": "ipython",
    "version": 3
   },
   "file_extension": ".py",
   "mimetype": "text/x-python",
   "name": "python",
   "nbconvert_exporter": "python",
   "pygments_lexer": "ipython3",
   "version": "3.12.2"
  }
 },
 "nbformat": 4,
 "nbformat_minor": 2
}
