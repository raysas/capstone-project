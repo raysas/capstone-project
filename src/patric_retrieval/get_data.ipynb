{
 "cells": [
  {
   "cell_type": "markdown",
   "metadata": {},
   "source": [
    "# Retrieve AMR data from PATRIC"
   ]
  },
  {
   "cell_type": "markdown",
   "metadata": {},
   "source": [
    "## For validation\n",
    "we will take the list of products (saved as patric_ids) and check in PATRIC if they are specialty genes (source: PATRIC, CARD and NDARO)  \n",
    "Also making sure of the drug"
   ]
  },
  {
   "cell_type": "code",
   "execution_count": 3,
   "metadata": {},
   "outputs": [],
   "source": [
    "import requests\n",
    "import json"
   ]
  },
  {
   "cell_type": "code",
   "execution_count": 4,
   "metadata": {},
   "outputs": [
    {
     "data": {
      "text/plain": [
       "{'date_inserted': '2014-09-16T18:42:21.021Z',\n",
       " 'date_modified': '2014-09-16T18:42:21.021Z',\n",
       " 'gene_id': '2690',\n",
       " 'gene_name': 'GHR',\n",
       " 'genus': 'Homo',\n",
       " 'gi': '4503993',\n",
       " 'id': '0002dba6-a28a-4ab7-8d14-aa70ec7b2c59',\n",
       " 'organism': 'Homo sapiens',\n",
       " 'product': 'growth hormone receptor isoform 1 precursor ',\n",
       " 'property': 'Human Homolog',\n",
       " 'source': 'Human',\n",
       " 'source_id': 'NP_000154.1',\n",
       " 'species': 'Homo sapiens',\n",
       " '_version_': 1694988088597545000}"
      ]
     },
     "execution_count": 4,
     "metadata": {},
     "output_type": "execute_result"
    }
   ],
   "source": [
    "url_trial=\"https://www.bv-brc.org/api/sp_gene_ref/0002dba6-a28a-4ab7-8d14-aa70ec7b2c59\"\n",
    "\n",
    "response = requests.get(url_trial)\n",
    "data = response.json()\n",
    "data"
   ]
  },
  {
   "cell_type": "code",
   "execution_count": 8,
   "metadata": {},
   "outputs": [],
   "source": [
    "#https://www.bv-brc.org/api/{DATA TYPE}/?{QUERY}\n",
    "\n",
    "DATA_TYPE=\"sp_gene_ref\"\n",
    "ATTRIBUE=\"product\"\n",
    "VALUE=\"Multidrug efflux system, inner membrane proton/drug antiporter (RND type) => CmeF\"\n",
    "\n",
    "url=\"https://www.bv-brc.org/api/sp_gene_ref/eq(${encodeURIComponent(field)},${encodeURIComponent(value)})\"\n",
    "# url=f\"https://www.bv-brc.org/api/{DATA_TYPE}/?q{ATTRIBUE}:{VALUE}\"\n",
    "\n",
    "url=f\"https://www.bv-brc.org/api/{DATA_TYPE}/?eq({ATTRIBUE},{VALUE})\""
   ]
  },
  {
   "cell_type": "code",
   "execution_count": 9,
   "metadata": {},
   "outputs": [
    {
     "name": "stdout",
     "output_type": "stream",
     "text": [
      "[]\n"
     ]
    }
   ],
   "source": [
    "response = requests.get(url)\n",
    "if response.status_code == 200:\n",
    "    data = response.json() \n",
    "    print(data)\n",
    "else:\n",
    "    print('Request failed with status code:', response.status_code)"
   ]
  },
  {
   "cell_type": "code",
   "execution_count": 3,
   "metadata": {},
   "outputs": [
    {
     "ename": "NameError",
     "evalue": "name 'base64' is not defined",
     "output_type": "error",
     "traceback": [
      "\u001b[0;31m---------------------------------------------------------------------------\u001b[0m",
      "\u001b[0;31mNameError\u001b[0m                                 Traceback (most recent call last)",
      "Cell \u001b[0;32mIn[3], line 4\u001b[0m\n\u001b[1;32m      1\u001b[0m url \u001b[38;5;241m=\u001b[39m \u001b[38;5;124m\"\u001b[39m\u001b[38;5;124mhttps://www.bv-brc.org/api/sp_gene_ref/?eq(genus,Homo Sapiens)\u001b[39m\u001b[38;5;124m\"\u001b[39m\n\u001b[1;32m      3\u001b[0m \u001b[38;5;66;03m# Encode the URL using base64\u001b[39;00m\n\u001b[0;32m----> 4\u001b[0m encoded_url \u001b[38;5;241m=\u001b[39m \u001b[43mbase64\u001b[49m\u001b[38;5;241m.\u001b[39mb64encode(url\u001b[38;5;241m.\u001b[39mencode())\u001b[38;5;241m.\u001b[39mdecode()\n\u001b[1;32m      6\u001b[0m \u001b[38;5;66;03m# Construct the final URL with the encoded part\u001b[39;00m\n\u001b[1;32m      7\u001b[0m final_url \u001b[38;5;241m=\u001b[39m \u001b[38;5;124mf\u001b[39m\u001b[38;5;124m\"\u001b[39m\u001b[38;5;124mhttps://www.bv-brc.org/api/sp_gene_ref/?eq(genus,\u001b[39m\u001b[38;5;132;01m{\u001b[39;00mencoded_url\u001b[38;5;132;01m}\u001b[39;00m\u001b[38;5;124m)\u001b[39m\u001b[38;5;124m\"\u001b[39m\n",
      "\u001b[0;31mNameError\u001b[0m: name 'base64' is not defined"
     ]
    }
   ],
   "source": [
    "url = \"https://www.bv-brc.org/api/sp_gene_ref/?eq(genus,Homo Sapiens)\"\n",
    "\n",
    "# Encode the URL using base64\n",
    "encoded_url = base64.b64encode(url.encode()).decode()\n",
    "\n",
    "# Construct the final URL with the encoded part\n",
    "final_url = f\"https://www.bv-brc.org/api/sp_gene_ref/?eq(genus,{encoded_url})\"\n",
    "\n",
    "print(final_url)"
   ]
  }
 ],
 "metadata": {
  "kernelspec": {
   "display_name": "base",
   "language": "python",
   "name": "python3"
  },
  "language_info": {
   "codemirror_mode": {
    "name": "ipython",
    "version": 3
   },
   "file_extension": ".py",
   "mimetype": "text/x-python",
   "name": "python",
   "nbconvert_exporter": "python",
   "pygments_lexer": "ipython3",
   "version": "3.11.5"
  }
 },
 "nbformat": 4,
 "nbformat_minor": 2
}
