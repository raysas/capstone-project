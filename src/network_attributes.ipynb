{
 "cells": [
  {
   "cell_type": "code",
   "execution_count": 6,
   "metadata": {},
   "outputs": [],
   "source": [
    "import pandas as pd\n",
    "import numpy as np\n",
    "import matplotlib.pyplot as plt\n",
    "import networkx as nx\n",
    "\n",
    "presence_path=\"../data/presence_matrices/Campylobacter_coli_presence_absence.csv\"\n",
    "presence_df= pd.read_csv(presence_path, index_col=0)\n",
    "presence_df.index = presence_df.index.astype(str)\n",
    "\n",
    "pheno_path=\"../data/phenotypes/Campylobacter_coli_ciprofloxacin.csv\"\n",
    "pheno_df = pd.read_csv(pheno_path, index_col=0).astype(int)"
   ]
  },
  {
   "cell_type": "code",
   "execution_count": 18,
   "metadata": {},
   "outputs": [
    {
     "data": {
      "text/plain": [
       "Float64Index([195.2047, 195.2058, 195.2057, 195.2056, 195.2055, 195.2052,\n",
       "              195.2053, 195.2051, 195.2049, 195.2059,\n",
       "              ...\n",
       "              195.2164, 195.2165, 195.2166, 195.2169,  195.217, 195.2171,\n",
       "              195.2172, 195.2159, 195.2178, 195.2298],\n",
       "             dtype='float64', name='genome_id', length=283)"
      ]
     },
     "execution_count": 18,
     "metadata": {},
     "output_type": "execute_result"
    }
   ],
   "source": [
    "pheno_df.index"
   ]
  },
  {
   "cell_type": "markdown",
   "metadata": {},
   "source": [
    "## Helpers:\n"
   ]
  },
  {
   "cell_type": "markdown",
   "metadata": {},
   "source": [
    "By convention the presence_matrix will always deignate a GxS table where rows represent genes and columns represent samples\n",
    "\n",
    "- split_matrix_by_phenotype(presence_matrix, phenotype_matrix): splits the presence matrix into two matrices, one R and one for S"
   ]
  },
  {
   "cell_type": "code",
   "execution_count": 12,
   "metadata": {},
   "outputs": [
    {
     "name": "stdout",
     "output_type": "stream",
     "text": [
      "False\n"
     ]
    },
    {
     "ename": "KeyError",
     "evalue": "\"None of [Index(['195.2047', '195.2058', '195.2052', '195.2054', '195.2070', '195.2071',\\n       '195.2074', '195.2043', '195.2678', '195.2676', '195.2673', '195.2672',\\n       '195.2671', '195.2670', '195.2669', '195.2668', '195.2667', '195.2024',\\n       '195.2027', '195.2028', '195.2030', '195.2032', '195.2035', '195.2037',\\n       '195.2040', '195.2041', '195.2666', '195.2246', '195.2248', '195.2250',\\n       '195.2251', '195.2252', '195.2256', '195.2257', '195.2258', '195.2261',\\n       '195.2212', '195.2213', '195.2217', '195.2221', '195.2263', '195.2229',\\n       '195.2234', '195.2266', '195.2300', '195.2302', '195.2304', '195.2305',\\n       '195.2306', '195.2307', '195.2310', '195.2311', '195.2663', '195.2664',\\n       '195.2665', '195.2268', '195.2278', '195.2282', '195.2283', '195.2289',\\n       '195.2281', '195.2208', '195.2119', '195.2124', '195.2126', '195.2127',\\n       '195.2131', '195.2136', '195.2137', '195.2139', '195.2116', '195.2115',\\n       '195.2090', '195.2094', '195.2099', '195.2100', '195.2142', '195.2101',\\n       '195.2105', '195.2107', '195.2110', '195.2112', '195.2191', '195.2193',\\n       '195.2195', '195.2146', '195.2147', '195.2152', '195.2158', '195.2160',\\n       '195.2163', '195.2164', '195.2169', '195.2172', '195.2159', '195.2298'],\\n      dtype='object')] are in the [columns]\"",
     "output_type": "error",
     "traceback": [
      "\u001b[0;31m---------------------------------------------------------------------------\u001b[0m",
      "\u001b[0;31mKeyError\u001b[0m                                  Traceback (most recent call last)",
      "Cell \u001b[0;32mIn[12], line 68\u001b[0m\n\u001b[1;32m     64\u001b[0m     S_df\u001b[38;5;241m=\u001b[39m unlabeled_presence_df[S]\n\u001b[1;32m     66\u001b[0m     \u001b[38;5;28;01mreturn\u001b[39;00m R_df, S_df\n\u001b[0;32m---> 68\u001b[0m \u001b[43msplit_matrix_by_phenotype\u001b[49m\u001b[43m(\u001b[49m\u001b[43mpresence_df\u001b[49m\u001b[43m,\u001b[49m\u001b[43m \u001b[49m\u001b[43mpheno_df\u001b[49m\u001b[43m)\u001b[49m\n",
      "Cell \u001b[0;32mIn[12], line 63\u001b[0m, in \u001b[0;36msplit_matrix_by_phenotype\u001b[0;34m(unlabeled_presence_df, pheno_df)\u001b[0m\n\u001b[1;32m     59\u001b[0m \u001b[38;5;28mprint\u001b[39m(R \u001b[38;5;129;01min\u001b[39;00m \u001b[38;5;28mlist\u001b[39m(unlabeled_presence_df\u001b[38;5;241m.\u001b[39mindex))\n\u001b[1;32m     61\u001b[0m \u001b[38;5;66;03m# All we care for are R and S which designate the list of resistant and susceptible samples respectively\u001b[39;00m\n\u001b[0;32m---> 63\u001b[0m R_df\u001b[38;5;241m=\u001b[39m \u001b[43munlabeled_presence_df\u001b[49m\u001b[43m[\u001b[49m\u001b[43mR\u001b[49m\u001b[43m]\u001b[49m\n\u001b[1;32m     64\u001b[0m S_df\u001b[38;5;241m=\u001b[39m unlabeled_presence_df[S]\n\u001b[1;32m     66\u001b[0m \u001b[38;5;28;01mreturn\u001b[39;00m R_df, S_df\n",
      "File \u001b[0;32m~/miniconda3/lib/python3.12/site-packages/pandas/core/frame.py:3813\u001b[0m, in \u001b[0;36mDataFrame.__getitem__\u001b[0;34m(self, key)\u001b[0m\n\u001b[1;32m   3811\u001b[0m     \u001b[38;5;28;01mif\u001b[39;00m is_iterator(key):\n\u001b[1;32m   3812\u001b[0m         key \u001b[38;5;241m=\u001b[39m \u001b[38;5;28mlist\u001b[39m(key)\n\u001b[0;32m-> 3813\u001b[0m     indexer \u001b[38;5;241m=\u001b[39m \u001b[38;5;28;43mself\u001b[39;49m\u001b[38;5;241;43m.\u001b[39;49m\u001b[43mcolumns\u001b[49m\u001b[38;5;241;43m.\u001b[39;49m\u001b[43m_get_indexer_strict\u001b[49m\u001b[43m(\u001b[49m\u001b[43mkey\u001b[49m\u001b[43m,\u001b[49m\u001b[43m \u001b[49m\u001b[38;5;124;43m\"\u001b[39;49m\u001b[38;5;124;43mcolumns\u001b[39;49m\u001b[38;5;124;43m\"\u001b[39;49m\u001b[43m)\u001b[49m[\u001b[38;5;241m1\u001b[39m]\n\u001b[1;32m   3815\u001b[0m \u001b[38;5;66;03m# take() does not accept boolean indexers\u001b[39;00m\n\u001b[1;32m   3816\u001b[0m \u001b[38;5;28;01mif\u001b[39;00m \u001b[38;5;28mgetattr\u001b[39m(indexer, \u001b[38;5;124m\"\u001b[39m\u001b[38;5;124mdtype\u001b[39m\u001b[38;5;124m\"\u001b[39m, \u001b[38;5;28;01mNone\u001b[39;00m) \u001b[38;5;241m==\u001b[39m \u001b[38;5;28mbool\u001b[39m:\n",
      "File \u001b[0;32m~/miniconda3/lib/python3.12/site-packages/pandas/core/indexes/base.py:6070\u001b[0m, in \u001b[0;36mIndex._get_indexer_strict\u001b[0;34m(self, key, axis_name)\u001b[0m\n\u001b[1;32m   6067\u001b[0m \u001b[38;5;28;01melse\u001b[39;00m:\n\u001b[1;32m   6068\u001b[0m     keyarr, indexer, new_indexer \u001b[38;5;241m=\u001b[39m \u001b[38;5;28mself\u001b[39m\u001b[38;5;241m.\u001b[39m_reindex_non_unique(keyarr)\n\u001b[0;32m-> 6070\u001b[0m \u001b[38;5;28;43mself\u001b[39;49m\u001b[38;5;241;43m.\u001b[39;49m\u001b[43m_raise_if_missing\u001b[49m\u001b[43m(\u001b[49m\u001b[43mkeyarr\u001b[49m\u001b[43m,\u001b[49m\u001b[43m \u001b[49m\u001b[43mindexer\u001b[49m\u001b[43m,\u001b[49m\u001b[43m \u001b[49m\u001b[43maxis_name\u001b[49m\u001b[43m)\u001b[49m\n\u001b[1;32m   6072\u001b[0m keyarr \u001b[38;5;241m=\u001b[39m \u001b[38;5;28mself\u001b[39m\u001b[38;5;241m.\u001b[39mtake(indexer)\n\u001b[1;32m   6073\u001b[0m \u001b[38;5;28;01mif\u001b[39;00m \u001b[38;5;28misinstance\u001b[39m(key, Index):\n\u001b[1;32m   6074\u001b[0m     \u001b[38;5;66;03m# GH 42790 - Preserve name from an Index\u001b[39;00m\n",
      "File \u001b[0;32m~/miniconda3/lib/python3.12/site-packages/pandas/core/indexes/base.py:6130\u001b[0m, in \u001b[0;36mIndex._raise_if_missing\u001b[0;34m(self, key, indexer, axis_name)\u001b[0m\n\u001b[1;32m   6128\u001b[0m     \u001b[38;5;28;01mif\u001b[39;00m use_interval_msg:\n\u001b[1;32m   6129\u001b[0m         key \u001b[38;5;241m=\u001b[39m \u001b[38;5;28mlist\u001b[39m(key)\n\u001b[0;32m-> 6130\u001b[0m     \u001b[38;5;28;01mraise\u001b[39;00m \u001b[38;5;167;01mKeyError\u001b[39;00m(\u001b[38;5;124mf\u001b[39m\u001b[38;5;124m\"\u001b[39m\u001b[38;5;124mNone of [\u001b[39m\u001b[38;5;132;01m{\u001b[39;00mkey\u001b[38;5;132;01m}\u001b[39;00m\u001b[38;5;124m] are in the [\u001b[39m\u001b[38;5;132;01m{\u001b[39;00maxis_name\u001b[38;5;132;01m}\u001b[39;00m\u001b[38;5;124m]\u001b[39m\u001b[38;5;124m\"\u001b[39m)\n\u001b[1;32m   6132\u001b[0m not_found \u001b[38;5;241m=\u001b[39m \u001b[38;5;28mlist\u001b[39m(ensure_index(key)[missing_mask\u001b[38;5;241m.\u001b[39mnonzero()[\u001b[38;5;241m0\u001b[39m]]\u001b[38;5;241m.\u001b[39munique())\n\u001b[1;32m   6133\u001b[0m \u001b[38;5;28;01mraise\u001b[39;00m \u001b[38;5;167;01mKeyError\u001b[39;00m(\u001b[38;5;124mf\u001b[39m\u001b[38;5;124m\"\u001b[39m\u001b[38;5;132;01m{\u001b[39;00mnot_found\u001b[38;5;132;01m}\u001b[39;00m\u001b[38;5;124m not in index\u001b[39m\u001b[38;5;124m\"\u001b[39m)\n",
      "\u001b[0;31mKeyError\u001b[0m: \"None of [Index(['195.2047', '195.2058', '195.2052', '195.2054', '195.2070', '195.2071',\\n       '195.2074', '195.2043', '195.2678', '195.2676', '195.2673', '195.2672',\\n       '195.2671', '195.2670', '195.2669', '195.2668', '195.2667', '195.2024',\\n       '195.2027', '195.2028', '195.2030', '195.2032', '195.2035', '195.2037',\\n       '195.2040', '195.2041', '195.2666', '195.2246', '195.2248', '195.2250',\\n       '195.2251', '195.2252', '195.2256', '195.2257', '195.2258', '195.2261',\\n       '195.2212', '195.2213', '195.2217', '195.2221', '195.2263', '195.2229',\\n       '195.2234', '195.2266', '195.2300', '195.2302', '195.2304', '195.2305',\\n       '195.2306', '195.2307', '195.2310', '195.2311', '195.2663', '195.2664',\\n       '195.2665', '195.2268', '195.2278', '195.2282', '195.2283', '195.2289',\\n       '195.2281', '195.2208', '195.2119', '195.2124', '195.2126', '195.2127',\\n       '195.2131', '195.2136', '195.2137', '195.2139', '195.2116', '195.2115',\\n       '195.2090', '195.2094', '195.2099', '195.2100', '195.2142', '195.2101',\\n       '195.2105', '195.2107', '195.2110', '195.2112', '195.2191', '195.2193',\\n       '195.2195', '195.2146', '195.2147', '195.2152', '195.2158', '195.2160',\\n       '195.2163', '195.2164', '195.2169', '195.2172', '195.2159', '195.2298'],\\n      dtype='object')] are in the [columns]\""
     ]
    }
   ],
   "source": [
    "def split_matrix_by_phenotype(unlabeled_presence_df:pd.DataFrame, pheno_df: pd.DataFrame)->(pd.DataFrame, pd.DataFrame):\n",
    "    '''\n",
    "    takes a gene absence presence dataframe (n x m) with the samples classification and splits it to 2 dataframes:\n",
    "        - one that represents all R samples (samples found in R_list)\n",
    "        - one that represents all S samples (found in S_list)\n",
    "    and returns them in this order: R then S\n",
    "\n",
    "    param:\n",
    "        - unlabeled_presence_df: (pd.DataFrame) the data frame output of data_utils.get_gene_presence_matrix\n",
    "        - R_list: (list) samples genome_id that have a R (1) phenotype\n",
    "        - S_list: (list) samples having the 0 phenotype\n",
    "    \n",
    "    return:\n",
    "        - R_df: (pd.DataFrame) data frame where columns are only for R samples\n",
    "        - S_df: (pd.DataFrame) df where cols are only for S samples\n",
    "\n",
    "    _this is a helper function to create a contigency table for each gene_\n",
    "    '''\n",
    "\n",
    "    # get the list of R and S samples:\n",
    "    R=[];S=[];U=[]\n",
    "    for sample in pheno_df.index:\n",
    "\n",
    "        if pheno_df.loc[sample].values[0]==1:\n",
    "            sample=str(sample)\n",
    "            if len(sample)==7:\n",
    "                sample+='0'\n",
    "            elif len(sample)==6:\n",
    "                sample+='00'\n",
    "            elif len(sample)==5:\n",
    "                sample+='000'\n",
    "            elif len(sample)==4:\n",
    "                sample+='0000'\n",
    "            R.append(str(sample))\n",
    "        elif pheno_df.loc[sample].values[0]==0:\n",
    "            sample=str(sample)\n",
    "            sample=str(sample)\n",
    "            if len(sample)==7:\n",
    "                sample+='0'\n",
    "            elif len(sample)==6:\n",
    "                sample+='00'\n",
    "            elif len(sample)==5:\n",
    "                sample+='000'\n",
    "            elif len(sample)==4:\n",
    "                sample+='0000'\n",
    "            S.append(str(sample))\n",
    "        else:\n",
    "            sample=str(sample)\n",
    "            if len(sample)==7:\n",
    "                sample+='0'\n",
    "            elif len(sample)==6:\n",
    "                sample+='00'\n",
    "            elif len(sample)==5:\n",
    "                sample+='000'\n",
    "            elif len(sample)==4:\n",
    "                sample+='0000'\n",
    "            U.append(str(sample))\n",
    "\n",
    "    print(R in list(unlabeled_presence_df.index))\n",
    "            \n",
    "    # All we care for are R and S which designate the list of resistant and susceptible samples respectively\n",
    "\n",
    "    R_df= unlabeled_presence_df[R]\n",
    "    S_df= unlabeled_presence_df[S]\n",
    "\n",
    "    return R_df, S_df\n",
    "\n",
    "split_matrix_by_phenotype(presence_df, pheno_df)"
   ]
  }
 ],
 "metadata": {
  "kernelspec": {
   "display_name": "base",
   "language": "python",
   "name": "python3"
  },
  "language_info": {
   "codemirror_mode": {
    "name": "ipython",
    "version": 3
   },
   "file_extension": ".py",
   "mimetype": "text/x-python",
   "name": "python",
   "nbconvert_exporter": "python",
   "pygments_lexer": "ipython3",
   "version": "3.12.2"
  }
 },
 "nbformat": 4,
 "nbformat_minor": 2
}
