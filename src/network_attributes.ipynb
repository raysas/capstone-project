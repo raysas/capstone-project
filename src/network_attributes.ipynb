{
 "cells": [
  {
   "cell_type": "code",
   "execution_count": 1,
   "metadata": {},
   "outputs": [],
   "source": [
    "import pandas as pd\n",
    "import numpy as np\n",
    "import matplotlib.pyplot as plt\n",
    "import networkx as nx"
   ]
  },
  {
   "cell_type": "markdown",
   "metadata": {},
   "source": [
    "## Helpers:\n"
   ]
  },
  {
   "cell_type": "markdown",
   "metadata": {},
   "source": [
    "By convention the presence_matrix will always deignate a GxS table where rows represent genes and columns represent samples\n",
    "\n",
    "- _split_matrix_by_phenotype(presence_matrix, phenotype_matrix): splits the presence matrix into two matrices, one R and one for S"
   ]
  },
  {
   "cell_type": "code",
   "execution_count": null,
   "metadata": {},
   "outputs": [],
   "source": [
    "def _split_matrix_by_phenotype(unlabeled_presence_df:pd.DataFrame, pheno_df: pd.Dataframe):\n",
    "    '''\n",
    "    takes a gene absence presence dataframe (n x m) with the samples classification and splits it to 2 dataframes:\n",
    "        - one that represents all R samples (samples found in R_list)\n",
    "        - one that represents all S samples (found in S_list)\n",
    "    and returns them in this order: R then S\n",
    "\n",
    "    param:\n",
    "        - unlabeled_presence_df: (pd.DataFrame) the data frame output of data_utils.get_gene_presence_matrix\n",
    "        - R_list: (list) samples genome_id that have a R (1) phenotype\n",
    "        - S_list: (list) samples having the 0 phenotype\n",
    "    \n",
    "    return:\n",
    "        - R_df: (pd.DataFrame) data frame where columns are only for R samples\n",
    "        - S_df: (pd.DataFrame) df where cols are only for S samples\n",
    "\n",
    "    _this is a helper function to create a contigency table for each gene_\n",
    "    '''\n",
    "\n",
    "    # get the list of R and S samples:\n",
    "    R=[];S=[];U=[]\n",
    "    for sample in pheno_df.index:\n",
    "\n",
    "        if pheno_df.loc[sample].values[0]==1:\n",
    "            sample=str(sample)\n",
    "            if len(sample)==7:\n",
    "                sample+='0'\n",
    "            elif len(sample)==6:\n",
    "                sample+='00'\n",
    "            elif len(sample)==5:\n",
    "                sample+='000'\n",
    "            elif len(sample)==4:\n",
    "                sample+='0000'\n",
    "            R.append(str(sample))\n",
    "        elif pheno_df.loc[sample].values[0]==0:\n",
    "            sample=str(sample)\n",
    "            sample=str(sample)\n",
    "            if len(sample)==7:\n",
    "                sample+='0'\n",
    "            elif len(sample)==6:\n",
    "                sample+='00'\n",
    "            elif len(sample)==5:\n",
    "                sample+='000'\n",
    "            elif len(sample)==4:\n",
    "                sample+='0000'\n",
    "            S.append(str(sample))\n",
    "        else:\n",
    "            sample=str(sample)\n",
    "            if len(sample)==7:\n",
    "                sample+='0'\n",
    "            elif len(sample)==6:\n",
    "                sample+='00'\n",
    "            elif len(sample)==5:\n",
    "                sample+='000'\n",
    "            elif len(sample)==4:\n",
    "                sample+='0000'\n",
    "            U.append(str(sample))\n",
    "\n",
    "    R_df=_get_subdf_cols(unlabeled_presence_df, R_list)\n",
    "    S_df=_get_subdf_cols(unlabeled_presence_df, S_list)\n",
    "\n",
    "    return R_df, S_df"
   ]
  }
 ],
 "metadata": {
  "kernelspec": {
   "display_name": "base",
   "language": "python",
   "name": "python3"
  },
  "language_info": {
   "codemirror_mode": {
    "name": "ipython",
    "version": 3
   },
   "file_extension": ".py",
   "mimetype": "text/x-python",
   "name": "python",
   "nbconvert_exporter": "python",
   "pygments_lexer": "ipython3",
   "version": "3.12.2"
  }
 },
 "nbformat": 4,
 "nbformat_minor": 2
}
