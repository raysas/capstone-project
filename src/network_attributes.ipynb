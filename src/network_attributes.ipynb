{
 "cells": [
  {
   "cell_type": "code",
   "execution_count": 1,
   "metadata": {},
   "outputs": [],
   "source": [
    "import pandas as pd\n",
    "import numpy as np\n",
    "import matplotlib.pyplot as plt\n",
    "import networkx as nx\n",
    "\n",
    "def generate_phenotype_df(pheno_path:str, presence_df:pd.DataFrame=None)->pd.DataFrame:\n",
    "    '''\n",
    "    takes in a path to a phenotype file to make a df out of it\n",
    "    if a presence_df is provided, it will filter the pheno_df to only include samples that are in the presence_df\n",
    "\n",
    "    param:\n",
    "    ----\n",
    "        - pheno_path: str\n",
    "        - presence_df: pd.DataFrame (optional)\n",
    "\n",
    "    return:\n",
    "    ----\n",
    "        - pheno_df: pd.DataFrame\n",
    "    '''\n",
    "    pheno_df = pd.read_csv(pheno_path, index_col=0)\n",
    "\n",
    "    #samples stripped\n",
    "    if presence_df is not None:\n",
    "        samples_presence= presence_df.columns\n",
    "        mask = pheno_df.index.astype(str).isin(samples_presence)\n",
    "        pheno_df = pheno_df.loc[mask]\n",
    "\n",
    "    return pheno_df\n",
    "\n",
    "presence_path=\"../data/presence_matrices/Campylobacter_coli_presence_absence_T.csv\"\n",
    "presence_df= pd.read_csv(presence_path, index_col=0)\n",
    "# presence_df.index = presence_df.index.astype(str)\n",
    "\n",
    "for gene in presence_df.index:\n",
    "    if presence_df.loc[gene].std() == 0:\n",
    "        presence_df.drop(gene, inplace=True)\n",
    "\n",
    "pheno_path=\"../data/phenotypes/Campylobacter_coli_ciprofloxacin.csv\"\n",
    "pheno_df= generate_phenotype_df(pheno_path, presence_df)"
   ]
  },
  {
   "cell_type": "markdown",
   "metadata": {},
   "source": [
    "## Helpers:\n"
   ]
  },
  {
   "cell_type": "markdown",
   "metadata": {},
   "source": [
    "By convention the presence_matrix will always deignate a GxS table where rows represent genes and columns represent samples\n",
    "\n",
    "- split_matrix_by_phenotype(presence_matrix, phenotype_matrix): splits the presence matrix into two matrices, one R and one for S"
   ]
  },
  {
   "cell_type": "code",
   "execution_count": 2,
   "metadata": {},
   "outputs": [],
   "source": [
    "def split_matrix_by_phenotype(unlabeled_presence_df:pd.DataFrame, pheno_df: pd.DataFrame)->(pd.DataFrame, pd.DataFrame):\n",
    "    '''\n",
    "    takes a gene absence presence dataframe (n x m) with the samples classification and splits it to 2 dataframes:\n",
    "        - one that represents all R samples (samples found in R_list)\n",
    "        - one that represents all S samples (found in S_list)\n",
    "    and returns them in this order: R then S\n",
    "\n",
    "    param:\n",
    "    ------\n",
    "        - unlabeled_presence_df: (pd.DataFrame) the data frame output of data_utils.get_gene_presence_matrix\n",
    "        - R_list: (list) samples genome_id that have a R (1) phenotype\n",
    "        - S_list: (list) samples having the 0 phenotype\n",
    "    \n",
    "    return:\n",
    "    ------\n",
    "        - R_df: (pd.DataFrame) data frame where columns are only for R samples\n",
    "        - S_df: (pd.DataFrame) df where cols are only for S samples\n",
    "\n",
    "    '''\n",
    "\n",
    "\n",
    "    # make sure pheno_df doesnthave more samples than those specified in the presence_df, subsample it otherwise\n",
    "    samples_presence= unlabeled_presence_df.columns\n",
    "    mask = pheno_df.index.astype(str).isin(samples_presence)\n",
    "    pheno_df = pheno_df.loc[mask]\n",
    "\n",
    "    # get the list of R and S samples:\n",
    "    R=[];S=[];U=[]\n",
    "    for sample in pheno_df.index:\n",
    "\n",
    "        if pheno_df.loc[sample].values[0]==1:\n",
    "            sample=str(sample)\n",
    "            R.append(str(sample))\n",
    "        elif pheno_df.loc[sample].values[0]==0:\n",
    "            sample=str(sample)\n",
    "            S.append(str(sample))\n",
    "        else:\n",
    "            sample=str(sample)\n",
    "            U.append(str(sample))\n",
    "\n",
    "    # All we care for care R and S which designate the list of resistant and susceptible samples respectively\n",
    "\n",
    "    R_df = unlabeled_presence_df[R]\n",
    "    S_df = unlabeled_presence_df[S]\n",
    "\n",
    "    #make a subdf of all columns that are in S of the presence_df\n",
    "    \n",
    "\n",
    "    return R_df, S_df\n",
    "\n",
    "def split_samples_list_by_phenotype(pheno_df:pd.DataFrame)->(list,list):\n",
    "    '''\n",
    "    takes a dataframe of the phenotypes and splits the samples into 2 lists of samples\n",
    "\n",
    "    param:\n",
    "    ------\n",
    "        - pheno_df: pd.DataFrame\n",
    "    return:\n",
    "    ------\n",
    "        - R_list: list\n",
    "        - S_list: list\n",
    "    '''\n",
    "    # get the list of R and S samples:\n",
    "    R=[];S=[];U=[]\n",
    "    for sample in pheno_df.index:\n",
    "\n",
    "        if pheno_df.loc[sample].values[0]==1:\n",
    "            sample=str(sample)\n",
    "            R.append(str(sample))\n",
    "        elif pheno_df.loc[sample].values[0]==0:\n",
    "            sample=str(sample)\n",
    "            S.append(str(sample))\n",
    "        else:\n",
    "            sample=str(sample)\n",
    "            U.append(str(sample))\n",
    "\n",
    "    return R,S\n",
    "\n",
    "# R_df,S_df=split_matrix_by_phenotype(presence_df, pheno_df)"
   ]
  },
  {
   "cell_type": "code",
   "execution_count": 3,
   "metadata": {},
   "outputs": [],
   "source": [
    "R,S=split_samples_list_by_phenotype(pheno_df)\n",
    "# RS_counts_df"
   ]
  },
  {
   "cell_type": "code",
   "execution_count": null,
   "metadata": {},
   "outputs": [],
   "source": [
    "def generate_RS_presence_counts(R:pd.DataFrame, S:pd.DataFrame)->pd.DataFrame:\n",
    "    '''\n",
    "    Takes the presence matrix of R samples and S samples and returns a dataframe of the count of genes present and absent in each group of samples.\n",
    "\n",
    "    *This will memoize the entries needed for the log odds ratio computation.*\n",
    "\n",
    "    \n",
    "    e.g., output (w\\o the log odds):\n",
    "\n",
    "    | Gene       | R_present | R_absent | S_present | S_absent |\n",
    "    |------------|-----------|----------|-----------|----------|\n",
    "    | group_1001 | 96        | 0        | 187       | 0        |\n",
    "    | tig        | 96        | 0        | 187       | 0        |\n",
    "    | legF_1     | 96        | 0        | 187       | 0        |\n",
    "\n",
    "    param:\n",
    "    ----------------\n",
    "        - R: (pd.DataFrame) presence matrix of R samples (output of get_subdf_cols)\n",
    "        - S: (pd.DataFrame) presence matrix of S samples\n",
    "\n",
    "    return:\n",
    "    ----------------\n",
    "        - new_df: (pd.DataFrame) dataframe of the count of genes present and absent in each group of samples.\n",
    "\n",
    "    NOTE: it will perform the 0.5 correction - If for one gene any of the counts is 0, it will add 0.5 to all counts for that gene.\n",
    "\n",
    "    '''\n",
    "    R_present=R.sum(axis=1)\n",
    "    R_absent=R.shape[1] - R_present\n",
    "    S_present=S.sum(axis=1)\n",
    "    S_absent=S.shape[1]-S_present\n",
    "\n",
    "\n",
    "    new_df=pd.DataFrame({'R_present':R_present, 'R_absent':R_absent, 'S_present':S_present, 'S_absent':S_absent})\n",
    "\n",
    "    #the 0.5 correction:\n",
    "    for index in new_df.index:\n",
    "        row=list(new_df.loc[index])\n",
    "        if 0 in row: #check if any of the cols have value 0\n",
    "            new_df.loc[index]=new_df.loc[index]+0.5\n",
    "\n",
    "    return new_df\n",
    "\n",
    "RS_counts_df=generate_RS_presence_counts(R_df, S_df)"
   ]
  },
  {
   "cell_type": "markdown",
   "metadata": {},
   "source": [
    "#### log odds for nodes"
   ]
  },
  {
   "cell_type": "code",
   "execution_count": 20,
   "metadata": {},
   "outputs": [],
   "source": [
    "\n",
    "\n",
    "def compute_log_odds_ratio(RS_counts_df:pd.DataFrame)->pd.DataFrame:\n",
    "    '''\n",
    "    takes the RS_counts_df and computes the log odds ratio for each gene in the dataframe\n",
    "\n",
    "    param:\n",
    "    ------\n",
    "        - RS_counts_df: pd.DataFrame\n",
    "\n",
    "\n",
    "    return:\n",
    "    ------\n",
    "        - log_odds_df: pd.DataFrame\n",
    "    '''\n",
    "    #get the total number of samples in each group\n",
    "    n_R=len(R); n_S=len(S)\n",
    "\n",
    "\n",
    "    R_present=RS_counts_df['R_present']\n",
    "    R_absent=RS_counts_df['R_absent']\n",
    "    S_present=RS_counts_df['S_present']\n",
    "    S_absent=RS_counts_df['S_absent']\n",
    "\n",
    "    log_odds=np.log((R_present/R_absent)/(S_present/S_absent))\n",
    "\n",
    "    # print(log_odds)\n",
    "\n",
    "    df=pd.DataFrame({\"log_odds\":log_odds})\n",
    "    return df"
   ]
  },
  {
   "cell_type": "code",
   "execution_count": 21,
   "metadata": {},
   "outputs": [
    {
     "ename": "NameError",
     "evalue": "name 'RS_counts_df' is not defined",
     "output_type": "error",
     "traceback": [
      "\u001b[0;31m---------------------------------------------------------------------------\u001b[0m",
      "\u001b[0;31mNameError\u001b[0m                                 Traceback (most recent call last)",
      "Cell \u001b[0;32mIn[21], line 2\u001b[0m\n\u001b[1;32m      1\u001b[0m \u001b[38;5;66;03m#save log_odds in a csv\u001b[39;00m\n\u001b[0;32m----> 2\u001b[0m log_odds_df\u001b[38;5;241m=\u001b[39mcompute_log_odds_ratio(\u001b[43mRS_counts_df\u001b[49m, R, S)\n\u001b[1;32m      3\u001b[0m log_odds_df\u001b[38;5;241m.\u001b[39mto_csv(\u001b[38;5;124m\"\u001b[39m\u001b[38;5;124m../data/log_odds_nodes/Campylobacter_coli_ciprofloxacin_log_odds.csv\u001b[39m\u001b[38;5;124m\"\u001b[39m)\n",
      "\u001b[0;31mNameError\u001b[0m: name 'RS_counts_df' is not defined"
     ]
    }
   ],
   "source": [
    "#save log_odds in a csv\n",
    "log_odds_df=compute_log_odds_ratio(RS_counts_df, R, S)\n",
    "log_odds_df.to_csv(\"../data/log_odds_nodes/Campylobacter_coli_ciprofloxacin_log_odds.csv\")"
   ]
  },
  {
   "cell_type": "markdown",
   "metadata": {},
   "source": [
    "## gene-gene interactions"
   ]
  },
  {
   "cell_type": "markdown",
   "metadata": {},
   "source": [
    "### memoized dont run"
   ]
  },
  {
   "cell_type": "code",
   "execution_count": null,
   "metadata": {},
   "outputs": [],
   "source": [
    "def get_cooccurence_matrix(presence:pd.DataFrame)->pd.DataFrame:\n",
    "    '''\n",
    "    takes a binary GxS presence matrix and returns a GxG co-occurence matrix C \n",
    "    Cij= number of samples where gene i and gene j are both present\n",
    "    (can be performed by matrix multiplication - trace on paper to understand why this works)\n",
    "\n",
    "    input:\n",
    "        - df: (pd.DataFrame) binary matrix of genes and samples\n",
    "    output:\n",
    "        - G: (nx.Graph) network of gene-gene presence\n",
    "    '''\n",
    "    gene_copresence= presence.dot(presence.T)\n",
    "    return gene_copresence\n",
    "\n",
    "# get_cooccurence_matrix(presence_df)\n",
    "R_cooccurence = get_cooccurence_matrix(R_df)\n",
    "S_cooccurence = get_cooccurence_matrix(S_df)\n",
    "numR=len(R); numS=len(S)"
   ]
  },
  {
   "cell_type": "code",
   "execution_count": null,
   "metadata": {},
   "outputs": [],
   "source": [
    "#save R_cpoccurence and S_cooccurence in a csv\n",
    "R_cooccurence.to_csv(\"../data/test/Campylobacter_coli_ciprofloxacin_R_cooccurence.csv\")\n",
    "S_cooccurence.to_csv(\"../data/test/Campylobacter_coli_ciprofloxacin_S_cooccurence.csv\")"
   ]
  },
  {
   "cell_type": "code",
   "execution_count": null,
   "metadata": {},
   "outputs": [],
   "source": [
    "cor_matrix=presence_df.T.corr()\n",
    "gene_pairs=[]\n",
    "\n",
    "genes_num=cor_matrix.shape[0]\n",
    "for i in range(genes_num):\n",
    "    for j in range(i+1, genes_num):\n",
    "        if cor_matrix.iloc[i,j] > 0.6 or cor_matrix.iloc[i,j] < -0.6:\n",
    "            gene_pairs.append(cor_matrix.index[i]+\"-\"+ cor_matrix.columns[j])"
   ]
  },
  {
   "cell_type": "code",
   "execution_count": null,
   "metadata": {},
   "outputs": [],
   "source": [
    "with open(\"../data/gene_pairs/Campylobacter_coli_ciprofloxacin_corr_0.6.txt\", \"w\") as f:\n",
    "    for gene in gene_pairs:\n",
    "        f.write(gene+\"\\n\")"
   ]
  },
  {
   "cell_type": "markdown",
   "metadata": {},
   "source": [
    "### run"
   ]
  },
  {
   "cell_type": "code",
   "execution_count": 4,
   "metadata": {},
   "outputs": [],
   "source": [
    "with open(\"../data/gene_pairs/test1.csv\", \"r\") as f:\n",
    "    gene_pairs= f.readlines()\n",
    "    gene_pairs= [gene.strip() for gene in gene_pairs]\n",
    "R_cooccurence=pd.read_csv(\"../data/test/Campylobacter_coli_ciprofloxacin_R_cooccurence.csv\", index_col=0)\n",
    "S_cooccurence=pd.read_csv(\"../data/test/Campylobacter_coli_ciprofloxacin_S_cooccurence.csv\", index_col=0)"
   ]
  },
  {
   "cell_type": "code",
   "execution_count": 8,
   "metadata": {},
   "outputs": [],
   "source": [
    "def generate_RS_copresence_count(R_cooccurence:pd.DataFrame, S_cooccurence:pd.DataFrame, numR:int, numS:int, gene_pairs:list)->pd.DataFrame:\n",
    "    '''\n",
    "    Takes the co-occurence matrix of R samples and S samples and returns a dataframe of the count of genes copresent in each group of samples.\n",
    "    The rows represent all gene-gene pairs and 4 columns are present: R_present, R_absent, S_present, S_absent\n",
    "\n",
    "    *This will memoize the entries needed for the log odds ratio computation for gene-gene interaction*\n",
    "\n",
    "    \n",
    "    e.g., output (w\\o the log odds):\n",
    "\n",
    "    | Gene       | R_present | R_absent | S_present | S_absent |\n",
    "    |------------|-----------|----------|-----------|----------|\n",
    "    | G1-G2      | 96        | 0        | 187       | 0        |\n",
    "    | G1-G3      | 96        | 0        | 187       | 0        |\n",
    "    | G2-G3      | 96        | 0        | 187       | 0        |\n",
    "\n",
    "    This example is without the 0.5 correction:  \n",
    "        To ensure that the log odds ratio is defined, we will add 0.5 to all counts for each gene-gene pair if any of the counts is 0.\n",
    "\n",
    "    param:\n",
    "    ----------------\n",
    "        - R_cooccurence: (pd.DataFrame) co-occurence matrix of R samples (output of get_cooccurence_matrix)\n",
    "        - S_cooccurence: (pd.DataFrame) co-occurence matrix of S samples\n",
    "        - numR: (int) number of R samples\n",
    "        - numS: (int) number of S samples\n",
    "        - gene_pairs: (list) list of gene-gene pairs that have a |correlation| of 0.6 or more, each entry of the form \"gene1-gene2\"\n",
    "\n",
    "    return:\n",
    "    ----------------\n",
    "        - new_df: (pd.DataFrame) dataframe of the count of genes present in each group of samples.\n",
    "\n",
    "    NOTE: it will perform the 0.5 correction - If for one gene any of the counts is 0, it will add 0.5 to all counts for that gene.\n",
    "    '''\n",
    "\n",
    "\n",
    "    df=pd.DataFrame(columns=['R_present', 'R_absent', 'S_present', 'S_absent'])\n",
    "\n",
    "    for gene_pair in gene_pairs:\n",
    "        gene1=gene_pair.split(\"-\")[0]\n",
    "        gene2=gene_pair.split(\"-\")[1]\n",
    "        # print(gene1, gene2)\n",
    "\n",
    "        R_present=R_cooccurence.loc[gene1, gene2]\n",
    "        R_absent=numR - R_present\n",
    "        S_present=S_cooccurence.loc[gene1, gene2]\n",
    "        S_absent=numS - S_present\n",
    "\n",
    "        #the 0.5 correction:\n",
    "        if R_present==0 or R_absent==0 or S_present==0 or S_absent==0:\n",
    "            R_present+=0.5; R_absent+=0.5; S_present+=0.5; S_absent+=0.5\n",
    "\n",
    "        df.loc[gene1+\"-\"+gene2]=[R_present, R_absent, S_present, S_absent]\n",
    "\n",
    "        # print(gene_pair, df.loc[gene1+\"-\"+gene2])\n",
    "\n",
    "    print(df)\n",
    "\n",
    "    return df\n",
    "\n",
    "numR=len(R); numS=len(S)\n"
   ]
  },
  {
   "cell_type": "code",
   "execution_count": 9,
   "metadata": {},
   "outputs": [
    {
     "name": "stdout",
     "output_type": "stream",
     "text": [
      "                           R_present  R_absent  S_present  S_absent\n",
      "Cluster 0-Cluster 80            48.0      35.0       49.0     135.0\n",
      "Cluster 0-Cluster 187           48.0      35.0       51.0     133.0\n",
      "Cluster 0-Cluster 383           46.0      37.0       52.0     132.0\n",
      "Cluster 0-Cluster 394           49.0      34.0       53.0     131.0\n",
      "Cluster 0-Cluster 742           49.0      34.0       53.0     131.0\n",
      "...                              ...       ...        ...       ...\n",
      "Cluster 1633-Cluster 2929        0.5      83.5        1.5     183.5\n",
      "Cluster 1633-Cluster 2958        0.5      83.5        1.5     183.5\n",
      "Cluster 1633-Cluster 2986        0.5      83.5        1.5     183.5\n",
      "Cluster 1633-Cluster 3049        0.5      83.5        1.5     183.5\n",
      "Cluster 1633-Cluster 3080        0.5      83.5        1.5     183.5\n",
      "\n",
      "[29993 rows x 4 columns]\n"
     ]
    }
   ],
   "source": [
    "with open(\"../data/gene_pairs/test1.csv\", \"r\") as f:\n",
    "    gene_pairs= f.readlines()\n",
    "    gene_pairs= [gene.strip() for gene in gene_pairs]\n",
    "RS_copresence_df=generate_RS_copresence_count(R_cooccurence, S_cooccurence, numR, numS, gene_pairs)\n",
    "RS_copresence_df.to_csv(\"../data/test/RS_copresence_df_1.csv\")"
   ]
  },
  {
   "cell_type": "code",
   "execution_count": null,
   "metadata": {},
   "outputs": [],
   "source": [
    "with open(\"../data/gene_pairs/test2.csv\", \"r\") as f:\n",
    "    gene_pairs= f.readlines()\n",
    "    gene_pairs= [gene.strip() for gene in gene_pairs]\n",
    "RS_copresence_df=generate_RS_copresence_count(R_cooccurence, S_cooccurence, numR, numS, gene_pairs)\n",
    "RS_copresence_df.to_csv(\"../data/test/RS_copresence_df_2.csv\",index=0)"
   ]
  },
  {
   "cell_type": "code",
   "execution_count": null,
   "metadata": {},
   "outputs": [],
   "source": [
    "with open(\"../data/gene_pairs/test3.csv\", \"r\") as f:\n",
    "    gene_pairs= f.readlines()\n",
    "    gene_pairs= [gene.strip() for gene in gene_pairs]\n",
    "RS_copresence_df=generate_RS_copresence_count(R_cooccurence, S_cooccurence, numR, numS, gene_pairs)\n",
    "RS_copresence_df.to_csv(\"../data/test/RS_copresence_df_3.csv\",index=0)"
   ]
  },
  {
   "cell_type": "code",
   "execution_count": 12,
   "metadata": {},
   "outputs": [
    {
     "data": {
      "text/plain": [
       "Index(['Cluster 0-Cluster 80', 'Cluster 0-Cluster 187',\n",
       "       'Cluster 0-Cluster 383', 'Cluster 0-Cluster 394',\n",
       "       'Cluster 0-Cluster 742', 'Cluster 0-Cluster 1047',\n",
       "       'Cluster 0-Cluster 1191', 'Cluster 0-Cluster 1260',\n",
       "       'Cluster 0-Cluster 1580', 'Cluster 0-Cluster 1648',\n",
       "       ...\n",
       "       'Cluster 1633-Cluster 2325', 'Cluster 1633-Cluster 2483',\n",
       "       'Cluster 1633-Cluster 2626', 'Cluster 1633-Cluster 2687',\n",
       "       'Cluster 1633-Cluster 2820', 'Cluster 1633-Cluster 2929',\n",
       "       'Cluster 1633-Cluster 2958', 'Cluster 1633-Cluster 2986',\n",
       "       'Cluster 1633-Cluster 3049', 'Cluster 1633-Cluster 3080'],\n",
       "      dtype='object', length=29993)"
      ]
     },
     "execution_count": 12,
     "metadata": {},
     "output_type": "execute_result"
    }
   ],
   "source": [
    "RS_copresence_df.index"
   ]
  },
  {
   "cell_type": "code",
   "execution_count": 16,
   "metadata": {},
   "outputs": [
    {
     "name": "stdout",
     "output_type": "stream",
     "text": [
      "Index(['Cluster 0-Cluster 80', 'Cluster 0-Cluster 187',\n",
      "       'Cluster 0-Cluster 383', 'Cluster 0-Cluster 394',\n",
      "       'Cluster 0-Cluster 742', 'Cluster 0-Cluster 1047',\n",
      "       'Cluster 0-Cluster 1191', 'Cluster 0-Cluster 1260',\n",
      "       'Cluster 0-Cluster 1580', 'Cluster 0-Cluster 1648',\n",
      "       ...\n",
      "       'Cluster 1633-Cluster 2325', 'Cluster 1633-Cluster 2483',\n",
      "       'Cluster 1633-Cluster 2626', 'Cluster 1633-Cluster 2687',\n",
      "       'Cluster 1633-Cluster 2820', 'Cluster 1633-Cluster 2929',\n",
      "       'Cluster 1633-Cluster 2958', 'Cluster 1633-Cluster 2986',\n",
      "       'Cluster 1633-Cluster 3049', 'Cluster 1633-Cluster 3080'],\n",
      "      dtype='object', length=29993)\n",
      "Cluster 0-Cluster 80         1.329307\n",
      "Cluster 0-Cluster 187        1.274376\n",
      "Cluster 0-Cluster 383        1.149282\n",
      "Cluster 0-Cluster 394        1.270365\n",
      "Cluster 0-Cluster 742        1.270365\n",
      "                               ...   \n",
      "Cluster 1633-Cluster 2929   -0.311244\n",
      "Cluster 1633-Cluster 2958   -0.311244\n",
      "Cluster 1633-Cluster 2986   -0.311244\n",
      "Cluster 1633-Cluster 3049   -0.311244\n",
      "Cluster 1633-Cluster 3080   -0.311244\n",
      "Length: 29993, dtype: float64\n"
     ]
    },
    {
     "name": "stderr",
     "output_type": "stream",
     "text": [
      "/home/raysas/miniconda3/lib/python3.11/site-packages/pandas/core/arraylike.py:396: RuntimeWarning: invalid value encountered in log\n",
      "  result = getattr(ufunc, method)(*inputs, **kwargs)\n"
     ]
    }
   ],
   "source": [
    "def compute_association_log_odds(RS_cooccurence: pd.DataFrame)->pd.DataFrame:\n",
    "    '''\n",
    "    takes a RS_cooccurence G^2 x 4 matrix and computes the log odds of all gene pairs\n",
    "    The idea is to compute the cooccurence log odds of resistance: \n",
    "        log ( a * d / c * b )  \n",
    "        such that\n",
    "        \n",
    "         - a: is the number of strains that have both genes and are resistant\n",
    "         - b: is the number of strains that do not have both genes and are resistant\n",
    "         - c: is the of strains that have both genes and are susceptible\n",
    "         - d: is the number of strains that do not have both genes and are susceptible\n",
    "\n",
    "    param: \n",
    "    -------\n",
    "    - RS_cooccurence: pd.Dataframe, G^2 x 4 matrix that contains the counts of copresence and coabsences of all gene pairs\n",
    "    \n",
    "    return:\n",
    "    --------\n",
    "    - log_odds_df: pd.DataFrame, the log odds calc of each pair of gene\n",
    "\n",
    "    _all logs are computable given that RS_cooccurence have gone through the 0.5 correction_\n",
    "\n",
    "    '''\n",
    "    R_copresent=RS_cooccurence['R_present']\n",
    "    R_coabsent=RS_cooccurence['R_absent']\n",
    "    S_copresent=RS_cooccurence['S_present']\n",
    "    S_coabsent=RS_cooccurence['S_absent']\n",
    "    indices=RS_cooccurence.index\n",
    "    print(indices)\n",
    "\n",
    "    log_odds=np.log((R_copresent/R_coabsent)/(S_copresent/S_coabsent))\n",
    "\n",
    "    print(log_odds)\n",
    "\n",
    "    df=pd.DataFrame({\"log_odds\":log_odds}, index=indices)\n",
    "\n",
    "    return df\n",
    "\n",
    "log_odds_gene_pairs=compute_association_log_odds(RS_copresence_df)\n",
    "log_odds_gene_pairs.to_csv(\"../data/gene_pairs/Campylobacter_coli_cooccurence_log_odds.csv\")"
   ]
  },
  {
   "cell_type": "code",
   "execution_count": 14,
   "metadata": {},
   "outputs": [
    {
     "data": {
      "text/html": [
       "<div>\n",
       "<style scoped>\n",
       "    .dataframe tbody tr th:only-of-type {\n",
       "        vertical-align: middle;\n",
       "    }\n",
       "\n",
       "    .dataframe tbody tr th {\n",
       "        vertical-align: top;\n",
       "    }\n",
       "\n",
       "    .dataframe thead th {\n",
       "        text-align: right;\n",
       "    }\n",
       "</style>\n",
       "<table border=\"1\" class=\"dataframe\">\n",
       "  <thead>\n",
       "    <tr style=\"text-align: right;\">\n",
       "      <th></th>\n",
       "      <th>log_odds</th>\n",
       "    </tr>\n",
       "  </thead>\n",
       "  <tbody>\n",
       "    <tr>\n",
       "      <th>Cluster 0-Cluster 80</th>\n",
       "      <td>1.329307</td>\n",
       "    </tr>\n",
       "    <tr>\n",
       "      <th>Cluster 0-Cluster 187</th>\n",
       "      <td>1.274376</td>\n",
       "    </tr>\n",
       "    <tr>\n",
       "      <th>Cluster 0-Cluster 383</th>\n",
       "      <td>1.149282</td>\n",
       "    </tr>\n",
       "    <tr>\n",
       "      <th>Cluster 0-Cluster 394</th>\n",
       "      <td>1.270365</td>\n",
       "    </tr>\n",
       "    <tr>\n",
       "      <th>Cluster 0-Cluster 742</th>\n",
       "      <td>1.270365</td>\n",
       "    </tr>\n",
       "    <tr>\n",
       "      <th>...</th>\n",
       "      <td>...</td>\n",
       "    </tr>\n",
       "    <tr>\n",
       "      <th>Cluster 1633-Cluster 2929</th>\n",
       "      <td>-0.311244</td>\n",
       "    </tr>\n",
       "    <tr>\n",
       "      <th>Cluster 1633-Cluster 2958</th>\n",
       "      <td>-0.311244</td>\n",
       "    </tr>\n",
       "    <tr>\n",
       "      <th>Cluster 1633-Cluster 2986</th>\n",
       "      <td>-0.311244</td>\n",
       "    </tr>\n",
       "    <tr>\n",
       "      <th>Cluster 1633-Cluster 3049</th>\n",
       "      <td>-0.311244</td>\n",
       "    </tr>\n",
       "    <tr>\n",
       "      <th>Cluster 1633-Cluster 3080</th>\n",
       "      <td>-0.311244</td>\n",
       "    </tr>\n",
       "  </tbody>\n",
       "</table>\n",
       "<p>29993 rows × 1 columns</p>\n",
       "</div>"
      ],
      "text/plain": [
       "                           log_odds\n",
       "Cluster 0-Cluster 80       1.329307\n",
       "Cluster 0-Cluster 187      1.274376\n",
       "Cluster 0-Cluster 383      1.149282\n",
       "Cluster 0-Cluster 394      1.270365\n",
       "Cluster 0-Cluster 742      1.270365\n",
       "...                             ...\n",
       "Cluster 1633-Cluster 2929 -0.311244\n",
       "Cluster 1633-Cluster 2958 -0.311244\n",
       "Cluster 1633-Cluster 2986 -0.311244\n",
       "Cluster 1633-Cluster 3049 -0.311244\n",
       "Cluster 1633-Cluster 3080 -0.311244\n",
       "\n",
       "[29993 rows x 1 columns]"
      ]
     },
     "execution_count": 14,
     "metadata": {},
     "output_type": "execute_result"
    }
   ],
   "source": [
    "log_odds_gene_pairs"
   ]
  },
  {
   "cell_type": "code",
   "execution_count": 17,
   "metadata": {},
   "outputs": [],
   "source": [
    "t1=pd.read_csv(\"../data/test/RS_copresence_df_1.csv\")\n",
    "t2=pd.read_csv(\"../data/test/RS_copresence_df_2.csv\")\n",
    "t3=pd.read_csv(\"../data/test/RS_copresence_df_3.csv\")\n",
    "\n",
    "#concatenate the 3 dfs\n",
    "t=pd.concat([t1,t2,t3])\n",
    "t.to_csv(\"../data/test/RS_copresence_df.csv\", index=0)"
   ]
  }
 ],
 "metadata": {
  "kernelspec": {
   "display_name": "base",
   "language": "python",
   "name": "python3"
  },
  "language_info": {
   "codemirror_mode": {
    "name": "ipython",
    "version": 3
   },
   "file_extension": ".py",
   "mimetype": "text/x-python",
   "name": "python",
   "nbconvert_exporter": "python",
   "pygments_lexer": "ipython3",
   "version": "3.11.5"
  }
 },
 "nbformat": 4,
 "nbformat_minor": 2
}
