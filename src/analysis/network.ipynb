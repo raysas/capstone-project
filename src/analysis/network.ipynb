{
 "cells": [
  {
   "cell_type": "code",
   "execution_count": 1,
   "metadata": {},
   "outputs": [],
   "source": [
    "import networkx as nx\n",
    "import matplotlib.pyplot as plt\n",
    "import numpy as np\n",
    "import pandas as pd\n",
    "import sys\n",
    "import os\n",
    "\n",
    "sys.path.append(os.path.abspath(\"..\")) #adds src to python path\n",
    "\n",
    "\n",
    "def compute_network_stats(G, network_name=\"test\"):\n",
    "    if type(G) == str:\n",
    "        #if its given a gml file path\n",
    "        G = nx.read_gml(G)\n",
    "    largest_cc = max(nx.connected_components(G), key=len)\n",
    "    largest_cc_subgraph = G.subgraph(largest_cc)\n",
    "    stats = {\n",
    "        \"Network\": network_name,\n",
    "        \"|N|\": G.number_of_nodes(),\n",
    "        \"|V|\": G.number_of_edges(),\n",
    "        \"Density\": nx.density(G),\n",
    "        \"<k>\": np.mean(list(dict(G.degree()).values())),\n",
    "        \"<k> weighted\": np.mean(list(dict(G.degree(weight='weight')).values())),\n",
    "        \"<cc>\": nx.average_clustering(G),\n",
    "        \"<spath>\": nx.average_shortest_path_length(largest_cc_subgraph),\n",
    "        \"d\": nx.diameter(largest_cc_subgraph)\n",
    "    }\n",
    "    \n",
    "    return stats"
   ]
  },
  {
   "cell_type": "code",
   "execution_count": 10,
   "metadata": {},
   "outputs": [
    {
     "data": {
      "text/plain": [
       "'/home/rayane/capstone-project/src/analysis'"
      ]
     },
     "execution_count": 10,
     "metadata": {},
     "output_type": "execute_result"
    }
   ],
   "source": [
    "os.getcwd()"
   ]
  },
  {
   "cell_type": "code",
   "execution_count": null,
   "metadata": {},
   "outputs": [],
   "source": [
    "stat1=compute_network_stats(G1, \"31 strepto t=0.1\")\n",
    "stat2=compute_network_stats(G2, \"31 strepto t=0.2\")\n",
    "stat3=compute_network_stats(G3, \"31 strepto t=0.3\")\n",
    "stat4=compute_network_stats(G4, \"31 strepto t=0.4\")\n",
    "stat5=compute_network_stats(G5, \"31 strepto t=0.5\")\n",
    "stat6=compute_network_stats(G6, \"31 strepto t=0.6\")\n",
    "stat7=compute_network_stats(G7, \"31 strepto t=0.7\")\n",
    "stat8=compute_network_stats(G8, \"31 strepto t=0.8\")\n",
    "stat9=compute_network_stats(G9, \"31 strepto t=0.9\")\n",
    "stat10=compute_network_stats(G10, \"31 strepto t=1.0\")"
   ]
  },
  {
   "cell_type": "code",
   "execution_count": 11,
   "metadata": {},
   "outputs": [],
   "source": [
    "G1=nx.read_gml(\"../../data/graphs/1.1_gene-gene_presence_0.1_strepto_31.gml\")\n",
    "G2=nx.read_gml(\"../../data/graphs/1.1_gene-gene_presence_0.2_strepto_31.gml\")\n",
    "G3=nx.read_gml(\"../../data/graphs/1.1_gene-gene_presence_0.3_strepto_31.gml\")\n",
    "G4=nx.read_gml(\"../../data/graphs/1.1_gene-gene_presence_0.4_strepto_31.gml\")\n",
    "G5=nx.read_gml(\"../../data/graphs/1.1_gene-gene_presence_0.5_strepto_31.gml\")\n",
    "G6=nx.read_gml(\"../../data/graphs/1.1_gene-gene_presence_0.6_strepto_31.gml\")\n",
    "G7=nx.read_gml(\"../../data/graphs/1.1_gene-gene_presence_0.7_strepto_31.gml\")\n",
    "G8=nx.read_gml(\"../../data/graphs/1.1_gene-gene_presence_0.8_strepto_31.gml\")\n",
    "G9=nx.read_gml(\"../../data/graphs/1.1_gene-gene_presence_0.9_strepto_31.gml\")\n",
    "G10=nx.read_gml(\"../../data/graphs/1.1_gene-gene_presence_1.0_strepto_31.gml\")\n"
   ]
  }
 ],
 "metadata": {
  "kernelspec": {
   "display_name": "base",
   "language": "python",
   "name": "python3"
  },
  "language_info": {
   "codemirror_mode": {
    "name": "ipython",
    "version": 3
   },
   "file_extension": ".py",
   "mimetype": "text/x-python",
   "name": "python",
   "nbconvert_exporter": "python",
   "pygments_lexer": "ipython3",
   "version": "3.12.2"
  }
 },
 "nbformat": 4,
 "nbformat_minor": 2
}
