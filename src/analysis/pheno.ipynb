{
 "cells": [
  {
   "cell_type": "code",
   "execution_count": 6,
   "metadata": {},
   "outputs": [
    {
     "data": {
      "text/plain": [
       "'/home/rayane/capstone-project/src/analysis'"
      ]
     },
     "execution_count": 6,
     "metadata": {},
     "output_type": "execute_result"
    }
   ],
   "source": [
    "import matplotlib.pyplot as plt\n",
    "import pandas as pd\n",
    "import os\n",
    "import plotly.express as px\n",
    "import matplotlib.pyplot as plt\n",
    "\n",
    "pheno_dir_path=\"../../data/phenotypes\"\n",
    "os.getcwd()\n"
   ]
  },
  {
   "cell_type": "markdown",
   "metadata": {},
   "source": [
    "### Checking class balance"
   ]
  },
  {
   "cell_type": "markdown",
   "metadata": {},
   "source": [
    "#### Acinetobacter baumannii"
   ]
  },
  {
   "cell_type": "code",
   "execution_count": 16,
   "metadata": {},
   "outputs": [],
   "source": [
    "files=os.listdir(pheno_dir_path)\n",
    "pheno_files=[os.path.join(pheno_dir_path, f) for f in files if f.endswith(\".csv\")]\n",
    "\n",
    "metadata=\"../../metadata/phenotypes/class_distribution\"\n",
    "\n",
    "\n",
    "for pheno_file in pheno_files:\n",
    "    pheno = pd.read_csv(pheno_file, index_col=0)\n",
    "    pheno[\"SIR\"] = pheno[\"SIR\"].astype(str)\n",
    "\n",
    "    plt.figure(figsize=(5, 5))\n",
    "    plt.hist(pheno[\"SIR\"], bins=3, color='skyblue', edgecolor='black', alpha=0.7)\n",
    "    plt.title(pheno_file.split(\"/\")[-1])\n",
    "    plt.xlabel('SIR')\n",
    "    plt.ylabel('Frequency')\n",
    "\n",
    "    output_path = metadata + \"/\" + pheno_file.split(\"/\")[-1].replace(\".csv\", \".png\")\n",
    "\n",
    "    os.makedirs(os.path.dirname(output_path), exist_ok=True) #to fix error\n",
    "    plt.savefig(output_path)\n",
    "    plt.close()\n",
    "\n"
   ]
  },
  {
   "cell_type": "code",
   "execution_count": 33,
   "metadata": {},
   "outputs": [
    {
     "name": "stdout",
     "output_type": "stream",
     "text": [
      "/home/rayane/miniconda3/bin/python\n"
     ]
    }
   ],
   "source": [
    "import sys\n",
    "print(sys.executable)"
   ]
  }
 ],
 "metadata": {
  "kernelspec": {
   "display_name": "base",
   "language": "python",
   "name": "python3"
  },
  "language_info": {
   "codemirror_mode": {
    "name": "ipython",
    "version": 3
   },
   "file_extension": ".py",
   "mimetype": "text/x-python",
   "name": "python",
   "nbconvert_exporter": "python",
   "pygments_lexer": "ipython3",
   "version": "3.12.2"
  }
 },
 "nbformat": 4,
 "nbformat_minor": 2
}
