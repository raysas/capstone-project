{
 "cells": [
  {
   "cell_type": "code",
   "execution_count": 6,
   "metadata": {},
   "outputs": [
    {
     "data": {
      "text/plain": [
       "'/home/rayane/capstone-project/src/analysis'"
      ]
     },
     "execution_count": 6,
     "metadata": {},
     "output_type": "execute_result"
    }
   ],
   "source": [
    "import matplotlib.pyplot as plt\n",
    "import pandas as pd\n",
    "import os\n",
    "import plotly.express as px\n",
    "import matplotlib.pyplot as plt\n",
    "\n",
    "pheno_dir_path=\"../../data/phenotypes\"\n",
    "os.getcwd()\n"
   ]
  },
  {
   "cell_type": "markdown",
   "metadata": {},
   "source": [
    "### Checking class balance"
   ]
  },
  {
   "cell_type": "code",
   "execution_count": 17,
   "metadata": {},
   "outputs": [],
   "source": [
    "files=os.listdir(pheno_dir_path)\n",
    "pheno_files=[os.path.join(pheno_dir_path, f) for f in files if f.endswith(\".csv\")]\n",
    "\n",
    "metadata=\"../../metadata/phenotypes/class_distribution\""
   ]
  },
  {
   "cell_type": "markdown",
   "metadata": {},
   "source": [
    "#### Acinetobacter baumannii"
   ]
  },
  {
   "cell_type": "code",
   "execution_count": 21,
   "metadata": {},
   "outputs": [],
   "source": [
    "output_dir=os.path.join(metadata, \"Acinetobacter_baumannii\")\n",
    "os.makedirs(output_dir, exist_ok=True)\n",
    "\n",
    "Acinetrobacter_baumannii_files = [f for f in pheno_files if \"Acinetobacter_baumannii\" in f]\n",
    "\n",
    "for pheno_file in Acinetrobacter_baumannii_files:\n",
    "    pheno = pd.read_csv(pheno_file, index_col=0)\n",
    "    pheno[\"SIR\"] = pheno[\"SIR\"].astype(str)\n",
    "\n",
    "    plt.figure(figsize=(5, 5))\n",
    "    plt.hist(pheno[\"SIR\"], bins=3, color='skyblue', edgecolor='black', alpha=0.7)\n",
    "    plt.title(pheno_file.split(\"/\")[-1])\n",
    "    plt.xlabel('SIR')\n",
    "    plt.ylabel('Frequency')\n",
    "\n",
    "    output_path = output_dir + \"/\" + pheno_file.split(\"/\")[-1].replace(\".csv\", \".png\")\n",
    "\n",
    "    plt.savefig(output_path)\n",
    "    plt.close()\n",
    "\n"
   ]
  },
  {
   "cell_type": "markdown",
   "metadata": {},
   "source": [
    "#### All others"
   ]
  },
  {
   "cell_type": "code",
   "execution_count": 24,
   "metadata": {},
   "outputs": [
    {
     "ename": "IndexError",
     "evalue": "list index out of range",
     "output_type": "error",
     "traceback": [
      "\u001b[0;31m---------------------------------------------------------------------------\u001b[0m",
      "\u001b[0;31mIndexError\u001b[0m                                Traceback (most recent call last)",
      "Cell \u001b[0;32mIn[24], line 17\u001b[0m\n\u001b[1;32m     14\u001b[0m all_dirs \u001b[38;5;241m=\u001b[39m [Acinetrobacter_baumannii_files,Campylobacter_jejuni_files, Campylobacter_coli_files, Enterobacter_cloacae_files, Escherichia_coli_files, Enterococcus_faecium_files, Klebsiella_pneumoniae_files, Neisseria_gonorrhoeae_files, Pseudomonas_aeruginosa_files, Salmonella_enterica_files, Staphylococcus_aureus_files, Streptococcus_agalactiae_files]\n\u001b[1;32m     16\u001b[0m \u001b[38;5;28;01mfor\u001b[39;00m sp_dir \u001b[38;5;129;01min\u001b[39;00m all_dirs:\n\u001b[0;32m---> 17\u001b[0m     output_dir\u001b[38;5;241m=\u001b[39mos\u001b[38;5;241m.\u001b[39mpath\u001b[38;5;241m.\u001b[39mjoin(metadata, \u001b[43msp_dir\u001b[49m\u001b[43m[\u001b[49m\u001b[38;5;241;43m0\u001b[39;49m\u001b[43m]\u001b[49m\u001b[38;5;241m.\u001b[39msplit(\u001b[38;5;124m\"\u001b[39m\u001b[38;5;124m/\u001b[39m\u001b[38;5;124m\"\u001b[39m)[\u001b[38;5;241m-\u001b[39m\u001b[38;5;241m1\u001b[39m]\u001b[38;5;241m.\u001b[39msplit(\u001b[38;5;124m\"\u001b[39m\u001b[38;5;124m_\u001b[39m\u001b[38;5;124m\"\u001b[39m)[\u001b[38;5;241m0\u001b[39m]\u001b[38;5;241m+\u001b[39m\u001b[38;5;124m\"\u001b[39m\u001b[38;5;124m_\u001b[39m\u001b[38;5;124m\"\u001b[39m\u001b[38;5;241m+\u001b[39msp_dir[\u001b[38;5;241m0\u001b[39m]\u001b[38;5;241m.\u001b[39msplit(\u001b[38;5;124m\"\u001b[39m\u001b[38;5;124m/\u001b[39m\u001b[38;5;124m\"\u001b[39m)[\u001b[38;5;241m-\u001b[39m\u001b[38;5;241m1\u001b[39m]\u001b[38;5;241m.\u001b[39msplit(\u001b[38;5;124m\"\u001b[39m\u001b[38;5;124m_\u001b[39m\u001b[38;5;124m\"\u001b[39m)[\u001b[38;5;241m1\u001b[39m])\n\u001b[1;32m     18\u001b[0m     os\u001b[38;5;241m.\u001b[39mmakedirs(output_dir, exist_ok\u001b[38;5;241m=\u001b[39m\u001b[38;5;28;01mTrue\u001b[39;00m)\n\u001b[1;32m     20\u001b[0m     \u001b[38;5;28;01mfor\u001b[39;00m pheno_file \u001b[38;5;129;01min\u001b[39;00m sp_dir:\n",
      "\u001b[0;31mIndexError\u001b[0m: list index out of range"
     ]
    }
   ],
   "source": [
    "Acinetrobacter_baumannii_files = [f for f in pheno_files if \"Acinetobacter_baumannii\" in f]\n",
    "Campylobacter_jejuni_files = [f for f in pheno_files if \"Campylobacter_jejuni\" in f]\n",
    "Campylobacter_coli_files = [f for f in pheno_files if \"Campylobacter_coli\" in f]\n",
    "Enterobacter_cloacae_files = [f for f in pheno_files if \"Enterobacter_cloacae\" in f]\n",
    "Escherichia_coli_files = [f for f in pheno_files if \"Escherichia_coli\" in f]\n",
    "Enterococcus_faecium_files = [f for f in pheno_files if \"Enterococcus_faecium\" in f]\n",
    "Klebsiella_pneumoniae_files = [f for f in pheno_files if \"Klebsiella_pneumoniae\" in f]\n",
    "Neisseria_gonorrhoeae_files = [f for f in pheno_files if \"Neisseria_gonorrhoeae\" in f]\n",
    "Pseudomonas_aeruginosa_files = [f for f in pheno_files if \"Pseudomonas_aeruginosa\" in f]\n",
    "Salmonella_enterica_files = [f for f in pheno_files if \"Salmonella_enterica\" in f]\n",
    "Staphylococcus_aureus_files = [f for f in pheno_files if \"Staphylococcus_aureus\" in f]\n",
    "Streptococcus_agalactiae_files = [f for f in pheno_files if \"Streptococcus_agalactiae\" in f]\n",
    "\n",
    "all_dirs = [Acinetrobacter_baumannii_files,Campylobacter_jejuni_files, Campylobacter_coli_files, Enterobacter_cloacae_files, Escherichia_coli_files, Enterococcus_faecium_files, Klebsiella_pneumoniae_files, Neisseria_gonorrhoeae_files, Pseudomonas_aeruginosa_files, Salmonella_enterica_files, Staphylococcus_aureus_files, Streptococcus_agalactiae_files]\n",
    "\n",
    "for sp_dir in all_dirs:\n",
    "    output_dir=os.path.join(metadata, sp_dir[0].split(\"/\")[-1].split(\"_\")[0]+\"_\"+sp_dir[0].split(\"/\")[-1].split(\"_\")[1])\n",
    "    os.makedirs(output_dir, exist_ok=True)\n",
    "\n",
    "    for pheno_file in sp_dir:\n",
    "        pheno = pd.read_csv(pheno_file, index_col=0)\n",
    "        pheno[\"SIR\"] = pheno[\"SIR\"].astype(str)\n",
    "\n",
    "        plt.figure(figsize=(5, 5))\n",
    "        plt.hist(pheno[\"SIR\"], bins=3, color='skyblue', edgecolor='black', alpha=0.7)\n",
    "        plt.title(pheno_file.split(\"/\")[-1])\n",
    "        plt.xlabel('SIR')\n",
    "        plt.ylabel('Frequency')\n",
    "\n",
    "        output_path = output_dir + \"/\" + pheno_file.split(\"/\")[-1].replace(\".csv\", \".png\")\n",
    "\n",
    "        plt.savefig(output_path)\n",
    "        plt.close()"
   ]
  }
 ],
 "metadata": {
  "kernelspec": {
   "display_name": "base",
   "language": "python",
   "name": "python3"
  },
  "language_info": {
   "codemirror_mode": {
    "name": "ipython",
    "version": 3
   },
   "file_extension": ".py",
   "mimetype": "text/x-python",
   "name": "python",
   "nbconvert_exporter": "python",
   "pygments_lexer": "ipython3",
   "version": "3.12.2"
  }
 },
 "nbformat": 4,
 "nbformat_minor": 2
}
