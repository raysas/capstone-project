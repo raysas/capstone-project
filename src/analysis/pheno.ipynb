{
 "cells": [
  {
   "cell_type": "code",
   "execution_count": 18,
   "metadata": {},
   "outputs": [],
   "source": [
    "import matplotlib.pyplot as plt\n",
    "import pandas as pd\n",
    "import os\n",
    "import plotly.express as px\n",
    "os.getcwd()\n",
    "\n",
    "pheno_dir_path=\"../../data/phenotypes\""
   ]
  },
  {
   "cell_type": "markdown",
   "metadata": {},
   "source": [
    "### Checking class balance"
   ]
  },
  {
   "cell_type": "markdown",
   "metadata": {},
   "source": [
    "#### Acinetobacter baumannii"
   ]
  },
  {
   "cell_type": "code",
   "execution_count": 38,
   "metadata": {},
   "outputs": [
    {
     "name": "stdout",
     "output_type": "stream",
     "text": [
      "../../metadata/phenotyopes/class_distribution/Pseudomonas_aeruginosa_gentamicin.png\n"
     ]
    },
    {
     "ename": "ValueError",
     "evalue": "\nThe orca executable is required to export figures as static images,\nbut it could not be found on the system path.\n\nSearched for executable 'orca' on the following path:\n    /home/rayane/miniconda3/bin\n    /home/rayane/.vscode-server/bin/863d2581ecda6849923a2118d93a088b0745d9d6/bin/remote-cli\n    /home/rayane/miniconda3/bin\n    /home/rayane/miniconda3/condabin\n    /usr/local/sbin\n    /usr/local/bin\n    /usr/sbin\n    /usr/bin\n    /sbin\n    /bin\n    /usr/games\n    /usr/local/games\n    /usr/lib/wsl/lib\n    /mnt/c/Program Files/Python312/Scripts\n    /mnt/c/Program Files/Python312\n    /mnt/c/Program Files (x86)/Common Files/Oracle/Java/javapath\n    /mnt/c/Windows/system32\n    /mnt/c/Windows\n    /mnt/c/Windows/System32/Wbem\n    /mnt/c/Windows/System32/WindowsPowerShell/v1.0\n    /mnt/c/Windows/System32/OpenSSH\n    /mnt/c/Program Files/MATLAB/R2023a/runtime/win64\n    /mnt/c/Program Files/MATLAB/R2023a/bin\n    /mnt/c/ProgramData/chocolatey/bin\n    /mnt/c/Program Files/Java/jdk1.8.0_05/bin\n    /mnt/c/Users/rayane.adam/AppData/Local/Microsoft/WindowsApps\n    /mnt/c/Users/rayane.adam/AppData/Local/Programs/Microsoft VS Code/bin\n    /mnt/c/Users/rayane.adam/AppData/Roaming/TinyTeX/bin/windows\n    /snap/bin\n\nIf you haven't installed orca yet, you can do so using conda as follows:\n\n    $ conda install -c plotly plotly-orca\n\nAlternatively, see other installation methods in the orca project README at\nhttps://github.com/plotly/orca\n\nAfter installation is complete, no further configuration should be needed.\n\nIf you have installed orca, then for some reason plotly.py was unable to\nlocate it. In this case, set the `plotly.io.orca.config.executable`\nproperty to the full path of your orca executable. For example:\n\n    >>> plotly.io.orca.config.executable = '/path/to/orca'\n\nAfter updating this executable property, try the export operation again.\nIf it is successful then you may want to save this configuration so that it\nwill be applied automatically in future sessions. You can do this as follows:\n\n    >>> plotly.io.orca.config.save()\n\nIf you're still having trouble, feel free to ask for help on the forums at\nhttps://community.plot.ly/c/api/python\n",
     "output_type": "error",
     "traceback": [
      "\u001b[0;31m---------------------------------------------------------------------------\u001b[0m",
      "\u001b[0;31mValueError\u001b[0m                                Traceback (most recent call last)",
      "Cell \u001b[0;32mIn[38], line 13\u001b[0m\n\u001b[1;32m     11\u001b[0m output_path \u001b[38;5;241m=\u001b[39m metadata \u001b[38;5;241m+\u001b[39m \u001b[38;5;124m\"\u001b[39m\u001b[38;5;124m/\u001b[39m\u001b[38;5;124m\"\u001b[39m \u001b[38;5;241m+\u001b[39m pheno_file\u001b[38;5;241m.\u001b[39msplit(\u001b[38;5;124m\"\u001b[39m\u001b[38;5;124m/\u001b[39m\u001b[38;5;124m\"\u001b[39m)[\u001b[38;5;241m-\u001b[39m\u001b[38;5;241m1\u001b[39m]\u001b[38;5;241m.\u001b[39mreplace(\u001b[38;5;124m\"\u001b[39m\u001b[38;5;124m.csv\u001b[39m\u001b[38;5;124m\"\u001b[39m, \u001b[38;5;124m\"\u001b[39m\u001b[38;5;124m.png\u001b[39m\u001b[38;5;124m\"\u001b[39m)\n\u001b[1;32m     12\u001b[0m \u001b[38;5;28mprint\u001b[39m(output_path)\n\u001b[0;32m---> 13\u001b[0m \u001b[43mfig\u001b[49m\u001b[38;5;241;43m.\u001b[39;49m\u001b[43mwrite_image\u001b[49m\u001b[43m(\u001b[49m\u001b[43moutput_path\u001b[49m\u001b[43m,\u001b[49m\u001b[43m \u001b[49m\u001b[43mengine\u001b[49m\u001b[38;5;241;43m=\u001b[39;49m\u001b[38;5;124;43m'\u001b[39;49m\u001b[38;5;124;43morca\u001b[39;49m\u001b[38;5;124;43m'\u001b[39;49m\u001b[43m)\u001b[49m\n\u001b[1;32m     14\u001b[0m \u001b[38;5;66;03m# fig.show()\u001b[39;00m\n",
      "File \u001b[0;32m~/miniconda3/lib/python3.12/site-packages/plotly/basedatatypes.py:3841\u001b[0m, in \u001b[0;36mBaseFigure.write_image\u001b[0;34m(self, *args, **kwargs)\u001b[0m\n\u001b[1;32m   3781\u001b[0m \u001b[38;5;250m\u001b[39m\u001b[38;5;124;03m\"\"\"\u001b[39;00m\n\u001b[1;32m   3782\u001b[0m \u001b[38;5;124;03mConvert a figure to a static image and write it to a file or writeable\u001b[39;00m\n\u001b[1;32m   3783\u001b[0m \u001b[38;5;124;03mobject\u001b[39;00m\n\u001b[0;32m   (...)\u001b[0m\n\u001b[1;32m   3837\u001b[0m \u001b[38;5;124;03mNone\u001b[39;00m\n\u001b[1;32m   3838\u001b[0m \u001b[38;5;124;03m\"\"\"\u001b[39;00m\n\u001b[1;32m   3839\u001b[0m \u001b[38;5;28;01mimport\u001b[39;00m \u001b[38;5;21;01mplotly\u001b[39;00m\u001b[38;5;21;01m.\u001b[39;00m\u001b[38;5;21;01mio\u001b[39;00m \u001b[38;5;28;01mas\u001b[39;00m \u001b[38;5;21;01mpio\u001b[39;00m\n\u001b[0;32m-> 3841\u001b[0m \u001b[38;5;28;01mreturn\u001b[39;00m \u001b[43mpio\u001b[49m\u001b[38;5;241;43m.\u001b[39;49m\u001b[43mwrite_image\u001b[49m\u001b[43m(\u001b[49m\u001b[38;5;28;43mself\u001b[39;49m\u001b[43m,\u001b[49m\u001b[43m \u001b[49m\u001b[38;5;241;43m*\u001b[39;49m\u001b[43margs\u001b[49m\u001b[43m,\u001b[49m\u001b[43m \u001b[49m\u001b[38;5;241;43m*\u001b[39;49m\u001b[38;5;241;43m*\u001b[39;49m\u001b[43mkwargs\u001b[49m\u001b[43m)\u001b[49m\n",
      "File \u001b[0;32m~/miniconda3/lib/python3.12/site-packages/plotly/io/_kaleido.py:266\u001b[0m, in \u001b[0;36mwrite_image\u001b[0;34m(fig, file, format, scale, width, height, validate, engine)\u001b[0m\n\u001b[1;32m    250\u001b[0m             \u001b[38;5;28;01mraise\u001b[39;00m \u001b[38;5;167;01mValueError\u001b[39;00m(\n\u001b[1;32m    251\u001b[0m \u001b[38;5;250m                \u001b[39m\u001b[38;5;124;03m\"\"\"\u001b[39;00m\n\u001b[1;32m    252\u001b[0m \u001b[38;5;124;03mCannot infer image type from output path '{file}'.\u001b[39;00m\n\u001b[0;32m   (...)\u001b[0m\n\u001b[1;32m    260\u001b[0m                 )\n\u001b[1;32m    261\u001b[0m             )\n\u001b[1;32m    263\u001b[0m     \u001b[38;5;66;03m# Request image\u001b[39;00m\n\u001b[1;32m    264\u001b[0m     \u001b[38;5;66;03m# -------------\u001b[39;00m\n\u001b[1;32m    265\u001b[0m     \u001b[38;5;66;03m# Do this first so we don't create a file if image conversion fails\u001b[39;00m\n\u001b[0;32m--> 266\u001b[0m     img_data \u001b[38;5;241m=\u001b[39m \u001b[43mto_image\u001b[49m\u001b[43m(\u001b[49m\n\u001b[1;32m    267\u001b[0m \u001b[43m        \u001b[49m\u001b[43mfig\u001b[49m\u001b[43m,\u001b[49m\n\u001b[1;32m    268\u001b[0m \u001b[43m        \u001b[49m\u001b[38;5;28;43mformat\u001b[39;49m\u001b[38;5;241;43m=\u001b[39;49m\u001b[38;5;28;43mformat\u001b[39;49m\u001b[43m,\u001b[49m\n\u001b[1;32m    269\u001b[0m \u001b[43m        \u001b[49m\u001b[43mscale\u001b[49m\u001b[38;5;241;43m=\u001b[39;49m\u001b[43mscale\u001b[49m\u001b[43m,\u001b[49m\n\u001b[1;32m    270\u001b[0m \u001b[43m        \u001b[49m\u001b[43mwidth\u001b[49m\u001b[38;5;241;43m=\u001b[39;49m\u001b[43mwidth\u001b[49m\u001b[43m,\u001b[49m\n\u001b[1;32m    271\u001b[0m \u001b[43m        \u001b[49m\u001b[43mheight\u001b[49m\u001b[38;5;241;43m=\u001b[39;49m\u001b[43mheight\u001b[49m\u001b[43m,\u001b[49m\n\u001b[1;32m    272\u001b[0m \u001b[43m        \u001b[49m\u001b[43mvalidate\u001b[49m\u001b[38;5;241;43m=\u001b[39;49m\u001b[43mvalidate\u001b[49m\u001b[43m,\u001b[49m\n\u001b[1;32m    273\u001b[0m \u001b[43m        \u001b[49m\u001b[43mengine\u001b[49m\u001b[38;5;241;43m=\u001b[39;49m\u001b[43mengine\u001b[49m\u001b[43m,\u001b[49m\n\u001b[1;32m    274\u001b[0m \u001b[43m    \u001b[49m\u001b[43m)\u001b[49m\n\u001b[1;32m    276\u001b[0m     \u001b[38;5;66;03m# Open file\u001b[39;00m\n\u001b[1;32m    277\u001b[0m     \u001b[38;5;66;03m# ---------\u001b[39;00m\n\u001b[1;32m    278\u001b[0m     \u001b[38;5;28;01mif\u001b[39;00m path \u001b[38;5;129;01mis\u001b[39;00m \u001b[38;5;28;01mNone\u001b[39;00m:\n\u001b[1;32m    279\u001b[0m         \u001b[38;5;66;03m# We previously failed to make sense of `file` as a pathlib object.\u001b[39;00m\n\u001b[1;32m    280\u001b[0m         \u001b[38;5;66;03m# Attempt to write to `file` as an open file descriptor.\u001b[39;00m\n",
      "File \u001b[0;32m~/miniconda3/lib/python3.12/site-packages/plotly/io/_kaleido.py:115\u001b[0m, in \u001b[0;36mto_image\u001b[0;34m(fig, format, width, height, scale, validate, engine)\u001b[0m\n\u001b[1;32m    111\u001b[0m \u001b[38;5;28;01mif\u001b[39;00m engine \u001b[38;5;241m==\u001b[39m \u001b[38;5;124m\"\u001b[39m\u001b[38;5;124morca\u001b[39m\u001b[38;5;124m\"\u001b[39m:\n\u001b[1;32m    112\u001b[0m     \u001b[38;5;66;03m# Fall back to legacy orca image export path\u001b[39;00m\n\u001b[1;32m    113\u001b[0m     \u001b[38;5;28;01mfrom\u001b[39;00m \u001b[38;5;21;01m.\u001b[39;00m\u001b[38;5;21;01m_orca\u001b[39;00m \u001b[38;5;28;01mimport\u001b[39;00m to_image \u001b[38;5;28;01mas\u001b[39;00m to_image_orca\n\u001b[0;32m--> 115\u001b[0m     \u001b[38;5;28;01mreturn\u001b[39;00m \u001b[43mto_image_orca\u001b[49m\u001b[43m(\u001b[49m\n\u001b[1;32m    116\u001b[0m \u001b[43m        \u001b[49m\u001b[43mfig\u001b[49m\u001b[43m,\u001b[49m\n\u001b[1;32m    117\u001b[0m \u001b[43m        \u001b[49m\u001b[38;5;28;43mformat\u001b[39;49m\u001b[38;5;241;43m=\u001b[39;49m\u001b[38;5;28;43mformat\u001b[39;49m\u001b[43m,\u001b[49m\n\u001b[1;32m    118\u001b[0m \u001b[43m        \u001b[49m\u001b[43mwidth\u001b[49m\u001b[38;5;241;43m=\u001b[39;49m\u001b[43mwidth\u001b[49m\u001b[43m,\u001b[49m\n\u001b[1;32m    119\u001b[0m \u001b[43m        \u001b[49m\u001b[43mheight\u001b[49m\u001b[38;5;241;43m=\u001b[39;49m\u001b[43mheight\u001b[49m\u001b[43m,\u001b[49m\n\u001b[1;32m    120\u001b[0m \u001b[43m        \u001b[49m\u001b[43mscale\u001b[49m\u001b[38;5;241;43m=\u001b[39;49m\u001b[43mscale\u001b[49m\u001b[43m,\u001b[49m\n\u001b[1;32m    121\u001b[0m \u001b[43m        \u001b[49m\u001b[43mvalidate\u001b[49m\u001b[38;5;241;43m=\u001b[39;49m\u001b[43mvalidate\u001b[49m\u001b[43m,\u001b[49m\n\u001b[1;32m    122\u001b[0m \u001b[43m    \u001b[49m\u001b[43m)\u001b[49m\n\u001b[1;32m    123\u001b[0m \u001b[38;5;28;01melif\u001b[39;00m engine \u001b[38;5;241m!=\u001b[39m \u001b[38;5;124m\"\u001b[39m\u001b[38;5;124mkaleido\u001b[39m\u001b[38;5;124m\"\u001b[39m:\n\u001b[1;32m    124\u001b[0m     \u001b[38;5;28;01mraise\u001b[39;00m \u001b[38;5;167;01mValueError\u001b[39;00m(\n\u001b[1;32m    125\u001b[0m         \u001b[38;5;124m\"\u001b[39m\u001b[38;5;124mInvalid image export engine specified: \u001b[39m\u001b[38;5;132;01m{engine}\u001b[39;00m\u001b[38;5;124m\"\u001b[39m\u001b[38;5;241m.\u001b[39mformat(\n\u001b[1;32m    126\u001b[0m             engine\u001b[38;5;241m=\u001b[39m\u001b[38;5;28mrepr\u001b[39m(engine)\n\u001b[1;32m    127\u001b[0m         )\n\u001b[1;32m    128\u001b[0m     )\n",
      "File \u001b[0;32m~/miniconda3/lib/python3.12/site-packages/plotly/io/_orca.py:1445\u001b[0m, in \u001b[0;36mto_image\u001b[0;34m(fig, format, width, height, scale, validate)\u001b[0m\n\u001b[1;32m   1393\u001b[0m \u001b[38;5;250m\u001b[39m\u001b[38;5;124;03m\"\"\"\u001b[39;00m\n\u001b[1;32m   1394\u001b[0m \u001b[38;5;124;03mConvert a figure to a static image bytes string\u001b[39;00m\n\u001b[1;32m   1395\u001b[0m \n\u001b[0;32m   (...)\u001b[0m\n\u001b[1;32m   1441\u001b[0m \u001b[38;5;124;03m    The image data\u001b[39;00m\n\u001b[1;32m   1442\u001b[0m \u001b[38;5;124;03m\"\"\"\u001b[39;00m\n\u001b[1;32m   1443\u001b[0m \u001b[38;5;66;03m# Make sure orca sever is running\u001b[39;00m\n\u001b[1;32m   1444\u001b[0m \u001b[38;5;66;03m# -------------------------------\u001b[39;00m\n\u001b[0;32m-> 1445\u001b[0m \u001b[43mensure_server\u001b[49m\u001b[43m(\u001b[49m\u001b[43m)\u001b[49m\n\u001b[1;32m   1447\u001b[0m \u001b[38;5;66;03m# Handle defaults\u001b[39;00m\n\u001b[1;32m   1448\u001b[0m \u001b[38;5;66;03m# ---------------\u001b[39;00m\n\u001b[1;32m   1449\u001b[0m \u001b[38;5;66;03m# Apply configuration defaults to unspecified arguments\u001b[39;00m\n\u001b[1;32m   1450\u001b[0m \u001b[38;5;28;01mif\u001b[39;00m \u001b[38;5;28mformat\u001b[39m \u001b[38;5;129;01mis\u001b[39;00m \u001b[38;5;28;01mNone\u001b[39;00m:\n",
      "File \u001b[0;32m~/miniconda3/lib/python3.12/site-packages/plotly/io/_orca.py:1296\u001b[0m, in \u001b[0;36mensure_server\u001b[0;34m()\u001b[0m\n\u001b[1;32m   1293\u001b[0m \u001b[38;5;28;01mif\u001b[39;00m \u001b[38;5;129;01mnot\u001b[39;00m config\u001b[38;5;241m.\u001b[39mserver_url:\n\u001b[1;32m   1294\u001b[0m     \u001b[38;5;66;03m# Validate orca executable only if server_url is not provided\u001b[39;00m\n\u001b[1;32m   1295\u001b[0m     \u001b[38;5;28;01mif\u001b[39;00m status\u001b[38;5;241m.\u001b[39mstate \u001b[38;5;241m==\u001b[39m \u001b[38;5;124m\"\u001b[39m\u001b[38;5;124munvalidated\u001b[39m\u001b[38;5;124m\"\u001b[39m:\n\u001b[0;32m-> 1296\u001b[0m         \u001b[43mvalidate_executable\u001b[49m\u001b[43m(\u001b[49m\u001b[43m)\u001b[49m\n\u001b[1;32m   1297\u001b[0m     \u001b[38;5;66;03m# Acquire lock to make sure that we keep the properties of orca_state\u001b[39;00m\n\u001b[1;32m   1298\u001b[0m     \u001b[38;5;66;03m# consistent across threads\u001b[39;00m\n\u001b[1;32m   1299\u001b[0m     \u001b[38;5;28;01mwith\u001b[39;00m orca_lock:\n\u001b[1;32m   1300\u001b[0m         \u001b[38;5;66;03m# Cancel the current shutdown timer, if any\u001b[39;00m\n",
      "File \u001b[0;32m~/miniconda3/lib/python3.12/site-packages/plotly/io/_orca.py:982\u001b[0m, in \u001b[0;36mvalidate_executable\u001b[0;34m()\u001b[0m\n\u001b[1;32m    979\u001b[0m     formatted_path \u001b[38;5;241m=\u001b[39m path\u001b[38;5;241m.\u001b[39mreplace(os\u001b[38;5;241m.\u001b[39mpathsep, \u001b[38;5;124m\"\u001b[39m\u001b[38;5;130;01m\\n\u001b[39;00m\u001b[38;5;124m    \u001b[39m\u001b[38;5;124m\"\u001b[39m)\n\u001b[1;32m    981\u001b[0m     \u001b[38;5;28;01mif\u001b[39;00m executable \u001b[38;5;129;01mis\u001b[39;00m \u001b[38;5;28;01mNone\u001b[39;00m:\n\u001b[0;32m--> 982\u001b[0m         \u001b[38;5;28;01mraise\u001b[39;00m \u001b[38;5;167;01mValueError\u001b[39;00m(\n\u001b[1;32m    983\u001b[0m \u001b[38;5;250m            \u001b[39m\u001b[38;5;124;03m\"\"\"\u001b[39;00m\n\u001b[1;32m    984\u001b[0m \u001b[38;5;124;03mThe orca executable is required to export figures as static images,\u001b[39;00m\n\u001b[1;32m    985\u001b[0m \u001b[38;5;124;03mbut it could not be found on the system path.\u001b[39;00m\n\u001b[1;32m    986\u001b[0m \n\u001b[1;32m    987\u001b[0m \u001b[38;5;124;03mSearched for executable '{executable}' on the following path:\u001b[39;00m\n\u001b[1;32m    988\u001b[0m \u001b[38;5;124;03m    {formatted_path}\u001b[39;00m\n\u001b[1;32m    989\u001b[0m \n\u001b[1;32m    990\u001b[0m \u001b[38;5;124;03m{instructions}\"\"\"\u001b[39;00m\u001b[38;5;241m.\u001b[39mformat(\n\u001b[1;32m    991\u001b[0m                 executable\u001b[38;5;241m=\u001b[39mconfig\u001b[38;5;241m.\u001b[39mexecutable,\n\u001b[1;32m    992\u001b[0m                 formatted_path\u001b[38;5;241m=\u001b[39mformatted_path,\n\u001b[1;32m    993\u001b[0m                 instructions\u001b[38;5;241m=\u001b[39minstall_location_instructions,\n\u001b[1;32m    994\u001b[0m             )\n\u001b[1;32m    995\u001b[0m         )\n\u001b[1;32m    997\u001b[0m     \u001b[38;5;66;03m# Check if we should run with Xvfb\u001b[39;00m\n\u001b[1;32m    998\u001b[0m     \u001b[38;5;66;03m# --------------------------------\u001b[39;00m\n\u001b[1;32m    999\u001b[0m     xvfb_args \u001b[38;5;241m=\u001b[39m [\n\u001b[1;32m   1000\u001b[0m         \u001b[38;5;124m\"\u001b[39m\u001b[38;5;124m--auto-servernum\u001b[39m\u001b[38;5;124m\"\u001b[39m,\n\u001b[1;32m   1001\u001b[0m         \u001b[38;5;124m\"\u001b[39m\u001b[38;5;124m--server-args\u001b[39m\u001b[38;5;124m\"\u001b[39m,\n\u001b[1;32m   1002\u001b[0m         \u001b[38;5;124m\"\u001b[39m\u001b[38;5;124m-screen 0 640x480x24 +extension RANDR +extension GLX\u001b[39m\u001b[38;5;124m\"\u001b[39m,\n\u001b[1;32m   1003\u001b[0m         executable,\n\u001b[1;32m   1004\u001b[0m     ]\n",
      "\u001b[0;31mValueError\u001b[0m: \nThe orca executable is required to export figures as static images,\nbut it could not be found on the system path.\n\nSearched for executable 'orca' on the following path:\n    /home/rayane/miniconda3/bin\n    /home/rayane/.vscode-server/bin/863d2581ecda6849923a2118d93a088b0745d9d6/bin/remote-cli\n    /home/rayane/miniconda3/bin\n    /home/rayane/miniconda3/condabin\n    /usr/local/sbin\n    /usr/local/bin\n    /usr/sbin\n    /usr/bin\n    /sbin\n    /bin\n    /usr/games\n    /usr/local/games\n    /usr/lib/wsl/lib\n    /mnt/c/Program Files/Python312/Scripts\n    /mnt/c/Program Files/Python312\n    /mnt/c/Program Files (x86)/Common Files/Oracle/Java/javapath\n    /mnt/c/Windows/system32\n    /mnt/c/Windows\n    /mnt/c/Windows/System32/Wbem\n    /mnt/c/Windows/System32/WindowsPowerShell/v1.0\n    /mnt/c/Windows/System32/OpenSSH\n    /mnt/c/Program Files/MATLAB/R2023a/runtime/win64\n    /mnt/c/Program Files/MATLAB/R2023a/bin\n    /mnt/c/ProgramData/chocolatey/bin\n    /mnt/c/Program Files/Java/jdk1.8.0_05/bin\n    /mnt/c/Users/rayane.adam/AppData/Local/Microsoft/WindowsApps\n    /mnt/c/Users/rayane.adam/AppData/Local/Programs/Microsoft VS Code/bin\n    /mnt/c/Users/rayane.adam/AppData/Roaming/TinyTeX/bin/windows\n    /snap/bin\n\nIf you haven't installed orca yet, you can do so using conda as follows:\n\n    $ conda install -c plotly plotly-orca\n\nAlternatively, see other installation methods in the orca project README at\nhttps://github.com/plotly/orca\n\nAfter installation is complete, no further configuration should be needed.\n\nIf you have installed orca, then for some reason plotly.py was unable to\nlocate it. In this case, set the `plotly.io.orca.config.executable`\nproperty to the full path of your orca executable. For example:\n\n    >>> plotly.io.orca.config.executable = '/path/to/orca'\n\nAfter updating this executable property, try the export operation again.\nIf it is successful then you may want to save this configuration so that it\nwill be applied automatically in future sessions. You can do this as follows:\n\n    >>> plotly.io.orca.config.save()\n\nIf you're still having trouble, feel free to ask for help on the forums at\nhttps://community.plot.ly/c/api/python\n"
     ]
    }
   ],
   "source": [
    "files=os.listdir(pheno_dir_path)\n",
    "pheno_files=[os.path.join(pheno_dir_path, f) for f in files if f.endswith(\".csv\")]\n",
    "\n",
    "metadata=\"../../metadata/phenotyopes/class_distribution\"\n",
    "\n",
    "\n",
    "for pheno_file in pheno_files:\n",
    "    pheno=pd.read_csv(pheno_file, index_col=0)\n",
    "    pheno[\"SIR\"]=pheno[\"SIR\"].astype(str)\n",
    "    fig = px.histogram(pheno, x=\"SIR\", color=\"SIR\", title=pheno_file.split(\"/\")[-1])\n",
    "    output_path = metadata + \"/\" + pheno_file.split(\"/\")[-1].replace(\".csv\", \".png\")\n",
    "    print(output_path)\n",
    "    fig.write_image(output_path, engine='orca')\n",
    "    # fig.show()"
   ]
  },
  {
   "cell_type": "code",
   "execution_count": 33,
   "metadata": {},
   "outputs": [
    {
     "name": "stdout",
     "output_type": "stream",
     "text": [
      "/home/rayane/miniconda3/bin/python\n"
     ]
    }
   ],
   "source": [
    "import sys\n",
    "print(sys.executable)"
   ]
  }
 ],
 "metadata": {
  "kernelspec": {
   "display_name": "base",
   "language": "python",
   "name": "python3"
  },
  "language_info": {
   "codemirror_mode": {
    "name": "ipython",
    "version": 3
   },
   "file_extension": ".py",
   "mimetype": "text/x-python",
   "name": "python",
   "nbconvert_exporter": "python",
   "pygments_lexer": "ipython3",
   "version": "3.12.2"
  }
 },
 "nbformat": 4,
 "nbformat_minor": 2
}
