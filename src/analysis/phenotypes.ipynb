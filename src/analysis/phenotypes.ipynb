{
 "cells": [
  {
   "cell_type": "markdown",
   "metadata": {},
   "source": [
    "# phenotypes\n",
    "\n",
    "This notebook is a simple exploration of the phenotypes in the dataset, aiming to process and clean the data as well as gather some insights about the distribution of the phenotypes.\n",
    "\n",
    "It's species agnostic, by setting var species and making sure it's following tha paths conventions built for _E. coli_"
   ]
  },
  {
   "cell_type": "markdown",
   "metadata": {},
   "source": [
    "## Imports"
   ]
  },
  {
   "cell_type": "code",
   "execution_count": 40,
   "metadata": {},
   "outputs": [],
   "source": [
    "import os\n",
    "import re\n",
    "import pandas as pd\n",
    "import warnings # for deprecatd function (using an old version of pandas to append)\n",
    "import plotly.graph_objects as go\n",
    "import plotly.io as pio\n",
    "\n",
    "warnings.filterwarnings('ignore')\n",
    "\n",
    "os.chdir(os.path.expanduser('~/capstone-project'))\n",
    "\n",
    "species='Escherichia_coli'"
   ]
  },
  {
   "cell_type": "markdown",
   "metadata": {},
   "source": [
    "## Processing\n",
    "\n",
    "Mainly consists of removing all ids that are not taken in the genotypic dataset (constructing the pangenome)"
   ]
  },
  {
   "cell_type": "code",
   "execution_count": 6,
   "metadata": {},
   "outputs": [],
   "source": [
    "# -- dropping out all genome ids that we don't have a corresponding entry for in genome_ids file\n",
    "\n",
    "X_df = pd.read_csv(f'data/presence_matrices/{species}_filtered_SxG.csv', index_col=0); \n",
    "X_df.index = X_df.index.astype('float')\n",
    "\n",
    "genome_ids_file = f'data/pangenome_pipeline_output/genome_ids/{species}_genome_ids.csv'\n",
    "samples_df = pd.read_csv(genome_ids_file, dtype=str)\n",
    "samples_list=samples_df['genome.genome_ids'].tolist()"
   ]
  },
  {
   "cell_type": "code",
   "execution_count": 8,
   "metadata": {},
   "outputs": [
    {
     "name": "stdout",
     "output_type": "stream",
     "text": [
      "Escherichia_coli_streptomycin.csv - 29 samples removed\n",
      "Escherichia_coli_nitrofurantoin.csv - 145 samples removed\n",
      "Escherichia_coli_kanamycin.csv - 11 samples removed\n",
      "Escherichia_coli_aztreonam.csv - 70 samples removed\n",
      "Escherichia_coli_doxycycline.csv - 119 samples removed\n",
      "Escherichia_coli_tobramycin.csv - 476 samples removed\n",
      "Escherichia_coli_oxytetracycline.csv - 92 samples removed\n",
      "Escherichia_coli_cefotetan.csv - 109 samples removed\n",
      "Escherichia_coli_sulfamethoxazole.csv - 62 samples removed\n",
      "Escherichia_coli_nalidixic_acid.csv - 42 samples removed\n",
      "Escherichia_coli_tetracycline.csv - 90 samples removed\n",
      "Escherichia_coli_imipenem.csv - 187 samples removed\n",
      "Escherichia_coli_cefoxitin.csv - 98 samples removed\n",
      "Escherichia_coli_tigecycline.csv - 225 samples removed\n",
      "Escherichia_coli_cefalothin.csv - 421 samples removed\n",
      "Escherichia_coli_cefotaxime.csv - 728 samples removed\n",
      "Escherichia_coli_amikacin.csv - 99 samples removed\n",
      "Escherichia_coli_trimethoprim_sulphamethoxazole.csv - 183 samples removed\n",
      "Escherichia_coli_ampicillin_sulbactam.csv - 108 samples removed\n",
      "Escherichia_coli_norfloxacin.csv - 53 samples removed\n",
      "Escherichia_coli_cefazolin.csv - 142 samples removed\n",
      "Escherichia_coli_amoxicillin_clavulanic_acid.csv - 1253 samples removed\n",
      "Escherichia_coli_trimethoprim.csv - 483 samples removed\n",
      "Escherichia_coli_chloramphenicol.csv - 151 samples removed\n",
      "Escherichia_coli_ceftriaxone.csv - 341 samples removed\n",
      "Escherichia_coli_ceftazidime.csv - 752 samples removed\n",
      "Escherichia_coli_sulfisoxazole.csv - 3 samples removed\n",
      "Escherichia_coli_colistin.csv - 151 samples removed\n",
      "Escherichia_coli_lincomycin.csv - 92 samples removed\n",
      "Escherichia_coli_amoxicillin.csv - 361 samples removed\n",
      "Escherichia_coli_ceftazidime_avibactam.csv - 92 samples removed\n",
      "Escherichia_coli_meropenem.csv - 184 samples removed\n",
      "Escherichia_coli_fosfomycin.csv - 93 samples removed\n",
      "Escherichia_coli_ampicillin.csv - 1555 samples removed\n",
      "Escherichia_coli_ertapenem.csv - 70 samples removed\n",
      "Escherichia_coli_cefepime.csv - 99 samples removed\n",
      "Escherichia_coli_ceftiofur.csv - 95 samples removed\n",
      "Escherichia_coli_azithromycin.csv - 29 samples removed\n",
      "Escherichia_coli_doripenem.csv - 23 samples removed\n",
      "Escherichia_coli_piperacillin_tazobactam.csv - 321 samples removed\n",
      "Escherichia_coli_levofloxacin.csv - 159 samples removed\n",
      "Escherichia_coli_gentamicin.csv - 825 samples removed\n",
      "Escherichia_coli_ciprofloxacin.csv - 819 samples removed\n",
      "Escherichia_coli_cefuroxime.csv - 556 samples removed\n",
      "Escherichia_coli_minocycline.csv - 102 samples removed\n"
     ]
    }
   ],
   "source": [
    "#  --removing all genome ids that are not in the genome_ids file\n",
    "\n",
    "count_files=0\n",
    "for file in os.listdir('data/phenotypes/'):\n",
    "    if file.endswith('.csv') and species in file:\n",
    "        count_files+=1\n",
    "        \n",
    "        y=pd.read_csv(f'data/phenotypes//{file}', dtype=str)\n",
    "        old=y.shape[0]\n",
    "\n",
    "        y=y[y['genome_id'].isin(samples_list)]\n",
    "        new=y.shape[0]\n",
    "\n",
    "        print(f'{file} - {old-new} samples removed')\n",
    "\n",
    "        if not os.path.exists('data/processed_phenotypes/'):\n",
    "            os.makedirs('data/processed_phenotypes/')\n",
    "        y.to_csv(f'data/processed_phenotypes/{file}', index=False)"
   ]
  },
  {
   "cell_type": "markdown",
   "metadata": {},
   "source": [
    "## Filtration\n",
    "\n",
    "based on:\n",
    "* class balance: those with an imbalance > 80/20 are removed\n",
    "* SIR readings counts: those with less than 100 sample readings are removed"
   ]
  },
  {
   "cell_type": "code",
   "execution_count": 15,
   "metadata": {},
   "outputs": [],
   "source": [
    "# -- plotting all pheno data for all available drugs\n",
    "\n",
    "df = pd.DataFrame(columns=['drug', 'R', 'S'])\n",
    "\n",
    "for file in os.listdir('data/processed_phenotypes/'):\n",
    "    if file.endswith('.csv'):\n",
    "        drug = re.match(r'Escherichia_coli_(.*).csv', file).group(1)\n",
    "        data = pd.read_csv(f'data/processed_phenotypes/{file}')\n",
    "        # -- counting the number of 1s in SIR col and save in a count var\n",
    "        count = data['SIR'].value_counts()\n",
    "        count_R=count.get(1, 0)\n",
    "        count_S=count.get(0, 0)\n",
    "\n",
    "        if count_R == 0 and count_S == 0:\n",
    "            continue\n",
    "\n",
    "        df = df.append({'drug': drug, 'R': count_R, 'S': count_S}, ignore_index=True)\n",
    "\n",
    "df.set_index('drug', inplace=True)\n",
    "\n",
    "# -- adding percentage columns\n",
    "df['R%'] = df['R'] / (df['R'] + df['S']) * 100\n",
    "df['S%'] = df['S'] / (df['R'] + df['S']) * 100  \n",
    "df['samples no.'] = df['R'] + df['S']\n",
    "# df"
   ]
  },
  {
   "cell_type": "code",
   "execution_count": 21,
   "metadata": {},
   "outputs": [
    {
     "name": "stdout",
     "output_type": "stream",
     "text": [
      "Number of drugs: 11\n",
      "Drugs: ['streptomycin', 'sulfamethoxazole', 'tetracycline', 'cefalothin', 'trimethoprim_sulphamethoxazole', 'amoxicillin_clavulanic_acid', 'trimethoprim', 'amoxicillin', 'ampicillin', 'levofloxacin', 'ciprofloxacin']\n"
     ]
    },
    {
     "data": {
      "text/html": [
       "<div>\n",
       "<style scoped>\n",
       "    .dataframe tbody tr th:only-of-type {\n",
       "        vertical-align: middle;\n",
       "    }\n",
       "\n",
       "    .dataframe tbody tr th {\n",
       "        vertical-align: top;\n",
       "    }\n",
       "\n",
       "    .dataframe thead th {\n",
       "        text-align: right;\n",
       "    }\n",
       "</style>\n",
       "<table border=\"1\" class=\"dataframe\">\n",
       "  <thead>\n",
       "    <tr style=\"text-align: right;\">\n",
       "      <th></th>\n",
       "      <th>R</th>\n",
       "      <th>S</th>\n",
       "      <th>R%</th>\n",
       "      <th>S%</th>\n",
       "      <th>samples no.</th>\n",
       "    </tr>\n",
       "    <tr>\n",
       "      <th>drug</th>\n",
       "      <th></th>\n",
       "      <th></th>\n",
       "      <th></th>\n",
       "      <th></th>\n",
       "      <th></th>\n",
       "    </tr>\n",
       "  </thead>\n",
       "  <tbody>\n",
       "    <tr>\n",
       "      <th>streptomycin</th>\n",
       "      <td>55</td>\n",
       "      <td>78</td>\n",
       "      <td>41.353383</td>\n",
       "      <td>58.646617</td>\n",
       "      <td>133</td>\n",
       "    </tr>\n",
       "    <tr>\n",
       "      <th>sulfamethoxazole</th>\n",
       "      <td>83</td>\n",
       "      <td>50</td>\n",
       "      <td>62.406015</td>\n",
       "      <td>37.593985</td>\n",
       "      <td>133</td>\n",
       "    </tr>\n",
       "    <tr>\n",
       "      <th>tetracycline</th>\n",
       "      <td>140</td>\n",
       "      <td>85</td>\n",
       "      <td>62.222222</td>\n",
       "      <td>37.777778</td>\n",
       "      <td>225</td>\n",
       "    </tr>\n",
       "    <tr>\n",
       "      <th>cefalothin</th>\n",
       "      <td>196</td>\n",
       "      <td>170</td>\n",
       "      <td>53.551913</td>\n",
       "      <td>46.448087</td>\n",
       "      <td>366</td>\n",
       "    </tr>\n",
       "    <tr>\n",
       "      <th>trimethoprim_sulphamethoxazole</th>\n",
       "      <td>180</td>\n",
       "      <td>96</td>\n",
       "      <td>65.217391</td>\n",
       "      <td>34.782609</td>\n",
       "      <td>276</td>\n",
       "    </tr>\n",
       "    <tr>\n",
       "      <th>amoxicillin_clavulanic_acid</th>\n",
       "      <td>401</td>\n",
       "      <td>1017</td>\n",
       "      <td>28.279267</td>\n",
       "      <td>71.720733</td>\n",
       "      <td>1418</td>\n",
       "    </tr>\n",
       "    <tr>\n",
       "      <th>trimethoprim</th>\n",
       "      <td>216</td>\n",
       "      <td>283</td>\n",
       "      <td>43.286573</td>\n",
       "      <td>56.713427</td>\n",
       "      <td>499</td>\n",
       "    </tr>\n",
       "    <tr>\n",
       "      <th>amoxicillin</th>\n",
       "      <td>596</td>\n",
       "      <td>388</td>\n",
       "      <td>60.569106</td>\n",
       "      <td>39.430894</td>\n",
       "      <td>984</td>\n",
       "    </tr>\n",
       "    <tr>\n",
       "      <th>ampicillin</th>\n",
       "      <td>312</td>\n",
       "      <td>194</td>\n",
       "      <td>61.660079</td>\n",
       "      <td>38.339921</td>\n",
       "      <td>506</td>\n",
       "    </tr>\n",
       "    <tr>\n",
       "      <th>levofloxacin</th>\n",
       "      <td>180</td>\n",
       "      <td>58</td>\n",
       "      <td>75.630252</td>\n",
       "      <td>24.369748</td>\n",
       "      <td>238</td>\n",
       "    </tr>\n",
       "    <tr>\n",
       "      <th>ciprofloxacin</th>\n",
       "      <td>444</td>\n",
       "      <td>1228</td>\n",
       "      <td>26.555024</td>\n",
       "      <td>73.444976</td>\n",
       "      <td>1672</td>\n",
       "    </tr>\n",
       "  </tbody>\n",
       "</table>\n",
       "</div>"
      ],
      "text/plain": [
       "                                  R     S         R%         S% samples no.\n",
       "drug                                                                       \n",
       "streptomycin                     55    78  41.353383  58.646617         133\n",
       "sulfamethoxazole                 83    50  62.406015  37.593985         133\n",
       "tetracycline                    140    85  62.222222  37.777778         225\n",
       "cefalothin                      196   170  53.551913  46.448087         366\n",
       "trimethoprim_sulphamethoxazole  180    96  65.217391  34.782609         276\n",
       "amoxicillin_clavulanic_acid     401  1017  28.279267  71.720733        1418\n",
       "trimethoprim                    216   283  43.286573  56.713427         499\n",
       "amoxicillin                     596   388  60.569106  39.430894         984\n",
       "ampicillin                      312   194  61.660079  38.339921         506\n",
       "levofloxacin                    180    58  75.630252  24.369748         238\n",
       "ciprofloxacin                   444  1228  26.555024  73.444976        1672"
      ]
     },
     "execution_count": 21,
     "metadata": {},
     "output_type": "execute_result"
    }
   ],
   "source": [
    "#  -- filtering out those drugs with over a 70/30 class imbalance and less than 100 samples\n",
    "df = df[(df['R%'] < 80) & (df['S%'] < 80) & (df['samples no.'] > 100)]\n",
    "df.to_csv(f'data/{species}_pheno_data.csv') #location is debatable...\n",
    "\n",
    "num_drugs = df.shape[0]\n",
    "drugs_list=df.index.to_list()\n",
    "\n",
    "print(f'Number of drugs: {num_drugs}')\n",
    "print(f'Drugs: {drugs_list}')\n",
    "\n",
    "df"
   ]
  },
  {
   "cell_type": "markdown",
   "metadata": {},
   "source": [
    "_trimethoprim sulfamethoxazole_ and _amoxicillin clavulanate_ will be  removed from the dataset as no ARGs for them have been found during extraction"
   ]
  },
  {
   "cell_type": "code",
   "execution_count": 56,
   "metadata": {},
   "outputs": [
    {
     "data": {
      "text/html": [
       "<div>\n",
       "<style scoped>\n",
       "    .dataframe tbody tr th:only-of-type {\n",
       "        vertical-align: middle;\n",
       "    }\n",
       "\n",
       "    .dataframe tbody tr th {\n",
       "        vertical-align: top;\n",
       "    }\n",
       "\n",
       "    .dataframe thead th {\n",
       "        text-align: right;\n",
       "    }\n",
       "</style>\n",
       "<table border=\"1\" class=\"dataframe\">\n",
       "  <thead>\n",
       "    <tr style=\"text-align: right;\">\n",
       "      <th></th>\n",
       "      <th>R</th>\n",
       "      <th>S</th>\n",
       "      <th>R%</th>\n",
       "      <th>S%</th>\n",
       "      <th>samples no.</th>\n",
       "    </tr>\n",
       "    <tr>\n",
       "      <th>drug</th>\n",
       "      <th></th>\n",
       "      <th></th>\n",
       "      <th></th>\n",
       "      <th></th>\n",
       "      <th></th>\n",
       "    </tr>\n",
       "  </thead>\n",
       "  <tbody>\n",
       "    <tr>\n",
       "      <th>streptomycin</th>\n",
       "      <td>55</td>\n",
       "      <td>78</td>\n",
       "      <td>41.353383</td>\n",
       "      <td>58.646617</td>\n",
       "      <td>133</td>\n",
       "    </tr>\n",
       "    <tr>\n",
       "      <th>sulfamethoxazole</th>\n",
       "      <td>83</td>\n",
       "      <td>50</td>\n",
       "      <td>62.406015</td>\n",
       "      <td>37.593985</td>\n",
       "      <td>133</td>\n",
       "    </tr>\n",
       "    <tr>\n",
       "      <th>tetracycline</th>\n",
       "      <td>140</td>\n",
       "      <td>85</td>\n",
       "      <td>62.222222</td>\n",
       "      <td>37.777778</td>\n",
       "      <td>225</td>\n",
       "    </tr>\n",
       "    <tr>\n",
       "      <th>cefalothin</th>\n",
       "      <td>196</td>\n",
       "      <td>170</td>\n",
       "      <td>53.551913</td>\n",
       "      <td>46.448087</td>\n",
       "      <td>366</td>\n",
       "    </tr>\n",
       "    <tr>\n",
       "      <th>amoxicillin_clavulanic_acid</th>\n",
       "      <td>401</td>\n",
       "      <td>1017</td>\n",
       "      <td>28.279267</td>\n",
       "      <td>71.720733</td>\n",
       "      <td>1418</td>\n",
       "    </tr>\n",
       "    <tr>\n",
       "      <th>trimethoprim</th>\n",
       "      <td>216</td>\n",
       "      <td>283</td>\n",
       "      <td>43.286573</td>\n",
       "      <td>56.713427</td>\n",
       "      <td>499</td>\n",
       "    </tr>\n",
       "    <tr>\n",
       "      <th>amoxicillin</th>\n",
       "      <td>596</td>\n",
       "      <td>388</td>\n",
       "      <td>60.569106</td>\n",
       "      <td>39.430894</td>\n",
       "      <td>984</td>\n",
       "    </tr>\n",
       "    <tr>\n",
       "      <th>ampicillin</th>\n",
       "      <td>312</td>\n",
       "      <td>194</td>\n",
       "      <td>61.660079</td>\n",
       "      <td>38.339921</td>\n",
       "      <td>506</td>\n",
       "    </tr>\n",
       "    <tr>\n",
       "      <th>levofloxacin</th>\n",
       "      <td>180</td>\n",
       "      <td>58</td>\n",
       "      <td>75.630252</td>\n",
       "      <td>24.369748</td>\n",
       "      <td>238</td>\n",
       "    </tr>\n",
       "    <tr>\n",
       "      <th>ciprofloxacin</th>\n",
       "      <td>444</td>\n",
       "      <td>1228</td>\n",
       "      <td>26.555024</td>\n",
       "      <td>73.444976</td>\n",
       "      <td>1672</td>\n",
       "    </tr>\n",
       "  </tbody>\n",
       "</table>\n",
       "</div>"
      ],
      "text/plain": [
       "                               R     S         R%         S% samples no.\n",
       "drug                                                                    \n",
       "streptomycin                  55    78  41.353383  58.646617         133\n",
       "sulfamethoxazole              83    50  62.406015  37.593985         133\n",
       "tetracycline                 140    85  62.222222  37.777778         225\n",
       "cefalothin                   196   170  53.551913  46.448087         366\n",
       "amoxicillin_clavulanic_acid  401  1017  28.279267  71.720733        1418\n",
       "trimethoprim                 216   283  43.286573  56.713427         499\n",
       "amoxicillin                  596   388  60.569106  39.430894         984\n",
       "ampicillin                   312   194  61.660079  38.339921         506\n",
       "levofloxacin                 180    58  75.630252  24.369748         238\n",
       "ciprofloxacin                444  1228  26.555024  73.444976        1672"
      ]
     },
     "execution_count": 56,
     "metadata": {},
     "output_type": "execute_result"
    }
   ],
   "source": [
    "antibiotics = ['streptomycin', 'sulfamethoxazole', 'tetracycline', 'cefalothin', 'amoxicillin_clavulanic_acid', 'trimethoprim', 'amoxicillin', 'ampicillin', 'levofloxacin', 'ciprofloxacin']\n",
    "df = df[df.index.isin(antibiotics)]\n",
    "\n",
    "df"
   ]
  },
  {
   "cell_type": "code",
   "execution_count": 57,
   "metadata": {},
   "outputs": [
    {
     "data": {
      "application/vnd.plotly.v1+json": {
       "config": {
        "plotlyServerURL": "https://plot.ly"
       },
       "data": [
        {
         "marker": {
          "color": "#BFD7EA"
         },
         "name": "S",
         "type": "bar",
         "x": [
          "ciprofloxacin",
          "amoxicillin_clavulanic_acid",
          "amoxicillin",
          "ampicillin",
          "trimethoprim",
          "cefalothin",
          "levofloxacin",
          "tetracycline",
          "streptomycin",
          "sulfamethoxazole"
         ],
         "y": [
          1228,
          1017,
          388,
          194,
          283,
          170,
          58,
          85,
          78,
          50
         ]
        },
        {
         "marker": {
          "color": "#FF5A5F"
         },
         "name": "R",
         "type": "bar",
         "x": [
          "ciprofloxacin",
          "amoxicillin_clavulanic_acid",
          "amoxicillin",
          "ampicillin",
          "trimethoprim",
          "cefalothin",
          "levofloxacin",
          "tetracycline",
          "streptomycin",
          "sulfamethoxazole"
         ],
         "y": [
          444,
          401,
          596,
          312,
          216,
          196,
          180,
          140,
          55,
          83
         ]
        }
       ],
       "layout": {
        "barmode": "stack",
        "height": 600,
        "plot_bgcolor": "white",
        "template": {
         "data": {
          "bar": [
           {
            "error_x": {
             "color": "#2a3f5f"
            },
            "error_y": {
             "color": "#2a3f5f"
            },
            "marker": {
             "line": {
              "color": "#E5ECF6",
              "width": 0.5
             },
             "pattern": {
              "fillmode": "overlay",
              "size": 10,
              "solidity": 0.2
             }
            },
            "type": "bar"
           }
          ],
          "barpolar": [
           {
            "marker": {
             "line": {
              "color": "#E5ECF6",
              "width": 0.5
             },
             "pattern": {
              "fillmode": "overlay",
              "size": 10,
              "solidity": 0.2
             }
            },
            "type": "barpolar"
           }
          ],
          "carpet": [
           {
            "aaxis": {
             "endlinecolor": "#2a3f5f",
             "gridcolor": "white",
             "linecolor": "white",
             "minorgridcolor": "white",
             "startlinecolor": "#2a3f5f"
            },
            "baxis": {
             "endlinecolor": "#2a3f5f",
             "gridcolor": "white",
             "linecolor": "white",
             "minorgridcolor": "white",
             "startlinecolor": "#2a3f5f"
            },
            "type": "carpet"
           }
          ],
          "choropleth": [
           {
            "colorbar": {
             "outlinewidth": 0,
             "ticks": ""
            },
            "type": "choropleth"
           }
          ],
          "contour": [
           {
            "colorbar": {
             "outlinewidth": 0,
             "ticks": ""
            },
            "colorscale": [
             [
              0,
              "#0d0887"
             ],
             [
              0.1111111111111111,
              "#46039f"
             ],
             [
              0.2222222222222222,
              "#7201a8"
             ],
             [
              0.3333333333333333,
              "#9c179e"
             ],
             [
              0.4444444444444444,
              "#bd3786"
             ],
             [
              0.5555555555555556,
              "#d8576b"
             ],
             [
              0.6666666666666666,
              "#ed7953"
             ],
             [
              0.7777777777777778,
              "#fb9f3a"
             ],
             [
              0.8888888888888888,
              "#fdca26"
             ],
             [
              1,
              "#f0f921"
             ]
            ],
            "type": "contour"
           }
          ],
          "contourcarpet": [
           {
            "colorbar": {
             "outlinewidth": 0,
             "ticks": ""
            },
            "type": "contourcarpet"
           }
          ],
          "heatmap": [
           {
            "colorbar": {
             "outlinewidth": 0,
             "ticks": ""
            },
            "colorscale": [
             [
              0,
              "#0d0887"
             ],
             [
              0.1111111111111111,
              "#46039f"
             ],
             [
              0.2222222222222222,
              "#7201a8"
             ],
             [
              0.3333333333333333,
              "#9c179e"
             ],
             [
              0.4444444444444444,
              "#bd3786"
             ],
             [
              0.5555555555555556,
              "#d8576b"
             ],
             [
              0.6666666666666666,
              "#ed7953"
             ],
             [
              0.7777777777777778,
              "#fb9f3a"
             ],
             [
              0.8888888888888888,
              "#fdca26"
             ],
             [
              1,
              "#f0f921"
             ]
            ],
            "type": "heatmap"
           }
          ],
          "heatmapgl": [
           {
            "colorbar": {
             "outlinewidth": 0,
             "ticks": ""
            },
            "colorscale": [
             [
              0,
              "#0d0887"
             ],
             [
              0.1111111111111111,
              "#46039f"
             ],
             [
              0.2222222222222222,
              "#7201a8"
             ],
             [
              0.3333333333333333,
              "#9c179e"
             ],
             [
              0.4444444444444444,
              "#bd3786"
             ],
             [
              0.5555555555555556,
              "#d8576b"
             ],
             [
              0.6666666666666666,
              "#ed7953"
             ],
             [
              0.7777777777777778,
              "#fb9f3a"
             ],
             [
              0.8888888888888888,
              "#fdca26"
             ],
             [
              1,
              "#f0f921"
             ]
            ],
            "type": "heatmapgl"
           }
          ],
          "histogram": [
           {
            "marker": {
             "pattern": {
              "fillmode": "overlay",
              "size": 10,
              "solidity": 0.2
             }
            },
            "type": "histogram"
           }
          ],
          "histogram2d": [
           {
            "colorbar": {
             "outlinewidth": 0,
             "ticks": ""
            },
            "colorscale": [
             [
              0,
              "#0d0887"
             ],
             [
              0.1111111111111111,
              "#46039f"
             ],
             [
              0.2222222222222222,
              "#7201a8"
             ],
             [
              0.3333333333333333,
              "#9c179e"
             ],
             [
              0.4444444444444444,
              "#bd3786"
             ],
             [
              0.5555555555555556,
              "#d8576b"
             ],
             [
              0.6666666666666666,
              "#ed7953"
             ],
             [
              0.7777777777777778,
              "#fb9f3a"
             ],
             [
              0.8888888888888888,
              "#fdca26"
             ],
             [
              1,
              "#f0f921"
             ]
            ],
            "type": "histogram2d"
           }
          ],
          "histogram2dcontour": [
           {
            "colorbar": {
             "outlinewidth": 0,
             "ticks": ""
            },
            "colorscale": [
             [
              0,
              "#0d0887"
             ],
             [
              0.1111111111111111,
              "#46039f"
             ],
             [
              0.2222222222222222,
              "#7201a8"
             ],
             [
              0.3333333333333333,
              "#9c179e"
             ],
             [
              0.4444444444444444,
              "#bd3786"
             ],
             [
              0.5555555555555556,
              "#d8576b"
             ],
             [
              0.6666666666666666,
              "#ed7953"
             ],
             [
              0.7777777777777778,
              "#fb9f3a"
             ],
             [
              0.8888888888888888,
              "#fdca26"
             ],
             [
              1,
              "#f0f921"
             ]
            ],
            "type": "histogram2dcontour"
           }
          ],
          "mesh3d": [
           {
            "colorbar": {
             "outlinewidth": 0,
             "ticks": ""
            },
            "type": "mesh3d"
           }
          ],
          "parcoords": [
           {
            "line": {
             "colorbar": {
              "outlinewidth": 0,
              "ticks": ""
             }
            },
            "type": "parcoords"
           }
          ],
          "pie": [
           {
            "automargin": true,
            "type": "pie"
           }
          ],
          "scatter": [
           {
            "fillpattern": {
             "fillmode": "overlay",
             "size": 10,
             "solidity": 0.2
            },
            "type": "scatter"
           }
          ],
          "scatter3d": [
           {
            "line": {
             "colorbar": {
              "outlinewidth": 0,
              "ticks": ""
             }
            },
            "marker": {
             "colorbar": {
              "outlinewidth": 0,
              "ticks": ""
             }
            },
            "type": "scatter3d"
           }
          ],
          "scattercarpet": [
           {
            "marker": {
             "colorbar": {
              "outlinewidth": 0,
              "ticks": ""
             }
            },
            "type": "scattercarpet"
           }
          ],
          "scattergeo": [
           {
            "marker": {
             "colorbar": {
              "outlinewidth": 0,
              "ticks": ""
             }
            },
            "type": "scattergeo"
           }
          ],
          "scattergl": [
           {
            "marker": {
             "colorbar": {
              "outlinewidth": 0,
              "ticks": ""
             }
            },
            "type": "scattergl"
           }
          ],
          "scattermapbox": [
           {
            "marker": {
             "colorbar": {
              "outlinewidth": 0,
              "ticks": ""
             }
            },
            "type": "scattermapbox"
           }
          ],
          "scatterpolar": [
           {
            "marker": {
             "colorbar": {
              "outlinewidth": 0,
              "ticks": ""
             }
            },
            "type": "scatterpolar"
           }
          ],
          "scatterpolargl": [
           {
            "marker": {
             "colorbar": {
              "outlinewidth": 0,
              "ticks": ""
             }
            },
            "type": "scatterpolargl"
           }
          ],
          "scatterternary": [
           {
            "marker": {
             "colorbar": {
              "outlinewidth": 0,
              "ticks": ""
             }
            },
            "type": "scatterternary"
           }
          ],
          "surface": [
           {
            "colorbar": {
             "outlinewidth": 0,
             "ticks": ""
            },
            "colorscale": [
             [
              0,
              "#0d0887"
             ],
             [
              0.1111111111111111,
              "#46039f"
             ],
             [
              0.2222222222222222,
              "#7201a8"
             ],
             [
              0.3333333333333333,
              "#9c179e"
             ],
             [
              0.4444444444444444,
              "#bd3786"
             ],
             [
              0.5555555555555556,
              "#d8576b"
             ],
             [
              0.6666666666666666,
              "#ed7953"
             ],
             [
              0.7777777777777778,
              "#fb9f3a"
             ],
             [
              0.8888888888888888,
              "#fdca26"
             ],
             [
              1,
              "#f0f921"
             ]
            ],
            "type": "surface"
           }
          ],
          "table": [
           {
            "cells": {
             "fill": {
              "color": "#EBF0F8"
             },
             "line": {
              "color": "white"
             }
            },
            "header": {
             "fill": {
              "color": "#C8D4E3"
             },
             "line": {
              "color": "white"
             }
            },
            "type": "table"
           }
          ]
         },
         "layout": {
          "annotationdefaults": {
           "arrowcolor": "#2a3f5f",
           "arrowhead": 0,
           "arrowwidth": 1
          },
          "autotypenumbers": "strict",
          "coloraxis": {
           "colorbar": {
            "outlinewidth": 0,
            "ticks": ""
           }
          },
          "colorscale": {
           "diverging": [
            [
             0,
             "#8e0152"
            ],
            [
             0.1,
             "#c51b7d"
            ],
            [
             0.2,
             "#de77ae"
            ],
            [
             0.3,
             "#f1b6da"
            ],
            [
             0.4,
             "#fde0ef"
            ],
            [
             0.5,
             "#f7f7f7"
            ],
            [
             0.6,
             "#e6f5d0"
            ],
            [
             0.7,
             "#b8e186"
            ],
            [
             0.8,
             "#7fbc41"
            ],
            [
             0.9,
             "#4d9221"
            ],
            [
             1,
             "#276419"
            ]
           ],
           "sequential": [
            [
             0,
             "#0d0887"
            ],
            [
             0.1111111111111111,
             "#46039f"
            ],
            [
             0.2222222222222222,
             "#7201a8"
            ],
            [
             0.3333333333333333,
             "#9c179e"
            ],
            [
             0.4444444444444444,
             "#bd3786"
            ],
            [
             0.5555555555555556,
             "#d8576b"
            ],
            [
             0.6666666666666666,
             "#ed7953"
            ],
            [
             0.7777777777777778,
             "#fb9f3a"
            ],
            [
             0.8888888888888888,
             "#fdca26"
            ],
            [
             1,
             "#f0f921"
            ]
           ],
           "sequentialminus": [
            [
             0,
             "#0d0887"
            ],
            [
             0.1111111111111111,
             "#46039f"
            ],
            [
             0.2222222222222222,
             "#7201a8"
            ],
            [
             0.3333333333333333,
             "#9c179e"
            ],
            [
             0.4444444444444444,
             "#bd3786"
            ],
            [
             0.5555555555555556,
             "#d8576b"
            ],
            [
             0.6666666666666666,
             "#ed7953"
            ],
            [
             0.7777777777777778,
             "#fb9f3a"
            ],
            [
             0.8888888888888888,
             "#fdca26"
            ],
            [
             1,
             "#f0f921"
            ]
           ]
          },
          "colorway": [
           "#636efa",
           "#EF553B",
           "#00cc96",
           "#ab63fa",
           "#FFA15A",
           "#19d3f3",
           "#FF6692",
           "#B6E880",
           "#FF97FF",
           "#FECB52"
          ],
          "font": {
           "color": "#2a3f5f"
          },
          "geo": {
           "bgcolor": "white",
           "lakecolor": "white",
           "landcolor": "#E5ECF6",
           "showlakes": true,
           "showland": true,
           "subunitcolor": "white"
          },
          "hoverlabel": {
           "align": "left"
          },
          "hovermode": "closest",
          "mapbox": {
           "style": "light"
          },
          "paper_bgcolor": "white",
          "plot_bgcolor": "#E5ECF6",
          "polar": {
           "angularaxis": {
            "gridcolor": "white",
            "linecolor": "white",
            "ticks": ""
           },
           "bgcolor": "#E5ECF6",
           "radialaxis": {
            "gridcolor": "white",
            "linecolor": "white",
            "ticks": ""
           }
          },
          "scene": {
           "xaxis": {
            "backgroundcolor": "#E5ECF6",
            "gridcolor": "white",
            "gridwidth": 2,
            "linecolor": "white",
            "showbackground": true,
            "ticks": "",
            "zerolinecolor": "white"
           },
           "yaxis": {
            "backgroundcolor": "#E5ECF6",
            "gridcolor": "white",
            "gridwidth": 2,
            "linecolor": "white",
            "showbackground": true,
            "ticks": "",
            "zerolinecolor": "white"
           },
           "zaxis": {
            "backgroundcolor": "#E5ECF6",
            "gridcolor": "white",
            "gridwidth": 2,
            "linecolor": "white",
            "showbackground": true,
            "ticks": "",
            "zerolinecolor": "white"
           }
          },
          "shapedefaults": {
           "line": {
            "color": "#2a3f5f"
           }
          },
          "ternary": {
           "aaxis": {
            "gridcolor": "white",
            "linecolor": "white",
            "ticks": ""
           },
           "baxis": {
            "gridcolor": "white",
            "linecolor": "white",
            "ticks": ""
           },
           "bgcolor": "#E5ECF6",
           "caxis": {
            "gridcolor": "white",
            "linecolor": "white",
            "ticks": ""
           }
          },
          "title": {
           "x": 0.05
          },
          "xaxis": {
           "automargin": true,
           "gridcolor": "white",
           "linecolor": "white",
           "ticks": "",
           "title": {
            "standoff": 15
           },
           "zerolinecolor": "white",
           "zerolinewidth": 2
          },
          "yaxis": {
           "automargin": true,
           "gridcolor": "white",
           "linecolor": "white",
           "ticks": "",
           "title": {
            "standoff": 15
           },
           "zerolinecolor": "white",
           "zerolinewidth": 2
          }
         }
        },
        "title": {
         "text": "Number of samples per drug for Escherichia_coli"
        },
        "width": 900,
        "xaxis": {
         "title": {
          "text": "Drug"
         }
        },
        "yaxis": {
         "title": {
          "text": "Number of samples"
         }
        }
       }
      },
      "text/html": [
       "<div>                            <div id=\"7f7bb1cd-4525-42e4-a687-12bc03c8c91b\" class=\"plotly-graph-div\" style=\"height:600px; width:900px;\"></div>            <script type=\"text/javascript\">                require([\"plotly\"], function(Plotly) {                    window.PLOTLYENV=window.PLOTLYENV || {};                                    if (document.getElementById(\"7f7bb1cd-4525-42e4-a687-12bc03c8c91b\")) {                    Plotly.newPlot(                        \"7f7bb1cd-4525-42e4-a687-12bc03c8c91b\",                        [{\"marker\":{\"color\":\"#BFD7EA\"},\"name\":\"S\",\"x\":[\"ciprofloxacin\",\"amoxicillin_clavulanic_acid\",\"amoxicillin\",\"ampicillin\",\"trimethoprim\",\"cefalothin\",\"levofloxacin\",\"tetracycline\",\"streptomycin\",\"sulfamethoxazole\"],\"y\":[1228,1017,388,194,283,170,58,85,78,50],\"type\":\"bar\"},{\"marker\":{\"color\":\"#FF5A5F\"},\"name\":\"R\",\"x\":[\"ciprofloxacin\",\"amoxicillin_clavulanic_acid\",\"amoxicillin\",\"ampicillin\",\"trimethoprim\",\"cefalothin\",\"levofloxacin\",\"tetracycline\",\"streptomycin\",\"sulfamethoxazole\"],\"y\":[444,401,596,312,216,196,180,140,55,83],\"type\":\"bar\"}],                        {\"template\":{\"data\":{\"histogram2dcontour\":[{\"type\":\"histogram2dcontour\",\"colorbar\":{\"outlinewidth\":0,\"ticks\":\"\"},\"colorscale\":[[0.0,\"#0d0887\"],[0.1111111111111111,\"#46039f\"],[0.2222222222222222,\"#7201a8\"],[0.3333333333333333,\"#9c179e\"],[0.4444444444444444,\"#bd3786\"],[0.5555555555555556,\"#d8576b\"],[0.6666666666666666,\"#ed7953\"],[0.7777777777777778,\"#fb9f3a\"],[0.8888888888888888,\"#fdca26\"],[1.0,\"#f0f921\"]]}],\"choropleth\":[{\"type\":\"choropleth\",\"colorbar\":{\"outlinewidth\":0,\"ticks\":\"\"}}],\"histogram2d\":[{\"type\":\"histogram2d\",\"colorbar\":{\"outlinewidth\":0,\"ticks\":\"\"},\"colorscale\":[[0.0,\"#0d0887\"],[0.1111111111111111,\"#46039f\"],[0.2222222222222222,\"#7201a8\"],[0.3333333333333333,\"#9c179e\"],[0.4444444444444444,\"#bd3786\"],[0.5555555555555556,\"#d8576b\"],[0.6666666666666666,\"#ed7953\"],[0.7777777777777778,\"#fb9f3a\"],[0.8888888888888888,\"#fdca26\"],[1.0,\"#f0f921\"]]}],\"heatmap\":[{\"type\":\"heatmap\",\"colorbar\":{\"outlinewidth\":0,\"ticks\":\"\"},\"colorscale\":[[0.0,\"#0d0887\"],[0.1111111111111111,\"#46039f\"],[0.2222222222222222,\"#7201a8\"],[0.3333333333333333,\"#9c179e\"],[0.4444444444444444,\"#bd3786\"],[0.5555555555555556,\"#d8576b\"],[0.6666666666666666,\"#ed7953\"],[0.7777777777777778,\"#fb9f3a\"],[0.8888888888888888,\"#fdca26\"],[1.0,\"#f0f921\"]]}],\"heatmapgl\":[{\"type\":\"heatmapgl\",\"colorbar\":{\"outlinewidth\":0,\"ticks\":\"\"},\"colorscale\":[[0.0,\"#0d0887\"],[0.1111111111111111,\"#46039f\"],[0.2222222222222222,\"#7201a8\"],[0.3333333333333333,\"#9c179e\"],[0.4444444444444444,\"#bd3786\"],[0.5555555555555556,\"#d8576b\"],[0.6666666666666666,\"#ed7953\"],[0.7777777777777778,\"#fb9f3a\"],[0.8888888888888888,\"#fdca26\"],[1.0,\"#f0f921\"]]}],\"contourcarpet\":[{\"type\":\"contourcarpet\",\"colorbar\":{\"outlinewidth\":0,\"ticks\":\"\"}}],\"contour\":[{\"type\":\"contour\",\"colorbar\":{\"outlinewidth\":0,\"ticks\":\"\"},\"colorscale\":[[0.0,\"#0d0887\"],[0.1111111111111111,\"#46039f\"],[0.2222222222222222,\"#7201a8\"],[0.3333333333333333,\"#9c179e\"],[0.4444444444444444,\"#bd3786\"],[0.5555555555555556,\"#d8576b\"],[0.6666666666666666,\"#ed7953\"],[0.7777777777777778,\"#fb9f3a\"],[0.8888888888888888,\"#fdca26\"],[1.0,\"#f0f921\"]]}],\"surface\":[{\"type\":\"surface\",\"colorbar\":{\"outlinewidth\":0,\"ticks\":\"\"},\"colorscale\":[[0.0,\"#0d0887\"],[0.1111111111111111,\"#46039f\"],[0.2222222222222222,\"#7201a8\"],[0.3333333333333333,\"#9c179e\"],[0.4444444444444444,\"#bd3786\"],[0.5555555555555556,\"#d8576b\"],[0.6666666666666666,\"#ed7953\"],[0.7777777777777778,\"#fb9f3a\"],[0.8888888888888888,\"#fdca26\"],[1.0,\"#f0f921\"]]}],\"mesh3d\":[{\"type\":\"mesh3d\",\"colorbar\":{\"outlinewidth\":0,\"ticks\":\"\"}}],\"scatter\":[{\"fillpattern\":{\"fillmode\":\"overlay\",\"size\":10,\"solidity\":0.2},\"type\":\"scatter\"}],\"parcoords\":[{\"type\":\"parcoords\",\"line\":{\"colorbar\":{\"outlinewidth\":0,\"ticks\":\"\"}}}],\"scatterpolargl\":[{\"type\":\"scatterpolargl\",\"marker\":{\"colorbar\":{\"outlinewidth\":0,\"ticks\":\"\"}}}],\"bar\":[{\"error_x\":{\"color\":\"#2a3f5f\"},\"error_y\":{\"color\":\"#2a3f5f\"},\"marker\":{\"line\":{\"color\":\"#E5ECF6\",\"width\":0.5},\"pattern\":{\"fillmode\":\"overlay\",\"size\":10,\"solidity\":0.2}},\"type\":\"bar\"}],\"scattergeo\":[{\"type\":\"scattergeo\",\"marker\":{\"colorbar\":{\"outlinewidth\":0,\"ticks\":\"\"}}}],\"scatterpolar\":[{\"type\":\"scatterpolar\",\"marker\":{\"colorbar\":{\"outlinewidth\":0,\"ticks\":\"\"}}}],\"histogram\":[{\"marker\":{\"pattern\":{\"fillmode\":\"overlay\",\"size\":10,\"solidity\":0.2}},\"type\":\"histogram\"}],\"scattergl\":[{\"type\":\"scattergl\",\"marker\":{\"colorbar\":{\"outlinewidth\":0,\"ticks\":\"\"}}}],\"scatter3d\":[{\"type\":\"scatter3d\",\"line\":{\"colorbar\":{\"outlinewidth\":0,\"ticks\":\"\"}},\"marker\":{\"colorbar\":{\"outlinewidth\":0,\"ticks\":\"\"}}}],\"scattermapbox\":[{\"type\":\"scattermapbox\",\"marker\":{\"colorbar\":{\"outlinewidth\":0,\"ticks\":\"\"}}}],\"scatterternary\":[{\"type\":\"scatterternary\",\"marker\":{\"colorbar\":{\"outlinewidth\":0,\"ticks\":\"\"}}}],\"scattercarpet\":[{\"type\":\"scattercarpet\",\"marker\":{\"colorbar\":{\"outlinewidth\":0,\"ticks\":\"\"}}}],\"carpet\":[{\"aaxis\":{\"endlinecolor\":\"#2a3f5f\",\"gridcolor\":\"white\",\"linecolor\":\"white\",\"minorgridcolor\":\"white\",\"startlinecolor\":\"#2a3f5f\"},\"baxis\":{\"endlinecolor\":\"#2a3f5f\",\"gridcolor\":\"white\",\"linecolor\":\"white\",\"minorgridcolor\":\"white\",\"startlinecolor\":\"#2a3f5f\"},\"type\":\"carpet\"}],\"table\":[{\"cells\":{\"fill\":{\"color\":\"#EBF0F8\"},\"line\":{\"color\":\"white\"}},\"header\":{\"fill\":{\"color\":\"#C8D4E3\"},\"line\":{\"color\":\"white\"}},\"type\":\"table\"}],\"barpolar\":[{\"marker\":{\"line\":{\"color\":\"#E5ECF6\",\"width\":0.5},\"pattern\":{\"fillmode\":\"overlay\",\"size\":10,\"solidity\":0.2}},\"type\":\"barpolar\"}],\"pie\":[{\"automargin\":true,\"type\":\"pie\"}]},\"layout\":{\"autotypenumbers\":\"strict\",\"colorway\":[\"#636efa\",\"#EF553B\",\"#00cc96\",\"#ab63fa\",\"#FFA15A\",\"#19d3f3\",\"#FF6692\",\"#B6E880\",\"#FF97FF\",\"#FECB52\"],\"font\":{\"color\":\"#2a3f5f\"},\"hovermode\":\"closest\",\"hoverlabel\":{\"align\":\"left\"},\"paper_bgcolor\":\"white\",\"plot_bgcolor\":\"#E5ECF6\",\"polar\":{\"bgcolor\":\"#E5ECF6\",\"angularaxis\":{\"gridcolor\":\"white\",\"linecolor\":\"white\",\"ticks\":\"\"},\"radialaxis\":{\"gridcolor\":\"white\",\"linecolor\":\"white\",\"ticks\":\"\"}},\"ternary\":{\"bgcolor\":\"#E5ECF6\",\"aaxis\":{\"gridcolor\":\"white\",\"linecolor\":\"white\",\"ticks\":\"\"},\"baxis\":{\"gridcolor\":\"white\",\"linecolor\":\"white\",\"ticks\":\"\"},\"caxis\":{\"gridcolor\":\"white\",\"linecolor\":\"white\",\"ticks\":\"\"}},\"coloraxis\":{\"colorbar\":{\"outlinewidth\":0,\"ticks\":\"\"}},\"colorscale\":{\"sequential\":[[0.0,\"#0d0887\"],[0.1111111111111111,\"#46039f\"],[0.2222222222222222,\"#7201a8\"],[0.3333333333333333,\"#9c179e\"],[0.4444444444444444,\"#bd3786\"],[0.5555555555555556,\"#d8576b\"],[0.6666666666666666,\"#ed7953\"],[0.7777777777777778,\"#fb9f3a\"],[0.8888888888888888,\"#fdca26\"],[1.0,\"#f0f921\"]],\"sequentialminus\":[[0.0,\"#0d0887\"],[0.1111111111111111,\"#46039f\"],[0.2222222222222222,\"#7201a8\"],[0.3333333333333333,\"#9c179e\"],[0.4444444444444444,\"#bd3786\"],[0.5555555555555556,\"#d8576b\"],[0.6666666666666666,\"#ed7953\"],[0.7777777777777778,\"#fb9f3a\"],[0.8888888888888888,\"#fdca26\"],[1.0,\"#f0f921\"]],\"diverging\":[[0,\"#8e0152\"],[0.1,\"#c51b7d\"],[0.2,\"#de77ae\"],[0.3,\"#f1b6da\"],[0.4,\"#fde0ef\"],[0.5,\"#f7f7f7\"],[0.6,\"#e6f5d0\"],[0.7,\"#b8e186\"],[0.8,\"#7fbc41\"],[0.9,\"#4d9221\"],[1,\"#276419\"]]},\"xaxis\":{\"gridcolor\":\"white\",\"linecolor\":\"white\",\"ticks\":\"\",\"title\":{\"standoff\":15},\"zerolinecolor\":\"white\",\"automargin\":true,\"zerolinewidth\":2},\"yaxis\":{\"gridcolor\":\"white\",\"linecolor\":\"white\",\"ticks\":\"\",\"title\":{\"standoff\":15},\"zerolinecolor\":\"white\",\"automargin\":true,\"zerolinewidth\":2},\"scene\":{\"xaxis\":{\"backgroundcolor\":\"#E5ECF6\",\"gridcolor\":\"white\",\"linecolor\":\"white\",\"showbackground\":true,\"ticks\":\"\",\"zerolinecolor\":\"white\",\"gridwidth\":2},\"yaxis\":{\"backgroundcolor\":\"#E5ECF6\",\"gridcolor\":\"white\",\"linecolor\":\"white\",\"showbackground\":true,\"ticks\":\"\",\"zerolinecolor\":\"white\",\"gridwidth\":2},\"zaxis\":{\"backgroundcolor\":\"#E5ECF6\",\"gridcolor\":\"white\",\"linecolor\":\"white\",\"showbackground\":true,\"ticks\":\"\",\"zerolinecolor\":\"white\",\"gridwidth\":2}},\"shapedefaults\":{\"line\":{\"color\":\"#2a3f5f\"}},\"annotationdefaults\":{\"arrowcolor\":\"#2a3f5f\",\"arrowhead\":0,\"arrowwidth\":1},\"geo\":{\"bgcolor\":\"white\",\"landcolor\":\"#E5ECF6\",\"subunitcolor\":\"white\",\"showland\":true,\"showlakes\":true,\"lakecolor\":\"white\"},\"title\":{\"x\":0.05},\"mapbox\":{\"style\":\"light\"}}},\"plot_bgcolor\":\"white\",\"barmode\":\"stack\",\"width\":900,\"height\":600,\"xaxis\":{\"title\":{\"text\":\"Drug\"}},\"yaxis\":{\"title\":{\"text\":\"Number of samples\"}},\"title\":{\"text\":\"Number of samples per drug for Escherichia_coli\"}},                        {\"responsive\": true}                    ).then(function(){\n",
       "                            \n",
       "var gd = document.getElementById('7f7bb1cd-4525-42e4-a687-12bc03c8c91b');\n",
       "var x = new MutationObserver(function (mutations, observer) {{\n",
       "        var display = window.getComputedStyle(gd).display;\n",
       "        if (!display || display === 'none') {{\n",
       "            console.log([gd, 'removed!']);\n",
       "            Plotly.purge(gd);\n",
       "            observer.disconnect();\n",
       "        }}\n",
       "}});\n",
       "\n",
       "// Listen for the removal of the full notebook cells\n",
       "var notebookContainer = gd.closest('#notebook-container');\n",
       "if (notebookContainer) {{\n",
       "    x.observe(notebookContainer, {childList: true});\n",
       "}}\n",
       "\n",
       "// Listen for the clearing of the current output cell\n",
       "var outputEl = gd.closest('.output');\n",
       "if (outputEl) {{\n",
       "    x.observe(outputEl, {childList: true});\n",
       "}}\n",
       "\n",
       "                        })                };                });            </script>        </div>"
      ]
     },
     "metadata": {},
     "output_type": "display_data"
    }
   ],
   "source": [
    "df_sorted = df.sort_values(by=df.columns[-1], ascending=False)\n",
    "\n",
    "trace1 = go.Bar(x=df_sorted.index, y=df_sorted[df_sorted.columns[0]], name=df_sorted.columns[0], marker_color='#FF5A5F')\n",
    "trace2 = go.Bar(x=df_sorted.index, y=df_sorted[df_sorted.columns[1]], name=df_sorted.columns[1], marker_color='#BFD7EA')\n",
    "\n",
    "fig = go.Figure(data=[trace2, trace1])\n",
    "\n",
    "fig.update_layout(plot_bgcolor='white')\n",
    "fig.update_layout(barmode='stack', width=900, height=600)\n",
    "# add axes\n",
    "fig.update_xaxes(title_text='Drug')\n",
    "fig.update_yaxes(title_text='Number of samples')\n",
    "fig.update_layout(title=f'Number of samples per drug for {species}')\n",
    "fig.show()\n",
    "\n",
    "pio.write_image(fig, f'figures/phenotypic_drugs_distributions_{species}.png')"
   ]
  },
  {
   "cell_type": "markdown",
   "metadata": {},
   "source": [
    "to do:\n",
    "\n",
    "- [ ] make imbalance 70/30\n",
    "- [ ] make freq 200"
   ]
  }
 ],
 "metadata": {
  "kernelspec": {
   "display_name": "base",
   "language": "python",
   "name": "python3"
  },
  "language_info": {
   "codemirror_mode": {
    "name": "ipython",
    "version": 3
   },
   "file_extension": ".py",
   "mimetype": "text/x-python",
   "name": "python",
   "nbconvert_exporter": "python",
   "pygments_lexer": "ipython3",
   "version": "3.12.2"
  }
 },
 "nbformat": 4,
 "nbformat_minor": 2
}
