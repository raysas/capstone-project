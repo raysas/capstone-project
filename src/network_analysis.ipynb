{
 "cells": [
  {
   "cell_type": "markdown",
   "metadata": {},
   "source": [
    "# Network Analysis\n",
    "\n",
    "This is a set of repeated functions required everytime we're analyzing a graph. Useful for code reuse and keeping things clean."
   ]
  },
  {
   "cell_type": "code",
   "execution_count": 2,
   "metadata": {},
   "outputs": [],
   "source": [
    "import networkx as nx\n",
    "import pandas as pd\n",
    "import numpy as np"
   ]
  },
  {
   "cell_type": "code",
   "execution_count": 13,
   "metadata": {},
   "outputs": [
    {
     "data": {
      "text/html": [
       "<div>\n",
       "<style scoped>\n",
       "    .dataframe tbody tr th:only-of-type {\n",
       "        vertical-align: middle;\n",
       "    }\n",
       "\n",
       "    .dataframe tbody tr th {\n",
       "        vertical-align: top;\n",
       "    }\n",
       "\n",
       "    .dataframe thead th {\n",
       "        text-align: right;\n",
       "    }\n",
       "</style>\n",
       "<table border=\"1\" class=\"dataframe\">\n",
       "  <thead>\n",
       "    <tr style=\"text-align: right;\">\n",
       "      <th></th>\n",
       "      <th>|V|</th>\n",
       "      <th>|E|</th>\n",
       "      <th>density</th>\n",
       "      <th>k</th>\n",
       "      <th>k weighted</th>\n",
       "      <th>|components|</th>\n",
       "      <th>cc</th>\n",
       "      <th>s_path</th>\n",
       "      <th>d</th>\n",
       "      <th>|communities|</th>\n",
       "      <th>Q</th>\n",
       "    </tr>\n",
       "    <tr>\n",
       "      <th>Name</th>\n",
       "      <th></th>\n",
       "      <th></th>\n",
       "      <th></th>\n",
       "      <th></th>\n",
       "      <th></th>\n",
       "      <th></th>\n",
       "      <th></th>\n",
       "      <th></th>\n",
       "      <th></th>\n",
       "      <th></th>\n",
       "      <th></th>\n",
       "    </tr>\n",
       "  </thead>\n",
       "  <tbody>\n",
       "    <tr>\n",
       "      <th>karate_club_graph</th>\n",
       "      <td>34</td>\n",
       "      <td>78</td>\n",
       "      <td>0.139037</td>\n",
       "      <td>4.588235</td>\n",
       "      <td>13.588235</td>\n",
       "      <td>1</td>\n",
       "      <td>0.570638</td>\n",
       "      <td>2.4082</td>\n",
       "      <td>5</td>\n",
       "      <td>3</td>\n",
       "      <td>0.434521</td>\n",
       "    </tr>\n",
       "  </tbody>\n",
       "</table>\n",
       "</div>"
      ],
      "text/plain": [
       "                   |V|  |E|   density         k  k weighted  |components|  \\\n",
       "Name                                                                        \n",
       "karate_club_graph   34   78  0.139037  4.588235   13.588235             1   \n",
       "\n",
       "                         cc  s_path  d  |communities|         Q  \n",
       "Name                                                             \n",
       "karate_club_graph  0.570638  2.4082  5              3  0.434521  "
      ]
     },
     "execution_count": 13,
     "metadata": {},
     "output_type": "execute_result"
    }
   ],
   "source": [
    "def compute_network_stats(G, network_name=\"G\"):\n",
    "    if type(G) == str:\n",
    "        #if its given a gml file path\n",
    "        G = nx.read_gml(G)\n",
    "\n",
    "    components = nx.connected_components(G)\n",
    "\n",
    "    largest_cc = max(components, key=len)\n",
    "    largest_cc_subgraph = G.subgraph(largest_cc)\n",
    "\n",
    "    communities = nx.algorithms.community.louvain_communities(G)\n",
    "\n",
    "    stats = {\n",
    "        \"Name\": network_name,\n",
    "        \"|V|\": G.number_of_nodes(),\n",
    "        \"|E|\": G.number_of_edges(),\n",
    "        \"density\": nx.density(G),\n",
    "        \"k\": np.mean(list(dict(G.degree()).values())),\n",
    "        \"k weighted\": np.mean(list(dict(G.degree(weight='weight')).values())),\n",
    "        \"|components|\": nx.number_connected_components(G),\n",
    "        \"cc\": nx.average_clustering(G),\n",
    "        \"s_path\": nx.average_shortest_path_length(largest_cc_subgraph),\n",
    "        \"d\": nx.diameter(largest_cc_subgraph),\n",
    "        \"|communities|\": len(list(communities)),\n",
    "        \"Q\": nx.community.modularity(G, communities),\n",
    "    }\n",
    "\n",
    "    stats_df = pd.DataFrame(stats, index=[0])\n",
    "    stats_df.set_index(\"Name\", inplace=True)\n",
    "    \n",
    "    return stats_df\n",
    "\n"
   ]
  }
 ],
 "metadata": {
  "kernelspec": {
   "display_name": "base",
   "language": "python",
   "name": "python3"
  },
  "language_info": {
   "codemirror_mode": {
    "name": "ipython",
    "version": 3
   },
   "file_extension": ".py",
   "mimetype": "text/x-python",
   "name": "python",
   "nbconvert_exporter": "python",
   "pygments_lexer": "ipython3",
   "version": "3.11.5"
  }
 },
 "nbformat": 4,
 "nbformat_minor": 2
}
