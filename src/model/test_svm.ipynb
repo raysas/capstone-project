{
 "cells": [
  {
   "cell_type": "markdown",
   "metadata": {},
   "source": [
    "# Set up"
   ]
  },
  {
   "cell_type": "code",
   "execution_count": null,
   "metadata": {},
   "outputs": [],
   "source": [
    "import numpy as np\n",
    "import pandas as pd\n",
    "import networkx as nx\n",
    "\n",
    "\n",
    "from sklearn.svm import SVC\n",
    "from sklearn.linear_model import SGDClassifier\n",
    "from sklearn.model_selection import train_test_split\n",
    "from sklearn.metrics import accuracy_score\n",
    "from sklearn.utils import resample\n",
    "from sklearn.preprocessing import StandardScaler\n",
    "from sklearn.pipeline import make_pipeline\n",
    "from sklearn.base import clone\n",
    "from sklearn.metrics import roc_auc_score\n",
    "\n",
    "import statsmodels.api as sm\n",
    "from statsmodels.stats.multitest import fdrcorrection\n",
    "from statsmodels.formula.api import ols\n",
    "\n",
    "import sys\n",
    "sys.path.append(\"..\")\n",
    "from cluster_analysis import *\n",
    "from LOR_calculation import *\n",
    "\n",
    "import warnings\n",
    "\n",
    "#preparing the data\n",
    "\n",
    "X_df = pd.read_csv('../../data/presence_matrices/Campylobacter_coli_presence_absence.csv', index_col=0)\n",
    "y_df= pd.read_csv('../../data/phenotypes/Campylobacter_coli_ciprofloxacin.csv', index_col=0)\n",
    "\n",
    "for gene in X_df.columns:\n",
    "    \n",
    "    if X_df[gene].std() == 0:\n",
    "        X_df.drop(gene, axis=1, inplace=True)\n",
    "\n",
    "X_df = X_df.sort_index()\n",
    "y_df = y_df.sort_index()\n",
    "\n",
    "y_indices=list(y_df.index)\n",
    "X_indices=list(X_df.index)\n",
    "\n",
    "intersection = [i for i in y_indices if i in X_indices]\n",
    "y_df = y_df.loc[intersection]\n",
    "X_df = X_df.loc[intersection]\n",
    "\n",
    "X = X_df.values\n",
    "y = y_df.values\n",
    "\n",
    "labeled_matrix = pd.concat([X_df, y_df], axis=1)"
   ]
  },
  {
   "cell_type": "markdown",
   "metadata": {},
   "source": [
    "# Model"
   ]
  },
  {
   "cell_type": "markdown",
   "metadata": {},
   "source": [
    "## SVM"
   ]
  },
  {
   "cell_type": "code",
   "execution_count": null,
   "metadata": {},
   "outputs": [],
   "source": [
    "n_models = 200\n",
    "t = 0.4"
   ]
  },
  {
   "cell_type": "code",
   "execution_count": null,
   "metadata": {},
   "outputs": [],
   "source": [
    "models=[]\n",
    "for i in range(n_models):\n",
    "    X_boot, y_boot = resample(X, y, random_state=i)\n",
    "    model=SGDClassifier(loss='hinge', penalty= None, max_iter=1000, tol=1e-3)\n",
    "    model.fit(X_boot, y_boot.ravel())\n",
    "    models.append(model)\n",
    "\n",
    "weights=np.zeros((n_models, X.shape[1]))\n",
    "for i in range(n_models):\n",
    "    weights[i]=models[i].coef_\n",
    "weights_df = pd.DataFrame(weights, columns=X_df.columns)\n",
    "\n",
    "corr_SVM = weights_df.corr()\n",
    "\n",
    "G=nx.Graph()\n",
    "\n",
    "for i in range(X.shape[1]):\n",
    "    for j in range(i+1, X.shape[1]):\n",
    "        node_i=X_df.columns[i]; node_j=X_df.columns[j]\n",
    "        correlation = corr_SVM.iloc[i, j]\n",
    "        if correlation > t or corr_SVM.iloc[j, i] < -t:\n",
    "            G.add_edge(node_i, node_j, weight=correlation)\n",
    "\n",
    "G=set_cluster_attributes(G)\n",
    "\n",
    "nx.write_graphml(G, f'../../data/graphs-6/{n_models}_randomized_SVM_{t}signed_corr_Campylobacter_coli_ciprofloxacin.graphml')\n",
    "\n",
    "edges_list = list(G.edges)\n",
    "print(f\"E: {len(edges_list)}, V: {G.number_of_nodes()} when {n_models} models are used\")"
   ]
  },
  {
   "cell_type": "markdown",
   "metadata": {},
   "source": [
    "### ANOVA"
   ]
  },
  {
   "cell_type": "code",
   "execution_count": null,
   "metadata": {},
   "outputs": [],
   "source": [
    "\n",
    "\n",
    "save_edges=[]\n",
    "\n",
    "edges_list_2=[(i.replace(' ', '_'), j.replace(' ', '_')) for i, j in edges_list]\n",
    "labeled_matrix_2 = labeled_matrix.rename(columns={col: col.replace(' ', '_') for col in labeled_matrix.columns})\n",
    "p_values={}\n",
    "\n",
    "count_nan=0\n",
    "save_nan_testing=[]\n",
    "\n",
    "with warnings.catch_warnings():\n",
    "    warnings.simplefilter(\"ignore\")\n",
    "    for pair in edges_list_2:\n",
    "        a, b = pair\n",
    "        # print(\" --- looking into the interaction between\", a, \"and\", b)\n",
    "        formula = f'SIR ~ {a} + {b} + {a}:{b}'\n",
    "        model = ols(formula, data=labeled_matrix_2).fit()\n",
    "        anova_table = sm.stats.anova_lm(model, typ=2)\n",
    "\n",
    "        if not np.isnan(anova_table['PR(>F)'][2]):\n",
    "            p_values[anova_table.index[2]]=anova_table['PR(>F)'][2]\n",
    "        else:\n",
    "            save_nan_testing.append(pair)\n",
    "            count_nan+=1\n",
    "        \n",
    "print(f\"{count_nan} interactions have nan p-values - removed\")\n",
    "\n",
    "# mst correction - using fdr\n",
    "\n",
    "gene_gene_pair = list(p_values.keys())\n",
    "p_values_list = list(p_values.values())\n",
    "\n",
    "reject, corrected_p_values= fdrcorrection(p_values_list)\n",
    "\n",
    "results_df = pd.DataFrame({\n",
    "    'gene_gene': gene_gene_pair,\n",
    "    'p-value': p_values_list,\n",
    "    'corr_p_value': corrected_p_values,\n",
    "    'reject_H0': reject\n",
    "})\n",
    "\n",
    "count_rejected=0\n",
    "for i in reject:\n",
    "    if i:\n",
    "        count_rejected+=1\n",
    "\n",
    "print(f\"Number of rejected H0: {count_rejected} out of {len(reject)}\")\n",
    "\n",
    "new_edge_pairs=results_df[results_df['reject_H0'] == True]['gene_gene'].values\n",
    "\n",
    "edge_pairs_tuples = [tuple(pair.split(':')) for pair in new_edge_pairs]\n",
    "edge_pairs_tuples\n",
    "edge_pairs_tuples=[(i.replace('_', ' '), j.replace('_', ' ')) for i, j in edge_pairs_tuples]\n",
    "\n",
    "G_sig=nx.Graph()\n",
    "G_sig.add_edges_from(edge_pairs_tuples)\n",
    "\n",
    "G_sig=set_cluster_attributes(G_sig)\n",
    "\n",
    "nx.write_graphml(G_sig, f'../../data/graphs-6/corrected_{n_models}_randomized_SVM_{t}signed_corr_Campylobacter_coli_ciprofloxacin.graphml')\n",
    "\n",
    "print(f\"final number of nodes: {G_sig.number_of_nodes()}, final number of edges: {G_sig.number_of_edges()}\")\n"
   ]
  },
  {
   "cell_type": "markdown",
   "metadata": {},
   "source": [
    "### LOR of R co-occurence"
   ]
  },
  {
   "cell_type": "code",
   "execution_count": null,
   "metadata": {},
   "outputs": [],
   "source": [
    "LOR_df = compute_cooccurence_LOR(gene_pairs=edges_list)\n",
    "#try it on threshold 0.5"
   ]
  }
 ],
 "metadata": {
  "kernelspec": {
   "display_name": "base",
   "language": "python",
   "name": "python3"
  },
  "language_info": {
   "codemirror_mode": {
    "name": "ipython",
    "version": 3
   },
   "file_extension": ".py",
   "mimetype": "text/x-python",
   "name": "python",
   "nbconvert_exporter": "python",
   "pygments_lexer": "ipython3",
   "version": "3.11.5"
  }
 },
 "nbformat": 4,
 "nbformat_minor": 2
}
