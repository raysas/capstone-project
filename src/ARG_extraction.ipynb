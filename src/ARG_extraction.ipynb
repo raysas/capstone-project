{
 "cells": [
  {
   "cell_type": "code",
   "execution_count": 2,
   "metadata": {},
   "outputs": [],
   "source": [
    "import requests\n",
    "import os\n",
    "import sys\n",
    "import pandas as pd"
   ]
  },
  {
   "cell_type": "markdown",
   "metadata": {},
   "source": [
    "## parsing PATRIC through api to get ARGs"
   ]
  },
  {
   "cell_type": "code",
   "execution_count": 3,
   "metadata": {},
   "outputs": [],
   "source": [
    "def get_PATRIC_from_genome_id(genome_id:str):\n",
    "    ''' \n",
    "    -- requires the requests and pandas library --\n",
    "    takes a genome id and queries for speciality genes that are present in it, particularly Antibiotic resistant genes\n",
    "\n",
    "    param:\n",
    "    ------\n",
    "        - genome_id: str, genome id of the organism, of the form d+.d+\n",
    "\n",
    "    return:\n",
    "    --------\n",
    "        - df: pd.DataFrame, dataframe containing the speciality genes found in the genome\n",
    "\n",
    "    query for ARGs from genome_id and property - so doing it for all the genome ids found\n",
    "              -- in this case i would need the following cols\n",
    "                classification, product, patric_id, antibiotics, feature_id, gene, refseq_locus_tag, source_value, evidence, query_coverage\n",
    "    '''\n",
    "    link = f\"https://www.bv-brc.org/api/sp_gene/?and(eq(genome_id,%22{genome_id}%22),eq(property,%22Antibiotic%20Resistance%22))\"\n",
    "    response = requests.get(link)\n",
    "    data = response.json()\n",
    "\n",
    "    df = pd.DataFrame(columns=['patric_id','classification', 'product', 'antibiotics', 'feature_id', 'gene', 'genome_id','refseq_locus_tag', 'source', 'evidence', 'query_coverage'])\n",
    "    for i, entry in enumerate(data):\n",
    "        df.loc[i] = entry\n",
    "\n",
    "    # -- these entries are given as an array of strings, transform to a single string within the dataframe\n",
    "    df['antibiotics'] = df['antibiotics'].apply(lambda x: ', '.join(x) if isinstance(x, list) else str(x))\n",
    "    df['classification'] = df['classification'].apply(lambda x: ', '.join(x) if isinstance(x, list) else str(x))\n",
    "\n",
    "    # -- indexing by the paric_id (pk of the gene)\n",
    "    df.set_index('patric_id', inplace=True)\n",
    "    \n",
    "    return df\n",
    "\n",
    "def get_PATRIC_from_genome_id_list(genome_id_list:str):\n",
    "    ''' \n",
    "    -- automates the get_PATRIC_from_genome_id function on all\n",
    "\n",
    "    param:\n",
    "        - genome_id_list: list\n",
    "    return:\n",
    "        - df: pd.DataFrame\n",
    "\n",
    "    '''\n",
    "    df= pd.DataFrame()\n",
    "    for i in genome_id_list:\n",
    "        temp_df = get_PATRIC_from_genome_id(i)\n",
    "        df = pd.concat([df, temp_df])\n",
    "\n",
    "    return df\n",
    "\n"
   ]
  },
  {
   "cell_type": "code",
   "execution_count": 4,
   "metadata": {},
   "outputs": [
    {
     "ename": "KeyboardInterrupt",
     "evalue": "",
     "output_type": "error",
     "traceback": [
      "\u001b[0;31m---------------------------------------------------------------------------\u001b[0m",
      "\u001b[0;31mKeyboardInterrupt\u001b[0m                         Traceback (most recent call last)",
      "Cell \u001b[0;32mIn[4], line 5\u001b[0m\n\u001b[1;32m      1\u001b[0m get_genome_ids \u001b[38;5;241m=\u001b[39m \u001b[38;5;28;01mlambda\u001b[39;00m path: pd\u001b[38;5;241m.\u001b[39mread_csv(path)\u001b[38;5;241m.\u001b[39mastype(\u001b[38;5;28mstr\u001b[39m)[\u001b[38;5;124m'\u001b[39m\u001b[38;5;124mgenome.genome_ids\u001b[39m\u001b[38;5;124m'\u001b[39m]\u001b[38;5;241m.\u001b[39mto_list()\n\u001b[1;32m      3\u001b[0m genome_ids \u001b[38;5;241m=\u001b[39m get_genome_ids(\u001b[38;5;124m'\u001b[39m\u001b[38;5;124m../pangenome-repo/Pangenome-Analysis-Workflow/genome_ids/Escherichia_coli_genome_ids.csv\u001b[39m\u001b[38;5;124m'\u001b[39m)\n\u001b[0;32m----> 5\u001b[0m df \u001b[38;5;241m=\u001b[39m \u001b[43mget_PATRIC_from_genome_id_list\u001b[49m\u001b[43m(\u001b[49m\u001b[43mgenome_ids\u001b[49m\u001b[43m)\u001b[49m\n",
      "Cell \u001b[0;32mIn[3], line 47\u001b[0m, in \u001b[0;36mget_PATRIC_from_genome_id_list\u001b[0;34m(genome_id_list)\u001b[0m\n\u001b[1;32m     45\u001b[0m df\u001b[38;5;241m=\u001b[39m pd\u001b[38;5;241m.\u001b[39mDataFrame()\n\u001b[1;32m     46\u001b[0m \u001b[38;5;28;01mfor\u001b[39;00m i \u001b[38;5;129;01min\u001b[39;00m genome_id_list:\n\u001b[0;32m---> 47\u001b[0m     temp_df \u001b[38;5;241m=\u001b[39m \u001b[43mget_PATRIC_from_genome_id\u001b[49m\u001b[43m(\u001b[49m\u001b[43mi\u001b[49m\u001b[43m)\u001b[49m\n\u001b[1;32m     48\u001b[0m     df \u001b[38;5;241m=\u001b[39m pd\u001b[38;5;241m.\u001b[39mconcat([df, temp_df])\n\u001b[1;32m     50\u001b[0m \u001b[38;5;28;01mreturn\u001b[39;00m df\n",
      "Cell \u001b[0;32mIn[3], line 19\u001b[0m, in \u001b[0;36mget_PATRIC_from_genome_id\u001b[0;34m(genome_id)\u001b[0m\n\u001b[1;32m      2\u001b[0m \u001b[38;5;250m\u001b[39m\u001b[38;5;124;03m''' \u001b[39;00m\n\u001b[1;32m      3\u001b[0m \u001b[38;5;124;03m-- requires the requests and pandas library --\u001b[39;00m\n\u001b[1;32m      4\u001b[0m \u001b[38;5;124;03mtakes a genome id and queries for speciality genes that are present in it, particularly Antibiotic resistant genes\u001b[39;00m\n\u001b[0;32m   (...)\u001b[0m\n\u001b[1;32m     16\u001b[0m \u001b[38;5;124;03m            classification, product, patric_id, antibiotics, feature_id, gene, refseq_locus_tag, source_value, evidence, query_coverage\u001b[39;00m\n\u001b[1;32m     17\u001b[0m \u001b[38;5;124;03m'''\u001b[39;00m\n\u001b[1;32m     18\u001b[0m link \u001b[38;5;241m=\u001b[39m \u001b[38;5;124mf\u001b[39m\u001b[38;5;124m\"\u001b[39m\u001b[38;5;124mhttps://www.bv-brc.org/api/sp_gene/?and(eq(genome_id,%22\u001b[39m\u001b[38;5;132;01m{\u001b[39;00mgenome_id\u001b[38;5;132;01m}\u001b[39;00m\u001b[38;5;124m%22),eq(property,%22Antibiotic%20Resistance%22))\u001b[39m\u001b[38;5;124m\"\u001b[39m\n\u001b[0;32m---> 19\u001b[0m response \u001b[38;5;241m=\u001b[39m \u001b[43mrequests\u001b[49m\u001b[38;5;241;43m.\u001b[39;49m\u001b[43mget\u001b[49m\u001b[43m(\u001b[49m\u001b[43mlink\u001b[49m\u001b[43m)\u001b[49m\n\u001b[1;32m     20\u001b[0m data \u001b[38;5;241m=\u001b[39m response\u001b[38;5;241m.\u001b[39mjson()\n\u001b[1;32m     22\u001b[0m df \u001b[38;5;241m=\u001b[39m pd\u001b[38;5;241m.\u001b[39mDataFrame(columns\u001b[38;5;241m=\u001b[39m[\u001b[38;5;124m'\u001b[39m\u001b[38;5;124mpatric_id\u001b[39m\u001b[38;5;124m'\u001b[39m,\u001b[38;5;124m'\u001b[39m\u001b[38;5;124mclassification\u001b[39m\u001b[38;5;124m'\u001b[39m, \u001b[38;5;124m'\u001b[39m\u001b[38;5;124mproduct\u001b[39m\u001b[38;5;124m'\u001b[39m, \u001b[38;5;124m'\u001b[39m\u001b[38;5;124mantibiotics\u001b[39m\u001b[38;5;124m'\u001b[39m, \u001b[38;5;124m'\u001b[39m\u001b[38;5;124mfeature_id\u001b[39m\u001b[38;5;124m'\u001b[39m, \u001b[38;5;124m'\u001b[39m\u001b[38;5;124mgene\u001b[39m\u001b[38;5;124m'\u001b[39m, \u001b[38;5;124m'\u001b[39m\u001b[38;5;124mgenome_id\u001b[39m\u001b[38;5;124m'\u001b[39m,\u001b[38;5;124m'\u001b[39m\u001b[38;5;124mrefseq_locus_tag\u001b[39m\u001b[38;5;124m'\u001b[39m, \u001b[38;5;124m'\u001b[39m\u001b[38;5;124msource\u001b[39m\u001b[38;5;124m'\u001b[39m, \u001b[38;5;124m'\u001b[39m\u001b[38;5;124mevidence\u001b[39m\u001b[38;5;124m'\u001b[39m, \u001b[38;5;124m'\u001b[39m\u001b[38;5;124mquery_coverage\u001b[39m\u001b[38;5;124m'\u001b[39m])\n",
      "File \u001b[0;32m~/miniconda3/lib/python3.12/site-packages/requests/api.py:73\u001b[0m, in \u001b[0;36mget\u001b[0;34m(url, params, **kwargs)\u001b[0m\n\u001b[1;32m     62\u001b[0m \u001b[38;5;28;01mdef\u001b[39;00m \u001b[38;5;21mget\u001b[39m(url, params\u001b[38;5;241m=\u001b[39m\u001b[38;5;28;01mNone\u001b[39;00m, \u001b[38;5;241m*\u001b[39m\u001b[38;5;241m*\u001b[39mkwargs):\n\u001b[1;32m     63\u001b[0m \u001b[38;5;250m    \u001b[39m\u001b[38;5;124mr\u001b[39m\u001b[38;5;124;03m\"\"\"Sends a GET request.\u001b[39;00m\n\u001b[1;32m     64\u001b[0m \n\u001b[1;32m     65\u001b[0m \u001b[38;5;124;03m    :param url: URL for the new :class:`Request` object.\u001b[39;00m\n\u001b[0;32m   (...)\u001b[0m\n\u001b[1;32m     70\u001b[0m \u001b[38;5;124;03m    :rtype: requests.Response\u001b[39;00m\n\u001b[1;32m     71\u001b[0m \u001b[38;5;124;03m    \"\"\"\u001b[39;00m\n\u001b[0;32m---> 73\u001b[0m     \u001b[38;5;28;01mreturn\u001b[39;00m \u001b[43mrequest\u001b[49m\u001b[43m(\u001b[49m\u001b[38;5;124;43m\"\u001b[39;49m\u001b[38;5;124;43mget\u001b[39;49m\u001b[38;5;124;43m\"\u001b[39;49m\u001b[43m,\u001b[49m\u001b[43m \u001b[49m\u001b[43murl\u001b[49m\u001b[43m,\u001b[49m\u001b[43m \u001b[49m\u001b[43mparams\u001b[49m\u001b[38;5;241;43m=\u001b[39;49m\u001b[43mparams\u001b[49m\u001b[43m,\u001b[49m\u001b[43m \u001b[49m\u001b[38;5;241;43m*\u001b[39;49m\u001b[38;5;241;43m*\u001b[39;49m\u001b[43mkwargs\u001b[49m\u001b[43m)\u001b[49m\n",
      "File \u001b[0;32m~/miniconda3/lib/python3.12/site-packages/requests/api.py:59\u001b[0m, in \u001b[0;36mrequest\u001b[0;34m(method, url, **kwargs)\u001b[0m\n\u001b[1;32m     55\u001b[0m \u001b[38;5;66;03m# By using the 'with' statement we are sure the session is closed, thus we\u001b[39;00m\n\u001b[1;32m     56\u001b[0m \u001b[38;5;66;03m# avoid leaving sockets open which can trigger a ResourceWarning in some\u001b[39;00m\n\u001b[1;32m     57\u001b[0m \u001b[38;5;66;03m# cases, and look like a memory leak in others.\u001b[39;00m\n\u001b[1;32m     58\u001b[0m \u001b[38;5;28;01mwith\u001b[39;00m sessions\u001b[38;5;241m.\u001b[39mSession() \u001b[38;5;28;01mas\u001b[39;00m session:\n\u001b[0;32m---> 59\u001b[0m     \u001b[38;5;28;01mreturn\u001b[39;00m \u001b[43msession\u001b[49m\u001b[38;5;241;43m.\u001b[39;49m\u001b[43mrequest\u001b[49m\u001b[43m(\u001b[49m\u001b[43mmethod\u001b[49m\u001b[38;5;241;43m=\u001b[39;49m\u001b[43mmethod\u001b[49m\u001b[43m,\u001b[49m\u001b[43m \u001b[49m\u001b[43murl\u001b[49m\u001b[38;5;241;43m=\u001b[39;49m\u001b[43murl\u001b[49m\u001b[43m,\u001b[49m\u001b[43m \u001b[49m\u001b[38;5;241;43m*\u001b[39;49m\u001b[38;5;241;43m*\u001b[39;49m\u001b[43mkwargs\u001b[49m\u001b[43m)\u001b[49m\n",
      "File \u001b[0;32m~/miniconda3/lib/python3.12/site-packages/requests/sessions.py:589\u001b[0m, in \u001b[0;36mSession.request\u001b[0;34m(self, method, url, params, data, headers, cookies, files, auth, timeout, allow_redirects, proxies, hooks, stream, verify, cert, json)\u001b[0m\n\u001b[1;32m    584\u001b[0m send_kwargs \u001b[38;5;241m=\u001b[39m {\n\u001b[1;32m    585\u001b[0m     \u001b[38;5;124m\"\u001b[39m\u001b[38;5;124mtimeout\u001b[39m\u001b[38;5;124m\"\u001b[39m: timeout,\n\u001b[1;32m    586\u001b[0m     \u001b[38;5;124m\"\u001b[39m\u001b[38;5;124mallow_redirects\u001b[39m\u001b[38;5;124m\"\u001b[39m: allow_redirects,\n\u001b[1;32m    587\u001b[0m }\n\u001b[1;32m    588\u001b[0m send_kwargs\u001b[38;5;241m.\u001b[39mupdate(settings)\n\u001b[0;32m--> 589\u001b[0m resp \u001b[38;5;241m=\u001b[39m \u001b[38;5;28;43mself\u001b[39;49m\u001b[38;5;241;43m.\u001b[39;49m\u001b[43msend\u001b[49m\u001b[43m(\u001b[49m\u001b[43mprep\u001b[49m\u001b[43m,\u001b[49m\u001b[43m \u001b[49m\u001b[38;5;241;43m*\u001b[39;49m\u001b[38;5;241;43m*\u001b[39;49m\u001b[43msend_kwargs\u001b[49m\u001b[43m)\u001b[49m\n\u001b[1;32m    591\u001b[0m \u001b[38;5;28;01mreturn\u001b[39;00m resp\n",
      "File \u001b[0;32m~/miniconda3/lib/python3.12/site-packages/requests/sessions.py:703\u001b[0m, in \u001b[0;36mSession.send\u001b[0;34m(self, request, **kwargs)\u001b[0m\n\u001b[1;32m    700\u001b[0m start \u001b[38;5;241m=\u001b[39m preferred_clock()\n\u001b[1;32m    702\u001b[0m \u001b[38;5;66;03m# Send the request\u001b[39;00m\n\u001b[0;32m--> 703\u001b[0m r \u001b[38;5;241m=\u001b[39m \u001b[43madapter\u001b[49m\u001b[38;5;241;43m.\u001b[39;49m\u001b[43msend\u001b[49m\u001b[43m(\u001b[49m\u001b[43mrequest\u001b[49m\u001b[43m,\u001b[49m\u001b[43m \u001b[49m\u001b[38;5;241;43m*\u001b[39;49m\u001b[38;5;241;43m*\u001b[39;49m\u001b[43mkwargs\u001b[49m\u001b[43m)\u001b[49m\n\u001b[1;32m    705\u001b[0m \u001b[38;5;66;03m# Total elapsed time of the request (approximately)\u001b[39;00m\n\u001b[1;32m    706\u001b[0m elapsed \u001b[38;5;241m=\u001b[39m preferred_clock() \u001b[38;5;241m-\u001b[39m start\n",
      "File \u001b[0;32m~/miniconda3/lib/python3.12/site-packages/requests/adapters.py:486\u001b[0m, in \u001b[0;36mHTTPAdapter.send\u001b[0;34m(self, request, stream, timeout, verify, cert, proxies)\u001b[0m\n\u001b[1;32m    483\u001b[0m     timeout \u001b[38;5;241m=\u001b[39m TimeoutSauce(connect\u001b[38;5;241m=\u001b[39mtimeout, read\u001b[38;5;241m=\u001b[39mtimeout)\n\u001b[1;32m    485\u001b[0m \u001b[38;5;28;01mtry\u001b[39;00m:\n\u001b[0;32m--> 486\u001b[0m     resp \u001b[38;5;241m=\u001b[39m \u001b[43mconn\u001b[49m\u001b[38;5;241;43m.\u001b[39;49m\u001b[43murlopen\u001b[49m\u001b[43m(\u001b[49m\n\u001b[1;32m    487\u001b[0m \u001b[43m        \u001b[49m\u001b[43mmethod\u001b[49m\u001b[38;5;241;43m=\u001b[39;49m\u001b[43mrequest\u001b[49m\u001b[38;5;241;43m.\u001b[39;49m\u001b[43mmethod\u001b[49m\u001b[43m,\u001b[49m\n\u001b[1;32m    488\u001b[0m \u001b[43m        \u001b[49m\u001b[43murl\u001b[49m\u001b[38;5;241;43m=\u001b[39;49m\u001b[43murl\u001b[49m\u001b[43m,\u001b[49m\n\u001b[1;32m    489\u001b[0m \u001b[43m        \u001b[49m\u001b[43mbody\u001b[49m\u001b[38;5;241;43m=\u001b[39;49m\u001b[43mrequest\u001b[49m\u001b[38;5;241;43m.\u001b[39;49m\u001b[43mbody\u001b[49m\u001b[43m,\u001b[49m\n\u001b[1;32m    490\u001b[0m \u001b[43m        \u001b[49m\u001b[43mheaders\u001b[49m\u001b[38;5;241;43m=\u001b[39;49m\u001b[43mrequest\u001b[49m\u001b[38;5;241;43m.\u001b[39;49m\u001b[43mheaders\u001b[49m\u001b[43m,\u001b[49m\n\u001b[1;32m    491\u001b[0m \u001b[43m        \u001b[49m\u001b[43mredirect\u001b[49m\u001b[38;5;241;43m=\u001b[39;49m\u001b[38;5;28;43;01mFalse\u001b[39;49;00m\u001b[43m,\u001b[49m\n\u001b[1;32m    492\u001b[0m \u001b[43m        \u001b[49m\u001b[43massert_same_host\u001b[49m\u001b[38;5;241;43m=\u001b[39;49m\u001b[38;5;28;43;01mFalse\u001b[39;49;00m\u001b[43m,\u001b[49m\n\u001b[1;32m    493\u001b[0m \u001b[43m        \u001b[49m\u001b[43mpreload_content\u001b[49m\u001b[38;5;241;43m=\u001b[39;49m\u001b[38;5;28;43;01mFalse\u001b[39;49;00m\u001b[43m,\u001b[49m\n\u001b[1;32m    494\u001b[0m \u001b[43m        \u001b[49m\u001b[43mdecode_content\u001b[49m\u001b[38;5;241;43m=\u001b[39;49m\u001b[38;5;28;43;01mFalse\u001b[39;49;00m\u001b[43m,\u001b[49m\n\u001b[1;32m    495\u001b[0m \u001b[43m        \u001b[49m\u001b[43mretries\u001b[49m\u001b[38;5;241;43m=\u001b[39;49m\u001b[38;5;28;43mself\u001b[39;49m\u001b[38;5;241;43m.\u001b[39;49m\u001b[43mmax_retries\u001b[49m\u001b[43m,\u001b[49m\n\u001b[1;32m    496\u001b[0m \u001b[43m        \u001b[49m\u001b[43mtimeout\u001b[49m\u001b[38;5;241;43m=\u001b[39;49m\u001b[43mtimeout\u001b[49m\u001b[43m,\u001b[49m\n\u001b[1;32m    497\u001b[0m \u001b[43m        \u001b[49m\u001b[43mchunked\u001b[49m\u001b[38;5;241;43m=\u001b[39;49m\u001b[43mchunked\u001b[49m\u001b[43m,\u001b[49m\n\u001b[1;32m    498\u001b[0m \u001b[43m    \u001b[49m\u001b[43m)\u001b[49m\n\u001b[1;32m    500\u001b[0m \u001b[38;5;28;01mexcept\u001b[39;00m (ProtocolError, \u001b[38;5;167;01mOSError\u001b[39;00m) \u001b[38;5;28;01mas\u001b[39;00m err:\n\u001b[1;32m    501\u001b[0m     \u001b[38;5;28;01mraise\u001b[39;00m \u001b[38;5;167;01mConnectionError\u001b[39;00m(err, request\u001b[38;5;241m=\u001b[39mrequest)\n",
      "File \u001b[0;32m~/miniconda3/lib/python3.12/site-packages/urllib3/connectionpool.py:790\u001b[0m, in \u001b[0;36mHTTPConnectionPool.urlopen\u001b[0;34m(self, method, url, body, headers, retries, redirect, assert_same_host, timeout, pool_timeout, release_conn, chunked, body_pos, preload_content, decode_content, **response_kw)\u001b[0m\n\u001b[1;32m    787\u001b[0m response_conn \u001b[38;5;241m=\u001b[39m conn \u001b[38;5;28;01mif\u001b[39;00m \u001b[38;5;129;01mnot\u001b[39;00m release_conn \u001b[38;5;28;01melse\u001b[39;00m \u001b[38;5;28;01mNone\u001b[39;00m\n\u001b[1;32m    789\u001b[0m \u001b[38;5;66;03m# Make the request on the HTTPConnection object\u001b[39;00m\n\u001b[0;32m--> 790\u001b[0m response \u001b[38;5;241m=\u001b[39m \u001b[38;5;28;43mself\u001b[39;49m\u001b[38;5;241;43m.\u001b[39;49m\u001b[43m_make_request\u001b[49m\u001b[43m(\u001b[49m\n\u001b[1;32m    791\u001b[0m \u001b[43m    \u001b[49m\u001b[43mconn\u001b[49m\u001b[43m,\u001b[49m\n\u001b[1;32m    792\u001b[0m \u001b[43m    \u001b[49m\u001b[43mmethod\u001b[49m\u001b[43m,\u001b[49m\n\u001b[1;32m    793\u001b[0m \u001b[43m    \u001b[49m\u001b[43murl\u001b[49m\u001b[43m,\u001b[49m\n\u001b[1;32m    794\u001b[0m \u001b[43m    \u001b[49m\u001b[43mtimeout\u001b[49m\u001b[38;5;241;43m=\u001b[39;49m\u001b[43mtimeout_obj\u001b[49m\u001b[43m,\u001b[49m\n\u001b[1;32m    795\u001b[0m \u001b[43m    \u001b[49m\u001b[43mbody\u001b[49m\u001b[38;5;241;43m=\u001b[39;49m\u001b[43mbody\u001b[49m\u001b[43m,\u001b[49m\n\u001b[1;32m    796\u001b[0m \u001b[43m    \u001b[49m\u001b[43mheaders\u001b[49m\u001b[38;5;241;43m=\u001b[39;49m\u001b[43mheaders\u001b[49m\u001b[43m,\u001b[49m\n\u001b[1;32m    797\u001b[0m \u001b[43m    \u001b[49m\u001b[43mchunked\u001b[49m\u001b[38;5;241;43m=\u001b[39;49m\u001b[43mchunked\u001b[49m\u001b[43m,\u001b[49m\n\u001b[1;32m    798\u001b[0m \u001b[43m    \u001b[49m\u001b[43mretries\u001b[49m\u001b[38;5;241;43m=\u001b[39;49m\u001b[43mretries\u001b[49m\u001b[43m,\u001b[49m\n\u001b[1;32m    799\u001b[0m \u001b[43m    \u001b[49m\u001b[43mresponse_conn\u001b[49m\u001b[38;5;241;43m=\u001b[39;49m\u001b[43mresponse_conn\u001b[49m\u001b[43m,\u001b[49m\n\u001b[1;32m    800\u001b[0m \u001b[43m    \u001b[49m\u001b[43mpreload_content\u001b[49m\u001b[38;5;241;43m=\u001b[39;49m\u001b[43mpreload_content\u001b[49m\u001b[43m,\u001b[49m\n\u001b[1;32m    801\u001b[0m \u001b[43m    \u001b[49m\u001b[43mdecode_content\u001b[49m\u001b[38;5;241;43m=\u001b[39;49m\u001b[43mdecode_content\u001b[49m\u001b[43m,\u001b[49m\n\u001b[1;32m    802\u001b[0m \u001b[43m    \u001b[49m\u001b[38;5;241;43m*\u001b[39;49m\u001b[38;5;241;43m*\u001b[39;49m\u001b[43mresponse_kw\u001b[49m\u001b[43m,\u001b[49m\n\u001b[1;32m    803\u001b[0m \u001b[43m\u001b[49m\u001b[43m)\u001b[49m\n\u001b[1;32m    805\u001b[0m \u001b[38;5;66;03m# Everything went great!\u001b[39;00m\n\u001b[1;32m    806\u001b[0m clean_exit \u001b[38;5;241m=\u001b[39m \u001b[38;5;28;01mTrue\u001b[39;00m\n",
      "File \u001b[0;32m~/miniconda3/lib/python3.12/site-packages/urllib3/connectionpool.py:536\u001b[0m, in \u001b[0;36mHTTPConnectionPool._make_request\u001b[0;34m(self, conn, method, url, body, headers, retries, timeout, chunked, response_conn, preload_content, decode_content, enforce_content_length)\u001b[0m\n\u001b[1;32m    534\u001b[0m \u001b[38;5;66;03m# Receive the response from the server\u001b[39;00m\n\u001b[1;32m    535\u001b[0m \u001b[38;5;28;01mtry\u001b[39;00m:\n\u001b[0;32m--> 536\u001b[0m     response \u001b[38;5;241m=\u001b[39m \u001b[43mconn\u001b[49m\u001b[38;5;241;43m.\u001b[39;49m\u001b[43mgetresponse\u001b[49m\u001b[43m(\u001b[49m\u001b[43m)\u001b[49m\n\u001b[1;32m    537\u001b[0m \u001b[38;5;28;01mexcept\u001b[39;00m (BaseSSLError, \u001b[38;5;167;01mOSError\u001b[39;00m) \u001b[38;5;28;01mas\u001b[39;00m e:\n\u001b[1;32m    538\u001b[0m     \u001b[38;5;28mself\u001b[39m\u001b[38;5;241m.\u001b[39m_raise_timeout(err\u001b[38;5;241m=\u001b[39me, url\u001b[38;5;241m=\u001b[39murl, timeout_value\u001b[38;5;241m=\u001b[39mread_timeout)\n",
      "File \u001b[0;32m~/miniconda3/lib/python3.12/site-packages/urllib3/connection.py:461\u001b[0m, in \u001b[0;36mHTTPConnection.getresponse\u001b[0;34m(self)\u001b[0m\n\u001b[1;32m    458\u001b[0m \u001b[38;5;28;01mfrom\u001b[39;00m \u001b[38;5;21;01m.\u001b[39;00m\u001b[38;5;21;01mresponse\u001b[39;00m \u001b[38;5;28;01mimport\u001b[39;00m HTTPResponse\n\u001b[1;32m    460\u001b[0m \u001b[38;5;66;03m# Get the response from http.client.HTTPConnection\u001b[39;00m\n\u001b[0;32m--> 461\u001b[0m httplib_response \u001b[38;5;241m=\u001b[39m \u001b[38;5;28;43msuper\u001b[39;49m\u001b[43m(\u001b[49m\u001b[43m)\u001b[49m\u001b[38;5;241;43m.\u001b[39;49m\u001b[43mgetresponse\u001b[49m\u001b[43m(\u001b[49m\u001b[43m)\u001b[49m\n\u001b[1;32m    463\u001b[0m \u001b[38;5;28;01mtry\u001b[39;00m:\n\u001b[1;32m    464\u001b[0m     assert_header_parsing(httplib_response\u001b[38;5;241m.\u001b[39mmsg)\n",
      "File \u001b[0;32m~/miniconda3/lib/python3.12/http/client.py:1423\u001b[0m, in \u001b[0;36mHTTPConnection.getresponse\u001b[0;34m(self)\u001b[0m\n\u001b[1;32m   1421\u001b[0m \u001b[38;5;28;01mtry\u001b[39;00m:\n\u001b[1;32m   1422\u001b[0m     \u001b[38;5;28;01mtry\u001b[39;00m:\n\u001b[0;32m-> 1423\u001b[0m         \u001b[43mresponse\u001b[49m\u001b[38;5;241;43m.\u001b[39;49m\u001b[43mbegin\u001b[49m\u001b[43m(\u001b[49m\u001b[43m)\u001b[49m\n\u001b[1;32m   1424\u001b[0m     \u001b[38;5;28;01mexcept\u001b[39;00m \u001b[38;5;167;01mConnectionError\u001b[39;00m:\n\u001b[1;32m   1425\u001b[0m         \u001b[38;5;28mself\u001b[39m\u001b[38;5;241m.\u001b[39mclose()\n",
      "File \u001b[0;32m~/miniconda3/lib/python3.12/http/client.py:331\u001b[0m, in \u001b[0;36mHTTPResponse.begin\u001b[0;34m(self)\u001b[0m\n\u001b[1;32m    329\u001b[0m \u001b[38;5;66;03m# read until we get a non-100 response\u001b[39;00m\n\u001b[1;32m    330\u001b[0m \u001b[38;5;28;01mwhile\u001b[39;00m \u001b[38;5;28;01mTrue\u001b[39;00m:\n\u001b[0;32m--> 331\u001b[0m     version, status, reason \u001b[38;5;241m=\u001b[39m \u001b[38;5;28;43mself\u001b[39;49m\u001b[38;5;241;43m.\u001b[39;49m\u001b[43m_read_status\u001b[49m\u001b[43m(\u001b[49m\u001b[43m)\u001b[49m\n\u001b[1;32m    332\u001b[0m     \u001b[38;5;28;01mif\u001b[39;00m status \u001b[38;5;241m!=\u001b[39m CONTINUE:\n\u001b[1;32m    333\u001b[0m         \u001b[38;5;28;01mbreak\u001b[39;00m\n",
      "File \u001b[0;32m~/miniconda3/lib/python3.12/http/client.py:292\u001b[0m, in \u001b[0;36mHTTPResponse._read_status\u001b[0;34m(self)\u001b[0m\n\u001b[1;32m    291\u001b[0m \u001b[38;5;28;01mdef\u001b[39;00m \u001b[38;5;21m_read_status\u001b[39m(\u001b[38;5;28mself\u001b[39m):\n\u001b[0;32m--> 292\u001b[0m     line \u001b[38;5;241m=\u001b[39m \u001b[38;5;28mstr\u001b[39m(\u001b[38;5;28;43mself\u001b[39;49m\u001b[38;5;241;43m.\u001b[39;49m\u001b[43mfp\u001b[49m\u001b[38;5;241;43m.\u001b[39;49m\u001b[43mreadline\u001b[49m\u001b[43m(\u001b[49m\u001b[43m_MAXLINE\u001b[49m\u001b[43m \u001b[49m\u001b[38;5;241;43m+\u001b[39;49m\u001b[43m \u001b[49m\u001b[38;5;241;43m1\u001b[39;49m\u001b[43m)\u001b[49m, \u001b[38;5;124m\"\u001b[39m\u001b[38;5;124miso-8859-1\u001b[39m\u001b[38;5;124m\"\u001b[39m)\n\u001b[1;32m    293\u001b[0m     \u001b[38;5;28;01mif\u001b[39;00m \u001b[38;5;28mlen\u001b[39m(line) \u001b[38;5;241m>\u001b[39m _MAXLINE:\n\u001b[1;32m    294\u001b[0m         \u001b[38;5;28;01mraise\u001b[39;00m LineTooLong(\u001b[38;5;124m\"\u001b[39m\u001b[38;5;124mstatus line\u001b[39m\u001b[38;5;124m\"\u001b[39m)\n",
      "File \u001b[0;32m~/miniconda3/lib/python3.12/socket.py:707\u001b[0m, in \u001b[0;36mSocketIO.readinto\u001b[0;34m(self, b)\u001b[0m\n\u001b[1;32m    705\u001b[0m \u001b[38;5;28;01mwhile\u001b[39;00m \u001b[38;5;28;01mTrue\u001b[39;00m:\n\u001b[1;32m    706\u001b[0m     \u001b[38;5;28;01mtry\u001b[39;00m:\n\u001b[0;32m--> 707\u001b[0m         \u001b[38;5;28;01mreturn\u001b[39;00m \u001b[38;5;28;43mself\u001b[39;49m\u001b[38;5;241;43m.\u001b[39;49m\u001b[43m_sock\u001b[49m\u001b[38;5;241;43m.\u001b[39;49m\u001b[43mrecv_into\u001b[49m\u001b[43m(\u001b[49m\u001b[43mb\u001b[49m\u001b[43m)\u001b[49m\n\u001b[1;32m    708\u001b[0m     \u001b[38;5;28;01mexcept\u001b[39;00m timeout:\n\u001b[1;32m    709\u001b[0m         \u001b[38;5;28mself\u001b[39m\u001b[38;5;241m.\u001b[39m_timeout_occurred \u001b[38;5;241m=\u001b[39m \u001b[38;5;28;01mTrue\u001b[39;00m\n",
      "File \u001b[0;32m~/miniconda3/lib/python3.12/ssl.py:1252\u001b[0m, in \u001b[0;36mSSLSocket.recv_into\u001b[0;34m(self, buffer, nbytes, flags)\u001b[0m\n\u001b[1;32m   1248\u001b[0m     \u001b[38;5;28;01mif\u001b[39;00m flags \u001b[38;5;241m!=\u001b[39m \u001b[38;5;241m0\u001b[39m:\n\u001b[1;32m   1249\u001b[0m         \u001b[38;5;28;01mraise\u001b[39;00m \u001b[38;5;167;01mValueError\u001b[39;00m(\n\u001b[1;32m   1250\u001b[0m           \u001b[38;5;124m\"\u001b[39m\u001b[38;5;124mnon-zero flags not allowed in calls to recv_into() on \u001b[39m\u001b[38;5;132;01m%s\u001b[39;00m\u001b[38;5;124m\"\u001b[39m \u001b[38;5;241m%\u001b[39m\n\u001b[1;32m   1251\u001b[0m           \u001b[38;5;28mself\u001b[39m\u001b[38;5;241m.\u001b[39m\u001b[38;5;18m__class__\u001b[39m)\n\u001b[0;32m-> 1252\u001b[0m     \u001b[38;5;28;01mreturn\u001b[39;00m \u001b[38;5;28;43mself\u001b[39;49m\u001b[38;5;241;43m.\u001b[39;49m\u001b[43mread\u001b[49m\u001b[43m(\u001b[49m\u001b[43mnbytes\u001b[49m\u001b[43m,\u001b[49m\u001b[43m \u001b[49m\u001b[43mbuffer\u001b[49m\u001b[43m)\u001b[49m\n\u001b[1;32m   1253\u001b[0m \u001b[38;5;28;01melse\u001b[39;00m:\n\u001b[1;32m   1254\u001b[0m     \u001b[38;5;28;01mreturn\u001b[39;00m \u001b[38;5;28msuper\u001b[39m()\u001b[38;5;241m.\u001b[39mrecv_into(buffer, nbytes, flags)\n",
      "File \u001b[0;32m~/miniconda3/lib/python3.12/ssl.py:1104\u001b[0m, in \u001b[0;36mSSLSocket.read\u001b[0;34m(self, len, buffer)\u001b[0m\n\u001b[1;32m   1102\u001b[0m \u001b[38;5;28;01mtry\u001b[39;00m:\n\u001b[1;32m   1103\u001b[0m     \u001b[38;5;28;01mif\u001b[39;00m buffer \u001b[38;5;129;01mis\u001b[39;00m \u001b[38;5;129;01mnot\u001b[39;00m \u001b[38;5;28;01mNone\u001b[39;00m:\n\u001b[0;32m-> 1104\u001b[0m         \u001b[38;5;28;01mreturn\u001b[39;00m \u001b[38;5;28;43mself\u001b[39;49m\u001b[38;5;241;43m.\u001b[39;49m\u001b[43m_sslobj\u001b[49m\u001b[38;5;241;43m.\u001b[39;49m\u001b[43mread\u001b[49m\u001b[43m(\u001b[49m\u001b[38;5;28;43mlen\u001b[39;49m\u001b[43m,\u001b[49m\u001b[43m \u001b[49m\u001b[43mbuffer\u001b[49m\u001b[43m)\u001b[49m\n\u001b[1;32m   1105\u001b[0m     \u001b[38;5;28;01melse\u001b[39;00m:\n\u001b[1;32m   1106\u001b[0m         \u001b[38;5;28;01mreturn\u001b[39;00m \u001b[38;5;28mself\u001b[39m\u001b[38;5;241m.\u001b[39m_sslobj\u001b[38;5;241m.\u001b[39mread(\u001b[38;5;28mlen\u001b[39m)\n",
      "\u001b[0;31mKeyboardInterrupt\u001b[0m: "
     ]
    }
   ],
   "source": [
    "get_genome_ids = lambda path: pd.read_csv(path).astype(str)['genome.genome_ids'].to_list()\n",
    "\n",
    "genome_ids = get_genome_ids('../pangenome-repo/Pangenome-Analysis-Workflow/genome_ids/Escherichia_coli_genome_ids.csv')\n",
    "\n",
    "df = get_PATRIC_from_genome_id_list(genome_ids)"
   ]
  },
  {
   "cell_type": "code",
   "execution_count": 5,
   "metadata": {},
   "outputs": [],
   "source": [
    "df.to_csv('../data/ARG/Escherichia_coli_ARG.csv')"
   ]
  },
  {
   "cell_type": "code",
   "execution_count": 5,
   "metadata": {},
   "outputs": [],
   "source": [
    "df = pd.read_csv('../data/ARG/Escherichia_coli_ARG.csv')"
   ]
  },
  {
   "cell_type": "markdown",
   "metadata": {},
   "source": [
    "## Querying the df"
   ]
  },
  {
   "cell_type": "code",
   "execution_count": 6,
   "metadata": {},
   "outputs": [],
   "source": [
    "# get all those that have either of these in antibiotics:'streptomycin','sulfamethoxazole','tetracycline','cefalothin','trimethoprim_sulphamethoxazole','trimethoprim','amoxicillin','ampicillin','doripenem'\n",
    "\n",
    "antibiotics = ['streptomycin',\n",
    " 'sulfamethoxazole',\n",
    " 'tetracycline',\n",
    " 'cefalothin',\n",
    " 'trimethoprim_sulphamethoxazole',\n",
    " 'amoxicillin_clavulanic_acid',\n",
    " 'trimethoprim',\n",
    " 'amoxicillin',\n",
    " 'ampicillin',\n",
    " 'doripenem',\n",
    " 'levofloxacin',\n",
    " 'ciprofloxacin']\n",
    "\n",
    "antibiotics_str = '|'.join(antibiotics)\n",
    "\n",
    "new_df = df[df['antibiotics'].str.contains(antibiotics_str, case=False, na=False)]\n",
    "\n",
    "new_df.to_csv('../data/ARG/Escherichia_coli_ARG_sp_drugs.csv')"
   ]
  },
  {
   "cell_type": "code",
   "execution_count": 7,
   "metadata": {},
   "outputs": [
    {
     "data": {
      "text/plain": [
       "array([nan, 'mfd', 'cmr', 'folA', 'gyrA', 'ybhT', 'bla_1', 'tetA',\n",
       "       'acrR_1', 'acrF', 'rpsL', 'neo', 'mdfA', 'emrB', 'emrY', 'tolC',\n",
       "       'rpsJ', 'tetD', 'gidB', 'sul1', 'gyrB', 'emrK', 'msbA', 'blaT-6',\n",
       "       'acrR', 'marR', 'fyuA', 'acrA', 'blaTEM', 'tetC', 'sul2',\n",
       "       'aph(6)-I', 'hns', 'marA', 'acrB', 'MarB', 'S10p', 'AcrAB-TolC',\n",
       "       'AcrEF-TolC ', 'folA, Dfr', 'H-NS', 'EmrKY-TolC', 'MarR',\n",
       "       'APH(6)-Ic/APH(6)-Id', 'folP', 'MdfA/Cmr', 'OXA-1 family', 'AcrZ',\n",
       "       'S12p', 'QnrB family', 'MarA', 'TEM family', \"APH(3'')-I\",\n",
       "       'Tet(A)', 'MexAB-OprM', 'NDM family', 'Tet(B)', 'sul3',\n",
       "       'SHV family', 'folP2', 'acrE', 'folA_1', 'emrB_2', 'sulI',\n",
       "       'acrB_1', 'aadA', 'emrB_1', 'dhfrV', 'marB', 'mexB_2', 'bla',\n",
       "       'hns_1', 'dhfrI', 'dfrD', 'hns_2', 'marA_1', 'strA_1', 'strA_2',\n",
       "       'bla_2', 'marR_2', 'aadA1', 'dfrA', 'mexB_1', 'mexB', 'folA_2',\n",
       "       'strA', 'marR_1', 'acrB_2'], dtype=object)"
      ]
     },
     "execution_count": 7,
     "metadata": {},
     "output_type": "execute_result"
    }
   ],
   "source": [
    "new_df\n",
    "# get those with unique product\n",
    "new_df['gene'].unique()"
   ]
  },
  {
   "cell_type": "code",
   "execution_count": 9,
   "metadata": {},
   "outputs": [
    {
     "name": "stdout",
     "output_type": "stream",
     "text": [
      "streptomycin\n",
      "['SSU ribosomal protein S12p (S23e)'\n",
      " \"Aminoglycoside 3''-nucleotidyltransferase (EC 2.7.7.-) => ANT(3'')-Ia (AadA family)\"\n",
      " '16S rRNA (guanine(527)-N(7))-methyltransferase (EC 2.1.1.170)'\n",
      " 'Aminoglycoside 6-phosphotransferase (EC 2.7.1.72) => APH(6)-Ic/APH(6)-Id'\n",
      " \"Aminoglycoside 3''-phosphotransferase (EC 2.7.1.87) => APH(3'')-I\"\n",
      " 'iron aquisition outermembrane yersiniabactin receptor (FyuA,Psn,pesticin receptor) @ Outer membrane receptor for ferric siderophore']\n",
      "------------------------------\n",
      "sulfamethoxazole\n",
      "['Multidrug efflux system, inner membrane proton/drug antiporter (RND type) => MexB of MexAB-OprM'\n",
      " 'Dihydropteroate synthase (EC 2.5.1.15)'\n",
      " 'Dihydropteroate synthase type-2 (EC 2.5.1.15) @ Sulfonamide resistance protein']\n",
      "------------------------------\n",
      "tetracycline\n",
      "['Multidrug efflux system, inner membrane proton/drug antiporter (RND type) => MexB of MexAB-OprM'\n",
      " 'Multidrug efflux system EmrKY-TolC, membrane fusion component EmrK'\n",
      " 'Multiple antibiotic resistance protein MarR'\n",
      " 'AcrZ membrane protein associated with AcrAB-TolC multidrug efflux pump'\n",
      " 'Multidrug efflux pump MdfA/Cmr (of MFS type), broad spectrum'\n",
      " 'Tetracycline resistance, MFS efflux pump => Tet(A)'\n",
      " 'Transcriptional regulator of acrAB operon, AcrR'\n",
      " 'Multiple antibiotic resistance protein MarA'\n",
      " 'Multidrug efflux system AcrAB-TolC, membrane fusion component AcrA'\n",
      " 'DNA-binding protein H-NS'\n",
      " 'Tetracycline resistance, MFS efflux pump => Tet(B)'\n",
      " 'iron aquisition outermembrane yersiniabactin receptor (FyuA,Psn,pesticin receptor) @ Outer membrane receptor for ferric siderophore'\n",
      " 'Multidrug efflux system AcrAB-TolC, inner-membrane proton/drug antiporter AcrB (RND type)'\n",
      " 'Multidrug efflux system EmrKY-TolC, inner-membrane proton/drug antiporter EmrY (MFS type)'\n",
      " 'SSU ribosomal protein S10p (S20e)'\n",
      " 'Multiple antibiotic resistance protein MarB' 'hypothetical protein'\n",
      " 'Outer membrane channel TolC (OpmH)'\n",
      " 'Tetracycline resistance, MFS efflux pump => Tet(D)'\n",
      " 'Right origin-binding protein']\n",
      "------------------------------\n",
      "cefalothin\n",
      "['Multiple antibiotic resistance protein MarR'\n",
      " 'AcrZ membrane protein associated with AcrAB-TolC multidrug efflux pump'\n",
      " 'Transcriptional regulator of acrAB operon, AcrR'\n",
      " 'Multiple antibiotic resistance protein MarA'\n",
      " 'Multidrug efflux system AcrAB-TolC, membrane fusion component AcrA'\n",
      " 'Multidrug efflux system AcrAB-TolC, inner-membrane proton/drug antiporter AcrB (RND type)'\n",
      " 'Multiple antibiotic resistance protein MarB']\n",
      "------------------------------\n",
      "trimethoprim_sulphamethoxazole\n",
      "[]\n",
      "------------------------------\n",
      "amoxicillin_clavulanic_acid\n",
      "[]\n",
      "------------------------------\n",
      "trimethoprim\n",
      "['Multidrug efflux system, inner membrane proton/drug antiporter (RND type) => MexB of MexAB-OprM'\n",
      " 'Dihydrofolate reductase (EC 1.5.1.3)']\n",
      "------------------------------\n",
      "amoxicillin\n",
      "['Multidrug efflux system, inner membrane proton/drug antiporter (RND type) => MexB of MexAB-OprM'\n",
      " 'Class A beta-lactamase (EC 3.5.2.6) => TEM family'\n",
      " 'Subclass B1 beta-lactamase (EC 3.5.2.6) => NDM family'\n",
      " 'Class D beta-lactamase (EC 3.5.2.6) => OXA-1 family']\n",
      "------------------------------\n",
      "ampicillin\n",
      "['Multidrug efflux system, inner membrane proton/drug antiporter (RND type) => MexB of MexAB-OprM'\n",
      " 'Multiple antibiotic resistance protein MarR'\n",
      " 'AcrZ membrane protein associated with AcrAB-TolC multidrug efflux pump'\n",
      " 'Class A beta-lactamase (EC 3.5.2.6) => SHV family'\n",
      " 'Transcriptional regulator of acrAB operon, AcrR'\n",
      " 'Multiple antibiotic resistance protein MarA'\n",
      " 'Multidrug efflux system AcrAB-TolC, membrane fusion component AcrA'\n",
      " 'Class A beta-lactamase (EC 3.5.2.6) => TEM family'\n",
      " 'iron aquisition outermembrane yersiniabactin receptor (FyuA,Psn,pesticin receptor) @ Outer membrane receptor for ferric siderophore'\n",
      " 'Multidrug efflux system AcrAB-TolC, inner-membrane proton/drug antiporter AcrB (RND type)'\n",
      " 'Multiple antibiotic resistance protein MarB']\n",
      "------------------------------\n",
      "doripenem\n",
      "[]\n",
      "------------------------------\n",
      "levofloxacin\n",
      "['DNA gyrase subunit A (EC 5.99.1.3)'\n",
      " 'Pentapeptide repeat protein QnrB family'\n",
      " 'DNA gyrase subunit B (EC 5.99.1.3)'\n",
      " 'Pentapeptide repeat protein QnrB family => Quinolone resistance protein QnrB10']\n",
      "------------------------------\n",
      "ciprofloxacin\n",
      "[\"Aminoglycoside N(6')-acetyltransferase (EC 2.3.1.82) => AAC(6')-Ib-cr fluoroquinolone-acetylating\"\n",
      " 'Multidrug efflux system, inner membrane proton/drug antiporter (RND type) => MexB of MexAB-OprM'\n",
      " 'AcrZ membrane protein associated with AcrAB-TolC multidrug efflux pump'\n",
      " 'Transcription-repair coupling factor'\n",
      " 'DNA gyrase subunit A (EC 5.99.1.3)'\n",
      " 'Multidrug efflux system AcrEF-TolC, inner-membrane proton/drug antiporter AcrF (RND type)'\n",
      " 'Multidrug efflux system AcrAB-TolC, membrane fusion component AcrA'\n",
      " 'DNA-binding protein H-NS'\n",
      " 'Multidrug efflux system AcrEF-TolC, membrane fusion component AcrE'\n",
      " 'Multidrug efflux system AcrAB-TolC, inner-membrane proton/drug antiporter AcrB (RND type)'\n",
      " 'Pentapeptide repeat protein QnrB family'\n",
      " 'DNA gyrase subunit B (EC 5.99.1.3)'\n",
      " 'Lipid A export permease/ATP-binding protein MsbA'\n",
      " 'Pentapeptide repeat protein QnrB family => Quinolone resistance protein QnrB10']\n",
      "------------------------------\n"
     ]
    }
   ],
   "source": [
    "for a in antibiotics:\n",
    "    print(a)\n",
    "    print(new_df[new_df['antibiotics'].str.contains(a, case=False, na=False)]['product'].unique())\n",
    "    print('---'*10)"
   ]
  },
  {
   "cell_type": "code",
   "execution_count": 16,
   "metadata": {},
   "outputs": [
    {
     "name": "stdout",
     "output_type": "stream",
     "text": [
      "['Multidrug efflux system, inner membrane proton/drug antiporter (RND type) => MexB of MexAB-OprM'\n",
      " 'Dihydrofolate reductase (EC 1.5.1.3)']\n"
     ]
    }
   ],
   "source": [
    "print(new_df[new_df['antibiotics'].str.contains('trimethoprim', case=False, na=False)]['product'].unique())"
   ]
  },
  {
   "cell_type": "code",
   "execution_count": 12,
   "metadata": {},
   "outputs": [
    {
     "name": "stdout",
     "output_type": "stream",
     "text": [
      "14\n"
     ]
    }
   ],
   "source": [
    "print(len(new_df[new_df['antibiotics'].str.contains('trimethoprim', case=False, na=False)]['gene'].unique()))"
   ]
  },
  {
   "cell_type": "code",
   "execution_count": 8,
   "metadata": {},
   "outputs": [
    {
     "data": {
      "text/html": [
       "<div>\n",
       "<style scoped>\n",
       "    .dataframe tbody tr th:only-of-type {\n",
       "        vertical-align: middle;\n",
       "    }\n",
       "\n",
       "    .dataframe tbody tr th {\n",
       "        vertical-align: top;\n",
       "    }\n",
       "\n",
       "    .dataframe thead th {\n",
       "        text-align: right;\n",
       "    }\n",
       "</style>\n",
       "<table border=\"1\" class=\"dataframe\">\n",
       "  <thead>\n",
       "    <tr style=\"text-align: right;\">\n",
       "      <th></th>\n",
       "      <th>patric_id</th>\n",
       "      <th>classification</th>\n",
       "      <th>product</th>\n",
       "      <th>antibiotics</th>\n",
       "      <th>feature_id</th>\n",
       "      <th>gene</th>\n",
       "      <th>genome_id</th>\n",
       "      <th>refseq_locus_tag</th>\n",
       "      <th>source</th>\n",
       "      <th>evidence</th>\n",
       "      <th>query_coverage</th>\n",
       "    </tr>\n",
       "  </thead>\n",
       "  <tbody>\n",
       "  </tbody>\n",
       "</table>\n",
       "</div>"
      ],
      "text/plain": [
       "Empty DataFrame\n",
       "Columns: [patric_id, classification, product, antibiotics, feature_id, gene, genome_id, refseq_locus_tag, source, evidence, query_coverage]\n",
       "Index: []"
      ]
     },
     "execution_count": 8,
     "metadata": {},
     "output_type": "execute_result"
    }
   ],
   "source": [
    "#  checking if there is nan in product\n",
    "new_df[new_df['product'].isna()]\n",
    "#  no nans :)"
   ]
  },
  {
   "cell_type": "code",
   "execution_count": 84,
   "metadata": {},
   "outputs": [
    {
     "data": {
      "text/plain": [
       "array(['acrA', 'acrE', 'acrB', 'Alr', 'EmrD', 'emrK', 'EmrAB-TolC',\n",
       "       'parC', 'gyrA', 'soxR', 'mdtM', 'mfd', 'MacA', 'CTX-M-15', 'H-NS',\n",
       "       'fyuA', 'EF-G', 'baeR', 'AcrAD-TolC', 'PmrE', 'GdpD', 'acrF',\n",
       "       'MdtM', 'AcrAB-TolC'], dtype=object)"
      ]
     },
     "execution_count": 84,
     "metadata": {},
     "output_type": "execute_result"
    }
   ],
   "source": [
    "df['gene'].unique()"
   ]
  },
  {
   "cell_type": "code",
   "execution_count": 87,
   "metadata": {},
   "outputs": [
    {
     "data": {
      "text/plain": [
       "(5910, 10)"
      ]
     },
     "execution_count": 87,
     "metadata": {},
     "output_type": "execute_result"
    }
   ],
   "source": [
    "new_df.shape"
   ]
  },
  {
   "cell_type": "code",
   "execution_count": 83,
   "metadata": {},
   "outputs": [
    {
     "data": {
      "text/html": [
       "<div>\n",
       "<style scoped>\n",
       "    .dataframe tbody tr th:only-of-type {\n",
       "        vertical-align: middle;\n",
       "    }\n",
       "\n",
       "    .dataframe tbody tr th {\n",
       "        vertical-align: top;\n",
       "    }\n",
       "\n",
       "    .dataframe thead th {\n",
       "        text-align: right;\n",
       "    }\n",
       "</style>\n",
       "<table border=\"1\" class=\"dataframe\">\n",
       "  <thead>\n",
       "    <tr style=\"text-align: right;\">\n",
       "      <th></th>\n",
       "      <th>classification</th>\n",
       "      <th>product</th>\n",
       "      <th>antibiotics</th>\n",
       "      <th>feature_id</th>\n",
       "      <th>gene</th>\n",
       "      <th>genome_id</th>\n",
       "      <th>refseq_locus_tag</th>\n",
       "      <th>source</th>\n",
       "      <th>evidence</th>\n",
       "      <th>query_coverage</th>\n",
       "    </tr>\n",
       "    <tr>\n",
       "      <th>patric_id</th>\n",
       "      <th></th>\n",
       "      <th></th>\n",
       "      <th></th>\n",
       "      <th></th>\n",
       "      <th></th>\n",
       "      <th></th>\n",
       "      <th></th>\n",
       "      <th></th>\n",
       "      <th></th>\n",
       "      <th></th>\n",
       "    </tr>\n",
       "  </thead>\n",
       "  <tbody>\n",
       "    <tr>\n",
       "      <th>fig|562.45406.peg.2489</th>\n",
       "      <td>efflux pump conferring antibiotic resistance</td>\n",
       "      <td>Multidrug efflux system EmrKY-TolC, membrane f...</td>\n",
       "      <td>tetracycline</td>\n",
       "      <td>PATRIC.562.45406.PXXQ01000027.CDS.222865.22402...</td>\n",
       "      <td>emrK</td>\n",
       "      <td>562.45406</td>\n",
       "      <td>C7K59_23230</td>\n",
       "      <td>CARD</td>\n",
       "      <td>BLAT</td>\n",
       "      <td>90.0</td>\n",
       "    </tr>\n",
       "    <tr>\n",
       "      <th>fig|562.45406.peg.3700</th>\n",
       "      <td>aminoglycoside resistance gene,tetracycline re...</td>\n",
       "      <td>iron aquisition outermembrane yersiniabactin r...</td>\n",
       "      <td>streptomycin, tetracycline, ampicillin</td>\n",
       "      <td>PATRIC.562.45406.PXXQ01000002.CDS.261442.26346...</td>\n",
       "      <td>fyuA</td>\n",
       "      <td>562.45406</td>\n",
       "      <td>C7K59_11760</td>\n",
       "      <td>CARD</td>\n",
       "      <td>BLAT</td>\n",
       "      <td>100.0</td>\n",
       "    </tr>\n",
       "    <tr>\n",
       "      <th>fig|562.45406.peg.4593</th>\n",
       "      <td>efflux pump conferring antibiotic resistance</td>\n",
       "      <td>Multidrug efflux system AcrAB-TolC, inner-memb...</td>\n",
       "      <td>ciprofloxacin, tigecycline, chloramphenicol, r...</td>\n",
       "      <td>PATRIC.562.45406.PXXQ01000019.CDS.206354.20950...</td>\n",
       "      <td>AcrAB-TolC</td>\n",
       "      <td>562.45406</td>\n",
       "      <td>C7K59_18550</td>\n",
       "      <td>PATRIC</td>\n",
       "      <td>K-mer Search</td>\n",
       "      <td>NaN</td>\n",
       "    </tr>\n",
       "    <tr>\n",
       "      <th>fig|562.45406.peg.2489</th>\n",
       "      <td>efflux pump conferring antibiotic resistance</td>\n",
       "      <td>Multidrug efflux system EmrKY-TolC, membrane f...</td>\n",
       "      <td>tetracycline</td>\n",
       "      <td>PATRIC.562.45406.PXXQ01000027.CDS.222865.22402...</td>\n",
       "      <td>emrK</td>\n",
       "      <td>562.45406</td>\n",
       "      <td>C7K59_23230</td>\n",
       "      <td>CARD</td>\n",
       "      <td>BLAT</td>\n",
       "      <td>90.0</td>\n",
       "    </tr>\n",
       "    <tr>\n",
       "      <th>fig|562.45406.peg.3700</th>\n",
       "      <td>aminoglycoside resistance gene,tetracycline re...</td>\n",
       "      <td>iron aquisition outermembrane yersiniabactin r...</td>\n",
       "      <td>streptomycin, tetracycline, ampicillin</td>\n",
       "      <td>PATRIC.562.45406.PXXQ01000002.CDS.261442.26346...</td>\n",
       "      <td>fyuA</td>\n",
       "      <td>562.45406</td>\n",
       "      <td>C7K59_11760</td>\n",
       "      <td>CARD</td>\n",
       "      <td>BLAT</td>\n",
       "      <td>100.0</td>\n",
       "    </tr>\n",
       "    <tr>\n",
       "      <th>...</th>\n",
       "      <td>...</td>\n",
       "      <td>...</td>\n",
       "      <td>...</td>\n",
       "      <td>...</td>\n",
       "      <td>...</td>\n",
       "      <td>...</td>\n",
       "      <td>...</td>\n",
       "      <td>...</td>\n",
       "      <td>...</td>\n",
       "      <td>...</td>\n",
       "    </tr>\n",
       "    <tr>\n",
       "      <th>fig|562.45406.peg.3700</th>\n",
       "      <td>aminoglycoside resistance gene,tetracycline re...</td>\n",
       "      <td>iron aquisition outermembrane yersiniabactin r...</td>\n",
       "      <td>streptomycin, tetracycline, ampicillin</td>\n",
       "      <td>PATRIC.562.45406.PXXQ01000002.CDS.261442.26346...</td>\n",
       "      <td>fyuA</td>\n",
       "      <td>562.45406</td>\n",
       "      <td>C7K59_11760</td>\n",
       "      <td>CARD</td>\n",
       "      <td>BLAT</td>\n",
       "      <td>100.0</td>\n",
       "    </tr>\n",
       "    <tr>\n",
       "      <th>fig|562.45406.peg.4593</th>\n",
       "      <td>efflux pump conferring antibiotic resistance</td>\n",
       "      <td>Multidrug efflux system AcrAB-TolC, inner-memb...</td>\n",
       "      <td>ciprofloxacin, tigecycline, chloramphenicol, r...</td>\n",
       "      <td>PATRIC.562.45406.PXXQ01000019.CDS.206354.20950...</td>\n",
       "      <td>AcrAB-TolC</td>\n",
       "      <td>562.45406</td>\n",
       "      <td>C7K59_18550</td>\n",
       "      <td>PATRIC</td>\n",
       "      <td>K-mer Search</td>\n",
       "      <td>NaN</td>\n",
       "    </tr>\n",
       "    <tr>\n",
       "      <th>fig|562.45406.peg.2489</th>\n",
       "      <td>efflux pump conferring antibiotic resistance</td>\n",
       "      <td>Multidrug efflux system EmrKY-TolC, membrane f...</td>\n",
       "      <td>tetracycline</td>\n",
       "      <td>PATRIC.562.45406.PXXQ01000027.CDS.222865.22402...</td>\n",
       "      <td>emrK</td>\n",
       "      <td>562.45406</td>\n",
       "      <td>C7K59_23230</td>\n",
       "      <td>CARD</td>\n",
       "      <td>BLAT</td>\n",
       "      <td>90.0</td>\n",
       "    </tr>\n",
       "    <tr>\n",
       "      <th>fig|562.45406.peg.3700</th>\n",
       "      <td>aminoglycoside resistance gene,tetracycline re...</td>\n",
       "      <td>iron aquisition outermembrane yersiniabactin r...</td>\n",
       "      <td>streptomycin, tetracycline, ampicillin</td>\n",
       "      <td>PATRIC.562.45406.PXXQ01000002.CDS.261442.26346...</td>\n",
       "      <td>fyuA</td>\n",
       "      <td>562.45406</td>\n",
       "      <td>C7K59_11760</td>\n",
       "      <td>CARD</td>\n",
       "      <td>BLAT</td>\n",
       "      <td>100.0</td>\n",
       "    </tr>\n",
       "    <tr>\n",
       "      <th>fig|562.45406.peg.4593</th>\n",
       "      <td>efflux pump conferring antibiotic resistance</td>\n",
       "      <td>Multidrug efflux system AcrAB-TolC, inner-memb...</td>\n",
       "      <td>ciprofloxacin, tigecycline, chloramphenicol, r...</td>\n",
       "      <td>PATRIC.562.45406.PXXQ01000019.CDS.206354.20950...</td>\n",
       "      <td>AcrAB-TolC</td>\n",
       "      <td>562.45406</td>\n",
       "      <td>C7K59_18550</td>\n",
       "      <td>PATRIC</td>\n",
       "      <td>K-mer Search</td>\n",
       "      <td>NaN</td>\n",
       "    </tr>\n",
       "  </tbody>\n",
       "</table>\n",
       "<p>5910 rows × 10 columns</p>\n",
       "</div>"
      ],
      "text/plain": [
       "                                                           classification  \\\n",
       "patric_id                                                                   \n",
       "fig|562.45406.peg.2489       efflux pump conferring antibiotic resistance   \n",
       "fig|562.45406.peg.3700  aminoglycoside resistance gene,tetracycline re...   \n",
       "fig|562.45406.peg.4593       efflux pump conferring antibiotic resistance   \n",
       "fig|562.45406.peg.2489       efflux pump conferring antibiotic resistance   \n",
       "fig|562.45406.peg.3700  aminoglycoside resistance gene,tetracycline re...   \n",
       "...                                                                   ...   \n",
       "fig|562.45406.peg.3700  aminoglycoside resistance gene,tetracycline re...   \n",
       "fig|562.45406.peg.4593       efflux pump conferring antibiotic resistance   \n",
       "fig|562.45406.peg.2489       efflux pump conferring antibiotic resistance   \n",
       "fig|562.45406.peg.3700  aminoglycoside resistance gene,tetracycline re...   \n",
       "fig|562.45406.peg.4593       efflux pump conferring antibiotic resistance   \n",
       "\n",
       "                                                                  product  \\\n",
       "patric_id                                                                   \n",
       "fig|562.45406.peg.2489  Multidrug efflux system EmrKY-TolC, membrane f...   \n",
       "fig|562.45406.peg.3700  iron aquisition outermembrane yersiniabactin r...   \n",
       "fig|562.45406.peg.4593  Multidrug efflux system AcrAB-TolC, inner-memb...   \n",
       "fig|562.45406.peg.2489  Multidrug efflux system EmrKY-TolC, membrane f...   \n",
       "fig|562.45406.peg.3700  iron aquisition outermembrane yersiniabactin r...   \n",
       "...                                                                   ...   \n",
       "fig|562.45406.peg.3700  iron aquisition outermembrane yersiniabactin r...   \n",
       "fig|562.45406.peg.4593  Multidrug efflux system AcrAB-TolC, inner-memb...   \n",
       "fig|562.45406.peg.2489  Multidrug efflux system EmrKY-TolC, membrane f...   \n",
       "fig|562.45406.peg.3700  iron aquisition outermembrane yersiniabactin r...   \n",
       "fig|562.45406.peg.4593  Multidrug efflux system AcrAB-TolC, inner-memb...   \n",
       "\n",
       "                                                              antibiotics  \\\n",
       "patric_id                                                                   \n",
       "fig|562.45406.peg.2489                                       tetracycline   \n",
       "fig|562.45406.peg.3700             streptomycin, tetracycline, ampicillin   \n",
       "fig|562.45406.peg.4593  ciprofloxacin, tigecycline, chloramphenicol, r...   \n",
       "fig|562.45406.peg.2489                                       tetracycline   \n",
       "fig|562.45406.peg.3700             streptomycin, tetracycline, ampicillin   \n",
       "...                                                                   ...   \n",
       "fig|562.45406.peg.3700             streptomycin, tetracycline, ampicillin   \n",
       "fig|562.45406.peg.4593  ciprofloxacin, tigecycline, chloramphenicol, r...   \n",
       "fig|562.45406.peg.2489                                       tetracycline   \n",
       "fig|562.45406.peg.3700             streptomycin, tetracycline, ampicillin   \n",
       "fig|562.45406.peg.4593  ciprofloxacin, tigecycline, chloramphenicol, r...   \n",
       "\n",
       "                                                               feature_id  \\\n",
       "patric_id                                                                   \n",
       "fig|562.45406.peg.2489  PATRIC.562.45406.PXXQ01000027.CDS.222865.22402...   \n",
       "fig|562.45406.peg.3700  PATRIC.562.45406.PXXQ01000002.CDS.261442.26346...   \n",
       "fig|562.45406.peg.4593  PATRIC.562.45406.PXXQ01000019.CDS.206354.20950...   \n",
       "fig|562.45406.peg.2489  PATRIC.562.45406.PXXQ01000027.CDS.222865.22402...   \n",
       "fig|562.45406.peg.3700  PATRIC.562.45406.PXXQ01000002.CDS.261442.26346...   \n",
       "...                                                                   ...   \n",
       "fig|562.45406.peg.3700  PATRIC.562.45406.PXXQ01000002.CDS.261442.26346...   \n",
       "fig|562.45406.peg.4593  PATRIC.562.45406.PXXQ01000019.CDS.206354.20950...   \n",
       "fig|562.45406.peg.2489  PATRIC.562.45406.PXXQ01000027.CDS.222865.22402...   \n",
       "fig|562.45406.peg.3700  PATRIC.562.45406.PXXQ01000002.CDS.261442.26346...   \n",
       "fig|562.45406.peg.4593  PATRIC.562.45406.PXXQ01000019.CDS.206354.20950...   \n",
       "\n",
       "                              gene  genome_id refseq_locus_tag  source  \\\n",
       "patric_id                                                                \n",
       "fig|562.45406.peg.2489        emrK  562.45406      C7K59_23230    CARD   \n",
       "fig|562.45406.peg.3700        fyuA  562.45406      C7K59_11760    CARD   \n",
       "fig|562.45406.peg.4593  AcrAB-TolC  562.45406      C7K59_18550  PATRIC   \n",
       "fig|562.45406.peg.2489        emrK  562.45406      C7K59_23230    CARD   \n",
       "fig|562.45406.peg.3700        fyuA  562.45406      C7K59_11760    CARD   \n",
       "...                            ...        ...              ...     ...   \n",
       "fig|562.45406.peg.3700        fyuA  562.45406      C7K59_11760    CARD   \n",
       "fig|562.45406.peg.4593  AcrAB-TolC  562.45406      C7K59_18550  PATRIC   \n",
       "fig|562.45406.peg.2489        emrK  562.45406      C7K59_23230    CARD   \n",
       "fig|562.45406.peg.3700        fyuA  562.45406      C7K59_11760    CARD   \n",
       "fig|562.45406.peg.4593  AcrAB-TolC  562.45406      C7K59_18550  PATRIC   \n",
       "\n",
       "                            evidence  query_coverage  \n",
       "patric_id                                             \n",
       "fig|562.45406.peg.2489          BLAT            90.0  \n",
       "fig|562.45406.peg.3700          BLAT           100.0  \n",
       "fig|562.45406.peg.4593  K-mer Search             NaN  \n",
       "fig|562.45406.peg.2489          BLAT            90.0  \n",
       "fig|562.45406.peg.3700          BLAT           100.0  \n",
       "...                              ...             ...  \n",
       "fig|562.45406.peg.3700          BLAT           100.0  \n",
       "fig|562.45406.peg.4593  K-mer Search             NaN  \n",
       "fig|562.45406.peg.2489          BLAT            90.0  \n",
       "fig|562.45406.peg.3700          BLAT           100.0  \n",
       "fig|562.45406.peg.4593  K-mer Search             NaN  \n",
       "\n",
       "[5910 rows x 10 columns]"
      ]
     },
     "execution_count": 83,
     "metadata": {},
     "output_type": "execute_result"
    }
   ],
   "source": [
    "new_df"
   ]
  },
  {
   "cell_type": "markdown",
   "metadata": {},
   "source": [
    "# test"
   ]
  },
  {
   "cell_type": "code",
   "execution_count": 64,
   "metadata": {},
   "outputs": [
    {
     "data": {
      "text/plain": [
       "Index(['classification', 'date_inserted', 'date_modified', 'e_value',\n",
       "       'evidence', 'feature_id', 'function', 'gene', 'genome_id',\n",
       "       'genome_name', 'id', 'identity', 'organism', 'owner', 'patric_id',\n",
       "       'product', 'property', 'property_source', 'public', 'query_coverage',\n",
       "       'refseq_locus_tag', 'source', 'source_id', 'subject_coverage',\n",
       "       'taxon_id', '_version_', 'assertion', 'same_genus', 'same_species',\n",
       "       'antibiotics', 'antibiotics_class', 'pmid'],\n",
       "      dtype='object')"
      ]
     },
     "execution_count": 64,
     "metadata": {},
     "output_type": "execute_result"
    }
   ],
   "source": [
    "test_link = \"https://www.bv-brc.org/api/sp_gene/?and(eq(genome_id,%22562.45406%22),eq(property,%22Antibiotic%20Resistance%22))\"\n",
    "\n",
    "response = requests.get(test_link)\n",
    "data = response.json()\n",
    "data[1]\n",
    "pd.DataFrame(data).columns\n",
    "# data[0]"
   ]
  },
  {
   "cell_type": "code",
   "execution_count": 65,
   "metadata": {},
   "outputs": [
    {
     "data": {
      "text/html": [
       "<div>\n",
       "<style scoped>\n",
       "    .dataframe tbody tr th:only-of-type {\n",
       "        vertical-align: middle;\n",
       "    }\n",
       "\n",
       "    .dataframe tbody tr th {\n",
       "        vertical-align: top;\n",
       "    }\n",
       "\n",
       "    .dataframe thead th {\n",
       "        text-align: right;\n",
       "    }\n",
       "</style>\n",
       "<table border=\"1\" class=\"dataframe\">\n",
       "  <thead>\n",
       "    <tr style=\"text-align: right;\">\n",
       "      <th></th>\n",
       "      <th>patric_id</th>\n",
       "      <th>classification</th>\n",
       "      <th>product</th>\n",
       "      <th>antibiotics</th>\n",
       "      <th>feature_id</th>\n",
       "      <th>gene</th>\n",
       "      <th>genome_id</th>\n",
       "      <th>refseq_locus_tag</th>\n",
       "      <th>source</th>\n",
       "      <th>evidence</th>\n",
       "      <th>query_coverage</th>\n",
       "    </tr>\n",
       "  </thead>\n",
       "  <tbody>\n",
       "    <tr>\n",
       "      <th>0</th>\n",
       "      <td>fig|562.45406.peg.4594</td>\n",
       "      <td>efflux pump conferring antibiotic resistance</td>\n",
       "      <td>Multidrug efflux system AcrAB-TolC, membrane f...</td>\n",
       "      <td>nan</td>\n",
       "      <td>PATRIC.562.45406.PXXQ01000019.CDS.209526.21071...</td>\n",
       "      <td>acrA</td>\n",
       "      <td>562.45406</td>\n",
       "      <td>C7K59_18555</td>\n",
       "      <td>CARD</td>\n",
       "      <td>BLAT</td>\n",
       "      <td>100.0</td>\n",
       "    </tr>\n",
       "  </tbody>\n",
       "</table>\n",
       "</div>"
      ],
      "text/plain": [
       "                patric_id                                classification  \\\n",
       "0  fig|562.45406.peg.4594  efflux pump conferring antibiotic resistance   \n",
       "\n",
       "                                             product antibiotics  \\\n",
       "0  Multidrug efflux system AcrAB-TolC, membrane f...         nan   \n",
       "\n",
       "                                          feature_id  gene  genome_id  \\\n",
       "0  PATRIC.562.45406.PXXQ01000019.CDS.209526.21071...  acrA  562.45406   \n",
       "\n",
       "  refseq_locus_tag source evidence  query_coverage  \n",
       "0      C7K59_18555   CARD     BLAT           100.0  "
      ]
     },
     "execution_count": 65,
     "metadata": {},
     "output_type": "execute_result"
    }
   ],
   "source": [
    "# test 1 : i query for ARGs from genome_id and property - so doing it for all the genome ids found\n",
    "#               -- in this case i would need the following cols\n",
    "#                 classification, product, patric_id, antibiotics, feature_id, gene, refseq_locus_tag, source_value, evidence, query_coverage\n",
    "\n",
    "test_link = \"https://www.bv-brc.org/api/sp_gene/?and(eq(genome_id,%22562.45406%22),eq(property,%22Antibiotic%20Resistance%22))\"\n",
    "\n",
    "response = requests.get(test_link)\n",
    "data = response.json()\n",
    "\n",
    "df = pd.DataFrame(columns=['patric_id','classification', 'product', 'antibiotics', 'feature_id', 'gene', 'genome_id','refseq_locus_tag', 'source', 'evidence', 'query_coverage'])\n",
    "for i, entry in enumerate(data):\n",
    "    df.loc[i] = entry\n",
    "\n",
    "df['antibiotics'] = df['antibiotics'].apply(lambda x: ', '.join(x) if isinstance(x, list) else str(x))\n",
    "df['classification'] = df['classification'].apply(lambda x: ', '.join(x) if isinstance(x, list) else str(x))\n",
    "df.head(1)"
   ]
  },
  {
   "cell_type": "code",
   "execution_count": 41,
   "metadata": {},
   "outputs": [],
   "source": [
    "patric_ids_to_test = df['patric_id'].to_list()"
   ]
  },
  {
   "cell_type": "code",
   "execution_count": 43,
   "metadata": {},
   "outputs": [
    {
     "data": {
      "text/plain": [
       "{'status': 400, 'message': \"Illegal character in query string encountered ''\"}"
      ]
     },
     "execution_count": 43,
     "metadata": {},
     "output_type": "execute_result"
    }
   ],
   "source": [
    "response = requests.get(\"https://www.bv-brc.org/api/sp_gene/?and(eq(patric_id,'fig|562.45406.peg.2175'),eq(property,%22Antibiotic%20Resistance%22))\")\n",
    "response.json()"
   ]
  },
  {
   "cell_type": "code",
   "execution_count": 53,
   "metadata": {},
   "outputs": [
    {
     "name": "stderr",
     "output_type": "stream",
     "text": [
      "<>:2: SyntaxWarning: invalid escape sequence '\\d'\n",
      "<>:2: SyntaxWarning: invalid escape sequence '\\d'\n",
      "/tmp/ipykernel_343/3953896410.py:2: SyntaxWarning: invalid escape sequence '\\d'\n",
      "  ''' -- requires the requests and pandas library --\n"
     ]
    }
   ],
   "source": [
    "def get_PATRIC_from_genome_id(genome_id:str):\n",
    "    ''' -- requires the requests and pandas library --\n",
    "    takes a genome id and queries for speciality genes that are present in it, particularly Antibiotic resistant genes\n",
    "\n",
    "    param:\n",
    "    ------\n",
    "        - genome_id: str, genome id of the organism, of the form \\d+\\.\\d+\n",
    "\n",
    "    return:\n",
    "    --------\n",
    "        - df: pd.DataFrame, dataframe containing the speciality genes found in the genome\n",
    "\n",
    "    query for ARGs from genome_id and property - so doing it for all the genome ids found\n",
    "              -- in this case i would need the following cols\n",
    "                classification, product, patric_id, antibiotics, feature_id, gene, refseq_locus_tag, source_value, evidence, query_coverage\n",
    "    '''\n",
    "    link = f\"https://www.bv-brc.org/api/sp_gene/?and(eq(genome_id,%22{genome_id}%22),eq(property,%22Antibiotic%20Resistance%22))\"\n",
    "    response = requests.get(test_link)\n",
    "    data = response.json()\n",
    "\n",
    "    df = pd.DataFrame(columns=['patric_id','classification', 'product', 'antibiotics', 'feature_id', 'gene', 'genome_id','refseq_locus_tag', 'source', 'evidence', 'query_coverage'])\n",
    "    for i, entry in enumerate(data):\n",
    "        df.loc[i] = entry\n",
    "\n",
    "    # -- these entries are given as an array of strings, transform to a single string within the dataframe\n",
    "    df['antibiotics'] = df['antibiotics'].apply(lambda x: ', '.join(x) if isinstance(x, list) else str(x))\n",
    "    df['classification'] = df['classification'].apply(lambda x: ', '.join(x) if isinstance(x, list) else str(x))\n",
    "\n",
    "    # -- indexing by the paric_id (pk of the gene)\n",
    "    df.set_index('patric_id', inplace=True)\n",
    "    \n",
    "    return df\n"
   ]
  },
  {
   "cell_type": "code",
   "execution_count": 54,
   "metadata": {},
   "outputs": [],
   "source": [
    "df1= get_PATRIC_from_genome_id('22562.45405')\n",
    "df2 = get_PATRIC_from_genome_id('22562.45406')"
   ]
  },
  {
   "cell_type": "code",
   "execution_count": 56,
   "metadata": {},
   "outputs": [
    {
     "data": {
      "text/plain": [
       "((25, 10), (25, 10), (50, 10))"
      ]
     },
     "execution_count": 56,
     "metadata": {},
     "output_type": "execute_result"
    }
   ],
   "source": [
    "df1.shape, df2.shape, df.shape"
   ]
  },
  {
   "cell_type": "code",
   "execution_count": 57,
   "metadata": {},
   "outputs": [],
   "source": [
    "def get_PATRIC_from_genome_id_list(genome_id_list:str):\n",
    "    ''' -- automates the get_PATRIC_from_genome_id function on all\n",
    "\n",
    "    param:\n",
    "        - genome_id_list: list\n",
    "    return:\n",
    "        - df: pd.DataFrame\n",
    "\n",
    "    '''\n",
    "    df= pd.DataFrame()\n",
    "    for i in genome_id_list:\n",
    "        temp_df = get_PATRIC_from_genome_id(i)\n",
    "        df = pd.concat([df, temp_df])\n",
    "\n",
    "    return df"
   ]
  },
  {
   "cell_type": "code",
   "execution_count": 58,
   "metadata": {},
   "outputs": [],
   "source": [
    "test_list = ['22562.45405', '22562.45406']\n",
    "test_df = get_PATRIC_from_genome_id_list(test_list)"
   ]
  },
  {
   "cell_type": "code",
   "execution_count": 46,
   "metadata": {},
   "outputs": [
    {
     "data": {
      "text/html": [
       "<div>\n",
       "<style scoped>\n",
       "    .dataframe tbody tr th:only-of-type {\n",
       "        vertical-align: middle;\n",
       "    }\n",
       "\n",
       "    .dataframe tbody tr th {\n",
       "        vertical-align: top;\n",
       "    }\n",
       "\n",
       "    .dataframe thead th {\n",
       "        text-align: right;\n",
       "    }\n",
       "</style>\n",
       "<table border=\"1\" class=\"dataframe\">\n",
       "  <thead>\n",
       "    <tr style=\"text-align: right;\">\n",
       "      <th></th>\n",
       "      <th>patric_id</th>\n",
       "      <th>classification</th>\n",
       "      <th>product</th>\n",
       "      <th>antibiotics</th>\n",
       "      <th>feature_id</th>\n",
       "      <th>gene</th>\n",
       "      <th>genome_id</th>\n",
       "      <th>refseq_locus_tag</th>\n",
       "      <th>source</th>\n",
       "      <th>evidence</th>\n",
       "      <th>query_coverage</th>\n",
       "    </tr>\n",
       "  </thead>\n",
       "  <tbody>\n",
       "    <tr>\n",
       "      <th>0</th>\n",
       "      <td>fig|562.45406.peg.4594</td>\n",
       "      <td>efflux pump conferring antibiotic resistance</td>\n",
       "      <td>Multidrug efflux system AcrAB-TolC, membrane f...</td>\n",
       "      <td>nan</td>\n",
       "      <td>PATRIC.562.45406.PXXQ01000019.CDS.209526.21071...</td>\n",
       "      <td>acrA</td>\n",
       "      <td>562.45406</td>\n",
       "      <td>C7K59_18555</td>\n",
       "      <td>CARD</td>\n",
       "      <td>BLAT</td>\n",
       "      <td>100.0</td>\n",
       "    </tr>\n",
       "    <tr>\n",
       "      <th>1</th>\n",
       "      <td>fig|562.45406.peg.73</td>\n",
       "      <td>efflux pump conferring antibiotic resistance</td>\n",
       "      <td>Multidrug efflux system AcrEF-TolC, membrane f...</td>\n",
       "      <td>nan</td>\n",
       "      <td>PATRIC.562.45406.PXXQ01000001.CDS.53757.54914.rev</td>\n",
       "      <td>acrE</td>\n",
       "      <td>562.45406</td>\n",
       "      <td>C7K59_00370</td>\n",
       "      <td>CARD</td>\n",
       "      <td>BLAT</td>\n",
       "      <td>100.0</td>\n",
       "    </tr>\n",
       "    <tr>\n",
       "      <th>2</th>\n",
       "      <td>fig|562.45406.peg.4593</td>\n",
       "      <td>efflux pump conferring antibiotic resistance</td>\n",
       "      <td>Multidrug efflux system AcrAB-TolC, inner-memb...</td>\n",
       "      <td>nan</td>\n",
       "      <td>PATRIC.562.45406.PXXQ01000019.CDS.206354.20950...</td>\n",
       "      <td>acrB</td>\n",
       "      <td>562.45406</td>\n",
       "      <td>C7K59_18550</td>\n",
       "      <td>CARD</td>\n",
       "      <td>BLAT</td>\n",
       "      <td>99.0</td>\n",
       "    </tr>\n",
       "    <tr>\n",
       "      <th>3</th>\n",
       "      <td>fig|562.45406.peg.1786</td>\n",
       "      <td>antibiotic target in susceptible species</td>\n",
       "      <td>Alanine racemase (EC 5.1.1.1)</td>\n",
       "      <td>D-cycloserine</td>\n",
       "      <td>PATRIC.562.45406.PXXQ01000001.CDS.1583447.1584...</td>\n",
       "      <td>Alr</td>\n",
       "      <td>562.45406</td>\n",
       "      <td>C7K59_08995</td>\n",
       "      <td>PATRIC</td>\n",
       "      <td>K-mer Search</td>\n",
       "      <td>NaN</td>\n",
       "    </tr>\n",
       "    <tr>\n",
       "      <th>4</th>\n",
       "      <td>fig|562.45406.peg.2175</td>\n",
       "      <td>efflux pump conferring antibiotic resistance</td>\n",
       "      <td>Multidrug efflux pump EmrD (of MFS type)</td>\n",
       "      <td>azithromycin, gentamicin, nitrofurantoin, oxac...</td>\n",
       "      <td>PATRIC.562.45406.PXXQ01000008.CDS.138607.13979...</td>\n",
       "      <td>EmrD</td>\n",
       "      <td>562.45406</td>\n",
       "      <td>C7K59_13765</td>\n",
       "      <td>PATRIC</td>\n",
       "      <td>K-mer Search</td>\n",
       "      <td>NaN</td>\n",
       "    </tr>\n",
       "  </tbody>\n",
       "</table>\n",
       "</div>"
      ],
      "text/plain": [
       "                patric_id                                classification  \\\n",
       "0  fig|562.45406.peg.4594  efflux pump conferring antibiotic resistance   \n",
       "1    fig|562.45406.peg.73  efflux pump conferring antibiotic resistance   \n",
       "2  fig|562.45406.peg.4593  efflux pump conferring antibiotic resistance   \n",
       "3  fig|562.45406.peg.1786      antibiotic target in susceptible species   \n",
       "4  fig|562.45406.peg.2175  efflux pump conferring antibiotic resistance   \n",
       "\n",
       "                                             product  \\\n",
       "0  Multidrug efflux system AcrAB-TolC, membrane f...   \n",
       "1  Multidrug efflux system AcrEF-TolC, membrane f...   \n",
       "2  Multidrug efflux system AcrAB-TolC, inner-memb...   \n",
       "3                      Alanine racemase (EC 5.1.1.1)   \n",
       "4           Multidrug efflux pump EmrD (of MFS type)   \n",
       "\n",
       "                                         antibiotics  \\\n",
       "0                                                nan   \n",
       "1                                                nan   \n",
       "2                                                nan   \n",
       "3                                      D-cycloserine   \n",
       "4  azithromycin, gentamicin, nitrofurantoin, oxac...   \n",
       "\n",
       "                                          feature_id  gene  genome_id  \\\n",
       "0  PATRIC.562.45406.PXXQ01000019.CDS.209526.21071...  acrA  562.45406   \n",
       "1  PATRIC.562.45406.PXXQ01000001.CDS.53757.54914.rev  acrE  562.45406   \n",
       "2  PATRIC.562.45406.PXXQ01000019.CDS.206354.20950...  acrB  562.45406   \n",
       "3  PATRIC.562.45406.PXXQ01000001.CDS.1583447.1584...   Alr  562.45406   \n",
       "4  PATRIC.562.45406.PXXQ01000008.CDS.138607.13979...  EmrD  562.45406   \n",
       "\n",
       "  refseq_locus_tag  source      evidence  query_coverage  \n",
       "0      C7K59_18555    CARD          BLAT           100.0  \n",
       "1      C7K59_00370    CARD          BLAT           100.0  \n",
       "2      C7K59_18550    CARD          BLAT            99.0  \n",
       "3      C7K59_08995  PATRIC  K-mer Search             NaN  \n",
       "4      C7K59_13765  PATRIC  K-mer Search             NaN  "
      ]
     },
     "execution_count": 46,
     "metadata": {},
     "output_type": "execute_result"
    }
   ],
   "source": [
    "for id in patric_ids_to_test:\n",
    "    link = f\"https://www.bv-brc.org/api/sp_gene/?and(eq(patric_id,%22562.45406%22),eq(property,%22Antibiotic%20Resistance%22))\"\n",
    "\n",
    "\n",
    "\n",
    "test_link = \"https://www.bv-brc.org/api/sp_gene/?and(eq(genome_id,%22562.45406%22),eq(property,%22Antibiotic%20Resistance%22))\"\n",
    "\n",
    "response = requests.get(test_link)\n",
    "data = response.json()\n",
    "\n",
    "df = pd.DataFrame(columns=['patric_id','classification', 'product', 'antibiotics', 'feature_id', 'gene', 'genome_id','refseq_locus_tag', 'source', 'evidence', 'query_coverage'])\n",
    "for i, entry in enumerate(data):\n",
    "    df.loc[i] = entry\n",
    "\n",
    "df['antibiotics'] = df['antibiotics'].apply(lambda x: ', '.join(x) if isinstance(x, list) else str(x))\n",
    "df['classification'] = df['classification'].apply(lambda x: ', '.join(x) if isinstance(x, list) else str(x))\n",
    "df.head()"
   ]
  },
  {
   "cell_type": "code",
   "execution_count": 34,
   "metadata": {},
   "outputs": [
    {
     "data": {
      "text/plain": [
       "list"
      ]
     },
     "execution_count": 34,
     "metadata": {},
     "output_type": "execute_result"
    }
   ],
   "source": [
    "type(df['antibiotics'].to_list()[3])"
   ]
  },
  {
   "cell_type": "code",
   "execution_count": 37,
   "metadata": {},
   "outputs": [],
   "source": [
    "df['antibiotics'].to_list()\n",
    "# transform each entry in df['antibiotics'] from list to string\n",
    "df['antibiotics'] = df['antibiotics'].apply(lambda x: ', '.join(x) if isinstance(x, list) else str(x))"
   ]
  },
  {
   "cell_type": "code",
   "execution_count": 22,
   "metadata": {},
   "outputs": [
    {
     "data": {
      "text/html": [
       "<div>\n",
       "<style scoped>\n",
       "    .dataframe tbody tr th:only-of-type {\n",
       "        vertical-align: middle;\n",
       "    }\n",
       "\n",
       "    .dataframe tbody tr th {\n",
       "        vertical-align: top;\n",
       "    }\n",
       "\n",
       "    .dataframe thead th {\n",
       "        text-align: right;\n",
       "    }\n",
       "</style>\n",
       "<table border=\"1\" class=\"dataframe\">\n",
       "  <thead>\n",
       "    <tr style=\"text-align: right;\">\n",
       "      <th></th>\n",
       "      <th>classification</th>\n",
       "      <th>product</th>\n",
       "      <th>antibiotics</th>\n",
       "      <th>feature_id</th>\n",
       "      <th>gene</th>\n",
       "      <th>refseq_locus_tag</th>\n",
       "      <th>source_value</th>\n",
       "      <th>evidence</th>\n",
       "      <th>query_coverage</th>\n",
       "    </tr>\n",
       "  </thead>\n",
       "  <tbody>\n",
       "  </tbody>\n",
       "</table>\n",
       "</div>"
      ],
      "text/plain": [
       "Empty DataFrame\n",
       "Columns: [classification, product, antibiotics, feature_id, gene, refseq_locus_tag, source_value, evidence, query_coverage]\n",
       "Index: []"
      ]
     },
     "execution_count": 22,
     "metadata": {},
     "output_type": "execute_result"
    }
   ],
   "source": [
    "562\n",
    "df[df['gene'] == 'arcA']"
   ]
  }
 ],
 "metadata": {
  "kernelspec": {
   "display_name": "base",
   "language": "python",
   "name": "python3"
  },
  "language_info": {
   "codemirror_mode": {
    "name": "ipython",
    "version": 3
   },
   "file_extension": ".py",
   "mimetype": "text/x-python",
   "name": "python",
   "nbconvert_exporter": "python",
   "pygments_lexer": "ipython3",
   "version": "3.12.2"
  }
 },
 "nbformat": 4,
 "nbformat_minor": 2
}
