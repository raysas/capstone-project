{
 "cells": [
  {
   "cell_type": "code",
   "execution_count": null,
   "metadata": {},
   "outputs": [],
   "source": [
    "import os, sys\n",
    "import networkx as nx\n",
    "import network_analysis\n",
    "\n",
    "os.chdir(os.path.expanduser('~/capstone-project'))\n",
    "sys.path.append('src')"
   ]
  },
  {
   "cell_type": "code",
   "execution_count": null,
   "metadata": {},
   "outputs": [],
   "source": [
    "amoxicillin_G = nx.read_graphml('results/Escherichia_coli_amoxicillin/Escherichia_coli_amoxicillin_LOR_annotated.graphml')\n",
    "ampicillin_G = nx.read_graphml('results/Escherichia_coli_ampicillin/Escherichia_coli_ampicillin_LOR_annotated.graphml')\n",
    "cefalothin_G = nx.read_graphml('results/Escherichia_coli_cefalothin/Escherichia_coli_cefalothin_LOR_annotated.graphml')\n",
    "ciprofloxacin_G = nx.read_graphml('results/Escherichia_coli_ciprofloxacin/Escherichia_coli_ciprofloxacin_LOR_annotated.graphml')\n",
    "levofloxacin_G = nx.read_graphml('results/Escherichia_coli_levofloxacin/Escherichia_coli_levofloxacin_LOR_annotated.graphml')\n",
    "streptomycin_G = nx.read_graphml('results/Escherichia_coli_streptomycin/Escherichia_coli_streptomycin_LOR_annotated.graphml')\n",
    "sulfamethoxazole_G = nx.read_graphml('results/Escherichia_coli_sulfamethoxazole/Escherichia_coli_sulfamethoxazole_LOR_annotated.graphml')\n",
    "tetracycline_G = nx.read_graphml('results/Escherichia_coli_tetracycline/Escherichia_coli_tetracycline_LOR_annotated.graphml')\n",
    "trimethoprim_G = nx.read_graphml('results/Escherichia_coli_trimethoprim/Escherichia_coli_trimethoprim_LOR_annotated.graphml')"
   ]
  },
  {
   "cell_type": "markdown",
   "metadata": {},
   "source": [
    "We will cluster the network into communities, ine ach community we will check for the LOR of resistance distribution. We will thus calculate the standard deviation of it in the community and compare it with the standard deviation of the whole network. "
   ]
  },
  {
   "cell_type": "code",
   "execution_count": null,
   "metadata": {},
   "outputs": [],
   "source": [
    "G = nx.read_graphml('results/merged_network.graphml')"
   ]
  },
  {
   "cell_type": "code",
   "execution_count": null,
   "metadata": {},
   "outputs": [],
   "source": [
    "network_analysis.plot_degree_distribution(G,'pan network')\n",
    "network_analysis.plot_log_log(G,'pan network')"
   ]
  },
  {
   "cell_type": "code",
   "execution_count": null,
   "metadata": {},
   "outputs": [],
   "source": [
    "# check if G is irected\n",
    "print(nx.is_directed(G))\n",
    "# make it undirected\n",
    "G = nx.Graph(G)\n",
    "print(nx.is_directed(G))"
   ]
  },
  {
   "cell_type": "code",
   "execution_count": null,
   "metadata": {},
   "outputs": [],
   "source": [
    "# get the max and min edge weights and their respective edge tuple\n",
    "max_edge = max(G.edges(data=True), key=lambda x: x[2]['weight'])\n",
    "min_edge = min(G.edges(data=True), key=lambda x: x[2]['weight'])\n",
    "print(max_edge)\n",
    "print(min_edge)"
   ]
  },
  {
   "cell_type": "code",
   "execution_count": null,
   "metadata": {},
   "outputs": [],
   "source": [
    "network_analysis.compute_network_stats(G,'pan network')"
   ]
  },
  {
   "cell_type": "markdown",
   "metadata": {},
   "source": [
    "### amoxicillin"
   ]
  },
  {
   "cell_type": "code",
   "execution_count": null,
   "metadata": {},
   "outputs": [],
   "source": [
    "# --louvain\n",
    "drug='tetracycline'\n",
    "G= nx.read_graphml(f'results/Escherichia_coli_{drug}/Escherichia_coli_{drug}_LOR_annotated.graphml')\n",
    "\n",
    "mean_LOR=sum([G.nodes[node][f'log_odds_{drug}_resistance'] for node in G.nodes])/len(G.nodes)\n",
    "std_dev_LOR=sum([(G.nodes[node][f'log_odds_{drug}_resistance']-mean_LOR)**2 for node in G.nodes])**0.5\n",
    "\n",
    "communities=nx.algorithms.community.louvain_communities(G, seed=42)\n",
    "\n",
    "node_count=[]\n",
    "new_communities=[]\n",
    "for i in range(len(communities)):\n",
    "    node_count.append(len(communities[i]))\n",
    "    if len(communities[i])>50:\n",
    "        new_communities.append(communities[i])\n",
    "\n",
    "import matplotlib.pyplot as plt\n",
    "plt.hist(node_count, bins=50)\n",
    "plt.xlabel('Number of Nodes in Community')\n",
    "plt.ylabel('Number of Communities')\n",
    "plt.title(f'Number of nodes in {len(communities)} communities for {drug}')\n",
    "\n",
    "distributions={}; i=0\n",
    "for c in new_communities:\n",
    "    community_LOR=[]\n",
    "    for node in c:\n",
    "        community_LOR.append(G.nodes[node][f'log_odds_{drug}_resistance'])\n",
    "    # print(community_LOR)\n",
    "    mean=sum(community_LOR)/len(community_LOR)\n",
    "    std_dev=sum([(x-mean)**2 for x in community_LOR])**0.5\n",
    "    distributions[i]=(mean,std_dev)\n",
    "    i+=1"
   ]
  },
  {
   "cell_type": "code",
   "execution_count": null,
   "metadata": {},
   "outputs": [],
   "source": [
    "print(f'there are {len(distributions)} communities with more than 50 nodes')\n",
    "print(distributions)"
   ]
  },
  {
   "cell_type": "code",
   "execution_count": null,
   "metadata": {},
   "outputs": [],
   "source": []
  },
  {
   "cell_type": "code",
   "execution_count": null,
   "metadata": {},
   "outputs": [],
   "source": [
    "# performing  Kolmogorov-Smirnov (KS) test to compare the distributions of LOR values for the communities\n",
    "from scipy.stats import kstat\n",
    "\n",
    "for i in range(len(distributions)):\n",
    "    "
   ]
  },
  {
   "cell_type": "code",
   "execution_count": null,
   "metadata": {},
   "outputs": [],
   "source": [
    "drug='amoxicillin'\n",
    "G= nx.read_graphml(f'results/Escherichia_coli_{drug}/Escherichia_coli_{drug}_LOR_annotated.graphml')\n",
    "\n",
    "mean_LOR=sum([G.nodes[node][f'log_odds_{drug}_resistance'] for node in G.nodes])/len(G.nodes)\n",
    "std_dev_LOR=sum([(G.nodes[node][f'log_odds_{drug}_resistance']-mean_LOR)**2 for node in G.nodes])**0.5\n",
    "\n",
    "communities=nx.algorithms.community.girvan_newman(G)\n",
    "communities = list(communities)\n",
    "\n",
    "distributions={}; i=1\n",
    "for c in communities:\n",
    "    community_LOR=[]\n",
    "    for node in c:\n",
    "        community_LOR.append(G.nodes[node][f'log_odds_{drug}_resistance'])\n",
    "    mean=sum(community_LOR)/len(community_LOR)\n",
    "    std_dev=sum([(x-mean)**2 for x in community_LOR])**0.5\n",
    "    distributions[i]=(mean,std_dev)\n",
    "    i+=1\n",
    "\n",
    "node_count=[]\n",
    "for i in range(len(communities)):\n",
    "    node_count.append(len(communities[i]))\n",
    "\n",
    "import matplotlib.pyplot as plt\n",
    "plt.hist(node_count, bins=50)\n",
    "plt.xlabel('Number of Nodes in Community')\n",
    "plt.ylabel('Number of Communities')\n",
    "plt.title(f'Number of nodes in {len(communities)} communities for {drug}')"
   ]
  }
 ],
 "metadata": {
  "kernelspec": {
   "display_name": "base",
   "language": "python",
   "name": "python3"
  },
  "language_info": {
   "codemirror_mode": {
    "name": "ipython",
    "version": 3
   },
   "file_extension": ".py",
   "mimetype": "text/x-python",
   "name": "python",
   "nbconvert_exporter": "python",
   "pygments_lexer": "ipython3",
   "version": "3.12.2"
  }
 },
 "nbformat": 4,
 "nbformat_minor": 2
}
