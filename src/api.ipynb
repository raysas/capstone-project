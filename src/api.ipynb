{
 "cells": [
  {
   "cell_type": "code",
   "execution_count": null,
   "metadata": {},
   "outputs": [],
   "source": [
    "import requests\n",
    "import os\n",
    "import sys\n",
    "import pandas as pd"
   ]
  },
  {
   "cell_type": "markdown",
   "metadata": {},
   "source": [
    "## parsing PATRIC through api to get ARGs"
   ]
  },
  {
   "cell_type": "code",
   "execution_count": 63,
   "metadata": {},
   "outputs": [],
   "source": [
    "def get_PATRIC_from_genome_id(genome_id:str):\n",
    "    ''' \n",
    "    -- requires the requests and pandas library --\n",
    "    takes a genome id and queries for speciality genes that are present in it, particularly Antibiotic resistant genes\n",
    "\n",
    "    param:\n",
    "    ------\n",
    "        - genome_id: str, genome id of the organism, of the form d+.d+\n",
    "\n",
    "    return:\n",
    "    --------\n",
    "        - df: pd.DataFrame, dataframe containing the speciality genes found in the genome\n",
    "\n",
    "    query for ARGs from genome_id and property - so doing it for all the genome ids found\n",
    "              -- in this case i would need the following cols\n",
    "                classification, product, patric_id, antibiotics, feature_id, gene, refseq_locus_tag, source_value, evidence, query_coverage\n",
    "    '''\n",
    "    link = f\"https://www.bv-brc.org/api/sp_gene/?and(eq(genome_id,%22{genome_id}%22),eq(property,%22Antibiotic%20Resistance%22))\"\n",
    "    response = requests.get(test_link)\n",
    "    data = response.json()\n",
    "\n",
    "    df = pd.DataFrame(columns=['patric_id','classification', 'product', 'antibiotics', 'feature_id', 'gene', 'genome_id','refseq_locus_tag', 'source', 'evidence', 'query_coverage'])\n",
    "    for i, entry in enumerate(data):\n",
    "        df.loc[i] = entry\n",
    "\n",
    "    # -- these entries are given as an array of strings, transform to a single string within the dataframe\n",
    "    df['antibiotics'] = df['antibiotics'].apply(lambda x: ', '.join(x) if isinstance(x, list) else str(x))\n",
    "    df['classification'] = df['classification'].apply(lambda x: ', '.join(x) if isinstance(x, list) else str(x))\n",
    "\n",
    "    # -- indexing by the paric_id (pk of the gene)\n",
    "    df.set_index('patric_id', inplace=True)\n",
    "    \n",
    "    return df\n",
    "\n",
    "def get_PATRIC_from_genome_id_list(genome_id_list:str):\n",
    "    ''' \n",
    "    -- automates the get_PATRIC_from_genome_id function on all\n",
    "\n",
    "    param:\n",
    "        - genome_id_list: list\n",
    "    return:\n",
    "        - df: pd.DataFrame\n",
    "\n",
    "    '''\n",
    "    df= pd.DataFrame()\n",
    "    for i in genome_id_list:\n",
    "        temp_df = get_PATRIC_from_genome_id(i)\n",
    "        df = pd.concat([df, temp_df])\n",
    "\n",
    "    return df\n",
    "\n"
   ]
  },
  {
   "cell_type": "code",
   "execution_count": 74,
   "metadata": {},
   "outputs": [],
   "source": [
    "get_genome_ids = lambda path: pd.read_csv(path).astype(str)['genome.genome_ids'].to_list()\n",
    "\n",
    "genome_ids = get_genome_ids('../pangenome-repo/Pangenome-Analysis-Workflow/genome_ids/Escherichia_coli_genome_ids.csv')\n",
    "\n",
    "df = get_PATRIC_from_genome_id_list(genome_ids)"
   ]
  },
  {
   "cell_type": "code",
   "execution_count": null,
   "metadata": {},
   "outputs": [],
   "source": [
    "df.to_csv('../data/ARG/Escherichia_coli_ARG.csv')"
   ]
  },
  {
   "cell_type": "markdown",
   "metadata": {},
   "source": [
    "## Querying the df"
   ]
  },
  {
   "cell_type": "code",
   "execution_count": null,
   "metadata": {},
   "outputs": [],
   "source": []
  },
  {
   "cell_type": "markdown",
   "metadata": {},
   "source": [
    "# test"
   ]
  },
  {
   "cell_type": "code",
   "execution_count": 64,
   "metadata": {},
   "outputs": [
    {
     "data": {
      "text/plain": [
       "Index(['classification', 'date_inserted', 'date_modified', 'e_value',\n",
       "       'evidence', 'feature_id', 'function', 'gene', 'genome_id',\n",
       "       'genome_name', 'id', 'identity', 'organism', 'owner', 'patric_id',\n",
       "       'product', 'property', 'property_source', 'public', 'query_coverage',\n",
       "       'refseq_locus_tag', 'source', 'source_id', 'subject_coverage',\n",
       "       'taxon_id', '_version_', 'assertion', 'same_genus', 'same_species',\n",
       "       'antibiotics', 'antibiotics_class', 'pmid'],\n",
       "      dtype='object')"
      ]
     },
     "execution_count": 64,
     "metadata": {},
     "output_type": "execute_result"
    }
   ],
   "source": [
    "test_link = \"https://www.bv-brc.org/api/sp_gene/?and(eq(genome_id,%22562.45406%22),eq(property,%22Antibiotic%20Resistance%22))\"\n",
    "\n",
    "response = requests.get(test_link)\n",
    "data = response.json()\n",
    "data[1]\n",
    "pd.DataFrame(data).columns\n",
    "# data[0]"
   ]
  },
  {
   "cell_type": "code",
   "execution_count": 65,
   "metadata": {},
   "outputs": [
    {
     "data": {
      "text/html": [
       "<div>\n",
       "<style scoped>\n",
       "    .dataframe tbody tr th:only-of-type {\n",
       "        vertical-align: middle;\n",
       "    }\n",
       "\n",
       "    .dataframe tbody tr th {\n",
       "        vertical-align: top;\n",
       "    }\n",
       "\n",
       "    .dataframe thead th {\n",
       "        text-align: right;\n",
       "    }\n",
       "</style>\n",
       "<table border=\"1\" class=\"dataframe\">\n",
       "  <thead>\n",
       "    <tr style=\"text-align: right;\">\n",
       "      <th></th>\n",
       "      <th>patric_id</th>\n",
       "      <th>classification</th>\n",
       "      <th>product</th>\n",
       "      <th>antibiotics</th>\n",
       "      <th>feature_id</th>\n",
       "      <th>gene</th>\n",
       "      <th>genome_id</th>\n",
       "      <th>refseq_locus_tag</th>\n",
       "      <th>source</th>\n",
       "      <th>evidence</th>\n",
       "      <th>query_coverage</th>\n",
       "    </tr>\n",
       "  </thead>\n",
       "  <tbody>\n",
       "    <tr>\n",
       "      <th>0</th>\n",
       "      <td>fig|562.45406.peg.4594</td>\n",
       "      <td>efflux pump conferring antibiotic resistance</td>\n",
       "      <td>Multidrug efflux system AcrAB-TolC, membrane f...</td>\n",
       "      <td>nan</td>\n",
       "      <td>PATRIC.562.45406.PXXQ01000019.CDS.209526.21071...</td>\n",
       "      <td>acrA</td>\n",
       "      <td>562.45406</td>\n",
       "      <td>C7K59_18555</td>\n",
       "      <td>CARD</td>\n",
       "      <td>BLAT</td>\n",
       "      <td>100.0</td>\n",
       "    </tr>\n",
       "  </tbody>\n",
       "</table>\n",
       "</div>"
      ],
      "text/plain": [
       "                patric_id                                classification  \\\n",
       "0  fig|562.45406.peg.4594  efflux pump conferring antibiotic resistance   \n",
       "\n",
       "                                             product antibiotics  \\\n",
       "0  Multidrug efflux system AcrAB-TolC, membrane f...         nan   \n",
       "\n",
       "                                          feature_id  gene  genome_id  \\\n",
       "0  PATRIC.562.45406.PXXQ01000019.CDS.209526.21071...  acrA  562.45406   \n",
       "\n",
       "  refseq_locus_tag source evidence  query_coverage  \n",
       "0      C7K59_18555   CARD     BLAT           100.0  "
      ]
     },
     "execution_count": 65,
     "metadata": {},
     "output_type": "execute_result"
    }
   ],
   "source": [
    "# test 1 : i query for ARGs from genome_id and property - so doing it for all the genome ids found\n",
    "#               -- in this case i would need the following cols\n",
    "#                 classification, product, patric_id, antibiotics, feature_id, gene, refseq_locus_tag, source_value, evidence, query_coverage\n",
    "\n",
    "test_link = \"https://www.bv-brc.org/api/sp_gene/?and(eq(genome_id,%22562.45406%22),eq(property,%22Antibiotic%20Resistance%22))\"\n",
    "\n",
    "response = requests.get(test_link)\n",
    "data = response.json()\n",
    "\n",
    "df = pd.DataFrame(columns=['patric_id','classification', 'product', 'antibiotics', 'feature_id', 'gene', 'genome_id','refseq_locus_tag', 'source', 'evidence', 'query_coverage'])\n",
    "for i, entry in enumerate(data):\n",
    "    df.loc[i] = entry\n",
    "\n",
    "df['antibiotics'] = df['antibiotics'].apply(lambda x: ', '.join(x) if isinstance(x, list) else str(x))\n",
    "df['classification'] = df['classification'].apply(lambda x: ', '.join(x) if isinstance(x, list) else str(x))\n",
    "df.head(1)"
   ]
  },
  {
   "cell_type": "code",
   "execution_count": 41,
   "metadata": {},
   "outputs": [],
   "source": [
    "patric_ids_to_test = df['patric_id'].to_list()"
   ]
  },
  {
   "cell_type": "code",
   "execution_count": 43,
   "metadata": {},
   "outputs": [
    {
     "data": {
      "text/plain": [
       "{'status': 400, 'message': \"Illegal character in query string encountered ''\"}"
      ]
     },
     "execution_count": 43,
     "metadata": {},
     "output_type": "execute_result"
    }
   ],
   "source": [
    "response = requests.get(\"https://www.bv-brc.org/api/sp_gene/?and(eq(patric_id,'fig|562.45406.peg.2175'),eq(property,%22Antibiotic%20Resistance%22))\")\n",
    "response.json()"
   ]
  },
  {
   "cell_type": "code",
   "execution_count": 53,
   "metadata": {},
   "outputs": [
    {
     "name": "stderr",
     "output_type": "stream",
     "text": [
      "<>:2: SyntaxWarning: invalid escape sequence '\\d'\n",
      "<>:2: SyntaxWarning: invalid escape sequence '\\d'\n",
      "/tmp/ipykernel_343/3953896410.py:2: SyntaxWarning: invalid escape sequence '\\d'\n",
      "  ''' -- requires the requests and pandas library --\n"
     ]
    }
   ],
   "source": [
    "def get_PATRIC_from_genome_id(genome_id:str):\n",
    "    ''' -- requires the requests and pandas library --\n",
    "    takes a genome id and queries for speciality genes that are present in it, particularly Antibiotic resistant genes\n",
    "\n",
    "    param:\n",
    "    ------\n",
    "        - genome_id: str, genome id of the organism, of the form \\d+\\.\\d+\n",
    "\n",
    "    return:\n",
    "    --------\n",
    "        - df: pd.DataFrame, dataframe containing the speciality genes found in the genome\n",
    "\n",
    "    query for ARGs from genome_id and property - so doing it for all the genome ids found\n",
    "              -- in this case i would need the following cols\n",
    "                classification, product, patric_id, antibiotics, feature_id, gene, refseq_locus_tag, source_value, evidence, query_coverage\n",
    "    '''\n",
    "    link = f\"https://www.bv-brc.org/api/sp_gene/?and(eq(genome_id,%22{genome_id}%22),eq(property,%22Antibiotic%20Resistance%22))\"\n",
    "    response = requests.get(test_link)\n",
    "    data = response.json()\n",
    "\n",
    "    df = pd.DataFrame(columns=['patric_id','classification', 'product', 'antibiotics', 'feature_id', 'gene', 'genome_id','refseq_locus_tag', 'source', 'evidence', 'query_coverage'])\n",
    "    for i, entry in enumerate(data):\n",
    "        df.loc[i] = entry\n",
    "\n",
    "    # -- these entries are given as an array of strings, transform to a single string within the dataframe\n",
    "    df['antibiotics'] = df['antibiotics'].apply(lambda x: ', '.join(x) if isinstance(x, list) else str(x))\n",
    "    df['classification'] = df['classification'].apply(lambda x: ', '.join(x) if isinstance(x, list) else str(x))\n",
    "\n",
    "    # -- indexing by the paric_id (pk of the gene)\n",
    "    df.set_index('patric_id', inplace=True)\n",
    "    \n",
    "    return df\n"
   ]
  },
  {
   "cell_type": "code",
   "execution_count": 54,
   "metadata": {},
   "outputs": [],
   "source": [
    "df1= get_PATRIC_from_genome_id('22562.45405')\n",
    "df2 = get_PATRIC_from_genome_id('22562.45406')"
   ]
  },
  {
   "cell_type": "code",
   "execution_count": 56,
   "metadata": {},
   "outputs": [
    {
     "data": {
      "text/plain": [
       "((25, 10), (25, 10), (50, 10))"
      ]
     },
     "execution_count": 56,
     "metadata": {},
     "output_type": "execute_result"
    }
   ],
   "source": [
    "df1.shape, df2.shape, df.shape"
   ]
  },
  {
   "cell_type": "code",
   "execution_count": 57,
   "metadata": {},
   "outputs": [],
   "source": [
    "def get_PATRIC_from_genome_id_list(genome_id_list:str):\n",
    "    ''' -- automates the get_PATRIC_from_genome_id function on all\n",
    "\n",
    "    param:\n",
    "        - genome_id_list: list\n",
    "    return:\n",
    "        - df: pd.DataFrame\n",
    "\n",
    "    '''\n",
    "    df= pd.DataFrame()\n",
    "    for i in genome_id_list:\n",
    "        temp_df = get_PATRIC_from_genome_id(i)\n",
    "        df = pd.concat([df, temp_df])\n",
    "\n",
    "    return df"
   ]
  },
  {
   "cell_type": "code",
   "execution_count": 58,
   "metadata": {},
   "outputs": [],
   "source": [
    "test_list = ['22562.45405', '22562.45406']\n",
    "test_df = get_PATRIC_from_genome_id_list(test_list)"
   ]
  },
  {
   "cell_type": "code",
   "execution_count": 46,
   "metadata": {},
   "outputs": [
    {
     "data": {
      "text/html": [
       "<div>\n",
       "<style scoped>\n",
       "    .dataframe tbody tr th:only-of-type {\n",
       "        vertical-align: middle;\n",
       "    }\n",
       "\n",
       "    .dataframe tbody tr th {\n",
       "        vertical-align: top;\n",
       "    }\n",
       "\n",
       "    .dataframe thead th {\n",
       "        text-align: right;\n",
       "    }\n",
       "</style>\n",
       "<table border=\"1\" class=\"dataframe\">\n",
       "  <thead>\n",
       "    <tr style=\"text-align: right;\">\n",
       "      <th></th>\n",
       "      <th>patric_id</th>\n",
       "      <th>classification</th>\n",
       "      <th>product</th>\n",
       "      <th>antibiotics</th>\n",
       "      <th>feature_id</th>\n",
       "      <th>gene</th>\n",
       "      <th>genome_id</th>\n",
       "      <th>refseq_locus_tag</th>\n",
       "      <th>source</th>\n",
       "      <th>evidence</th>\n",
       "      <th>query_coverage</th>\n",
       "    </tr>\n",
       "  </thead>\n",
       "  <tbody>\n",
       "    <tr>\n",
       "      <th>0</th>\n",
       "      <td>fig|562.45406.peg.4594</td>\n",
       "      <td>efflux pump conferring antibiotic resistance</td>\n",
       "      <td>Multidrug efflux system AcrAB-TolC, membrane f...</td>\n",
       "      <td>nan</td>\n",
       "      <td>PATRIC.562.45406.PXXQ01000019.CDS.209526.21071...</td>\n",
       "      <td>acrA</td>\n",
       "      <td>562.45406</td>\n",
       "      <td>C7K59_18555</td>\n",
       "      <td>CARD</td>\n",
       "      <td>BLAT</td>\n",
       "      <td>100.0</td>\n",
       "    </tr>\n",
       "    <tr>\n",
       "      <th>1</th>\n",
       "      <td>fig|562.45406.peg.73</td>\n",
       "      <td>efflux pump conferring antibiotic resistance</td>\n",
       "      <td>Multidrug efflux system AcrEF-TolC, membrane f...</td>\n",
       "      <td>nan</td>\n",
       "      <td>PATRIC.562.45406.PXXQ01000001.CDS.53757.54914.rev</td>\n",
       "      <td>acrE</td>\n",
       "      <td>562.45406</td>\n",
       "      <td>C7K59_00370</td>\n",
       "      <td>CARD</td>\n",
       "      <td>BLAT</td>\n",
       "      <td>100.0</td>\n",
       "    </tr>\n",
       "    <tr>\n",
       "      <th>2</th>\n",
       "      <td>fig|562.45406.peg.4593</td>\n",
       "      <td>efflux pump conferring antibiotic resistance</td>\n",
       "      <td>Multidrug efflux system AcrAB-TolC, inner-memb...</td>\n",
       "      <td>nan</td>\n",
       "      <td>PATRIC.562.45406.PXXQ01000019.CDS.206354.20950...</td>\n",
       "      <td>acrB</td>\n",
       "      <td>562.45406</td>\n",
       "      <td>C7K59_18550</td>\n",
       "      <td>CARD</td>\n",
       "      <td>BLAT</td>\n",
       "      <td>99.0</td>\n",
       "    </tr>\n",
       "    <tr>\n",
       "      <th>3</th>\n",
       "      <td>fig|562.45406.peg.1786</td>\n",
       "      <td>antibiotic target in susceptible species</td>\n",
       "      <td>Alanine racemase (EC 5.1.1.1)</td>\n",
       "      <td>D-cycloserine</td>\n",
       "      <td>PATRIC.562.45406.PXXQ01000001.CDS.1583447.1584...</td>\n",
       "      <td>Alr</td>\n",
       "      <td>562.45406</td>\n",
       "      <td>C7K59_08995</td>\n",
       "      <td>PATRIC</td>\n",
       "      <td>K-mer Search</td>\n",
       "      <td>NaN</td>\n",
       "    </tr>\n",
       "    <tr>\n",
       "      <th>4</th>\n",
       "      <td>fig|562.45406.peg.2175</td>\n",
       "      <td>efflux pump conferring antibiotic resistance</td>\n",
       "      <td>Multidrug efflux pump EmrD (of MFS type)</td>\n",
       "      <td>azithromycin, gentamicin, nitrofurantoin, oxac...</td>\n",
       "      <td>PATRIC.562.45406.PXXQ01000008.CDS.138607.13979...</td>\n",
       "      <td>EmrD</td>\n",
       "      <td>562.45406</td>\n",
       "      <td>C7K59_13765</td>\n",
       "      <td>PATRIC</td>\n",
       "      <td>K-mer Search</td>\n",
       "      <td>NaN</td>\n",
       "    </tr>\n",
       "  </tbody>\n",
       "</table>\n",
       "</div>"
      ],
      "text/plain": [
       "                patric_id                                classification  \\\n",
       "0  fig|562.45406.peg.4594  efflux pump conferring antibiotic resistance   \n",
       "1    fig|562.45406.peg.73  efflux pump conferring antibiotic resistance   \n",
       "2  fig|562.45406.peg.4593  efflux pump conferring antibiotic resistance   \n",
       "3  fig|562.45406.peg.1786      antibiotic target in susceptible species   \n",
       "4  fig|562.45406.peg.2175  efflux pump conferring antibiotic resistance   \n",
       "\n",
       "                                             product  \\\n",
       "0  Multidrug efflux system AcrAB-TolC, membrane f...   \n",
       "1  Multidrug efflux system AcrEF-TolC, membrane f...   \n",
       "2  Multidrug efflux system AcrAB-TolC, inner-memb...   \n",
       "3                      Alanine racemase (EC 5.1.1.1)   \n",
       "4           Multidrug efflux pump EmrD (of MFS type)   \n",
       "\n",
       "                                         antibiotics  \\\n",
       "0                                                nan   \n",
       "1                                                nan   \n",
       "2                                                nan   \n",
       "3                                      D-cycloserine   \n",
       "4  azithromycin, gentamicin, nitrofurantoin, oxac...   \n",
       "\n",
       "                                          feature_id  gene  genome_id  \\\n",
       "0  PATRIC.562.45406.PXXQ01000019.CDS.209526.21071...  acrA  562.45406   \n",
       "1  PATRIC.562.45406.PXXQ01000001.CDS.53757.54914.rev  acrE  562.45406   \n",
       "2  PATRIC.562.45406.PXXQ01000019.CDS.206354.20950...  acrB  562.45406   \n",
       "3  PATRIC.562.45406.PXXQ01000001.CDS.1583447.1584...   Alr  562.45406   \n",
       "4  PATRIC.562.45406.PXXQ01000008.CDS.138607.13979...  EmrD  562.45406   \n",
       "\n",
       "  refseq_locus_tag  source      evidence  query_coverage  \n",
       "0      C7K59_18555    CARD          BLAT           100.0  \n",
       "1      C7K59_00370    CARD          BLAT           100.0  \n",
       "2      C7K59_18550    CARD          BLAT            99.0  \n",
       "3      C7K59_08995  PATRIC  K-mer Search             NaN  \n",
       "4      C7K59_13765  PATRIC  K-mer Search             NaN  "
      ]
     },
     "execution_count": 46,
     "metadata": {},
     "output_type": "execute_result"
    }
   ],
   "source": [
    "for id in patric_ids_to_test:\n",
    "    link = f\"https://www.bv-brc.org/api/sp_gene/?and(eq(patric_id,%22562.45406%22),eq(property,%22Antibiotic%20Resistance%22))\"\n",
    "\n",
    "\n",
    "\n",
    "test_link = \"https://www.bv-brc.org/api/sp_gene/?and(eq(genome_id,%22562.45406%22),eq(property,%22Antibiotic%20Resistance%22))\"\n",
    "\n",
    "response = requests.get(test_link)\n",
    "data = response.json()\n",
    "\n",
    "df = pd.DataFrame(columns=['patric_id','classification', 'product', 'antibiotics', 'feature_id', 'gene', 'genome_id','refseq_locus_tag', 'source', 'evidence', 'query_coverage'])\n",
    "for i, entry in enumerate(data):\n",
    "    df.loc[i] = entry\n",
    "\n",
    "df['antibiotics'] = df['antibiotics'].apply(lambda x: ', '.join(x) if isinstance(x, list) else str(x))\n",
    "df['classification'] = df['classification'].apply(lambda x: ', '.join(x) if isinstance(x, list) else str(x))\n",
    "df.head()"
   ]
  },
  {
   "cell_type": "code",
   "execution_count": 34,
   "metadata": {},
   "outputs": [
    {
     "data": {
      "text/plain": [
       "list"
      ]
     },
     "execution_count": 34,
     "metadata": {},
     "output_type": "execute_result"
    }
   ],
   "source": [
    "type(df['antibiotics'].to_list()[3])"
   ]
  },
  {
   "cell_type": "code",
   "execution_count": 37,
   "metadata": {},
   "outputs": [],
   "source": [
    "df['antibiotics'].to_list()\n",
    "# transform each entry in df['antibiotics'] from list to string\n",
    "df['antibiotics'] = df['antibiotics'].apply(lambda x: ', '.join(x) if isinstance(x, list) else str(x))"
   ]
  },
  {
   "cell_type": "code",
   "execution_count": 22,
   "metadata": {},
   "outputs": [
    {
     "data": {
      "text/html": [
       "<div>\n",
       "<style scoped>\n",
       "    .dataframe tbody tr th:only-of-type {\n",
       "        vertical-align: middle;\n",
       "    }\n",
       "\n",
       "    .dataframe tbody tr th {\n",
       "        vertical-align: top;\n",
       "    }\n",
       "\n",
       "    .dataframe thead th {\n",
       "        text-align: right;\n",
       "    }\n",
       "</style>\n",
       "<table border=\"1\" class=\"dataframe\">\n",
       "  <thead>\n",
       "    <tr style=\"text-align: right;\">\n",
       "      <th></th>\n",
       "      <th>classification</th>\n",
       "      <th>product</th>\n",
       "      <th>antibiotics</th>\n",
       "      <th>feature_id</th>\n",
       "      <th>gene</th>\n",
       "      <th>refseq_locus_tag</th>\n",
       "      <th>source_value</th>\n",
       "      <th>evidence</th>\n",
       "      <th>query_coverage</th>\n",
       "    </tr>\n",
       "  </thead>\n",
       "  <tbody>\n",
       "  </tbody>\n",
       "</table>\n",
       "</div>"
      ],
      "text/plain": [
       "Empty DataFrame\n",
       "Columns: [classification, product, antibiotics, feature_id, gene, refseq_locus_tag, source_value, evidence, query_coverage]\n",
       "Index: []"
      ]
     },
     "execution_count": 22,
     "metadata": {},
     "output_type": "execute_result"
    }
   ],
   "source": [
    "562\n",
    "df[df['gene'] == 'arcA']"
   ]
  }
 ],
 "metadata": {
  "kernelspec": {
   "display_name": "base",
   "language": "python",
   "name": "python3"
  },
  "language_info": {
   "codemirror_mode": {
    "name": "ipython",
    "version": 3
   },
   "file_extension": ".py",
   "mimetype": "text/x-python",
   "name": "python",
   "nbconvert_exporter": "python",
   "pygments_lexer": "ipython3",
   "version": "3.12.2"
  }
 },
 "nbformat": 4,
 "nbformat_minor": 2
}
