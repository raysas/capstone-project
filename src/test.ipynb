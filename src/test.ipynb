{
 "cells": [
  {
   "cell_type": "code",
   "execution_count": null,
   "metadata": {},
   "outputs": [],
   "source": [
    "#!/bin/env/python\n",
    "\n",
    "import pandas as pd\n",
    "import networkx as nx\n",
    "\n",
    "\n",
    "df = pd.read_csv('../test/roary/gene_presence_absence.csv')\n"
   ]
  },
  {
   "cell_type": "code",
   "execution_count": null,
   "metadata": {},
   "outputs": [],
   "source": [
    "#make the 1st column the row name\n",
    "df.set_index(df.columns[0], inplace=True)"
   ]
  },
  {
   "cell_type": "code",
   "execution_count": null,
   "metadata": {},
   "outputs": [],
   "source": [
    "#check the 14th col\n",
    "df.iloc[:, 13]\n"
   ]
  },
  {
   "cell_type": "code",
   "execution_count": null,
   "metadata": {},
   "outputs": [],
   "source": [
    "threshold = 0.5\n",
    "NO_ISOLATES = 31\n",
    "df = df[df['No. isolates'] > (threshold * NO_ISOLATES)]\n"
   ]
  },
  {
   "cell_type": "code",
   "execution_count": null,
   "metadata": {},
   "outputs": [],
   "source": [
    "df"
   ]
  },
  {
   "cell_type": "code",
   "execution_count": null,
   "metadata": {},
   "outputs": [],
   "source": [
    "# removing col 1 to 14\n",
    "df=df.drop(df.columns[0:13], axis=1)"
   ]
  },
  {
   "cell_type": "code",
   "execution_count": null,
   "metadata": {},
   "outputs": [],
   "source": [
    "#make the NaN 0s and the rest 1s\n",
    "df = df.fillna(0)\n",
    "\n",
    "df.where(df == 0, 1)"
   ]
  },
  {
   "cell_type": "code",
   "execution_count": null,
   "metadata": {},
   "outputs": [],
   "source": [
    "metadata_df = df.iloc[:, 0:13]\n",
    "metadata_df"
   ]
  },
  {
   "cell_type": "code",
   "execution_count": null,
   "metadata": {},
   "outputs": [],
   "source": [
    "#!/bin/env/python\n",
    "\n",
    "import pandas as pd\n",
    "import networkx as nx\n",
    "from typing import Tuple\n",
    "import os\n",
    "\n",
    "def read_df(file_path: str) -> pd.DataFrame:\n",
    "    '''this function reads a csv file and returns a dataframe\n",
    "    input:\n",
    "        - file_path: (str) path to the csv file\n",
    "    output:\n",
    "        - df: (pd.DataFrame) dataframe read from the csv file\n",
    "    '''\n",
    "\n",
    "    if not os.path.exists(file_path):\n",
    "        print(f'file {file_path} does not exist')\n",
    "        return None\n",
    "    df = pd.read_csv(file_path)\n",
    "    return df\n",
    "\n",
    "def collect_data(df: pd.DataFrame, sample_col: int=13, threshold: float = 0) -> Tuple[pd.DataFrame, pd.DataFrame]:\n",
    "    '''this function takes a raw dataframe and returns only the genes as rows and samples as columns in a binary matrix\n",
    "    - saves all the info in a seperate metadata dataframe\n",
    "    - removes all the genes that are not present in mroe than a threshhold percentage of samples\n",
    "    - returns the binary matrix and the metadata dataframe\n",
    "\n",
    "    input:\n",
    "        - df: (pd.DataFrame) raw dataframe read from csv\n",
    "        - sample_col: (int) the col number whre samples start\n",
    "        - threshold: (float) the percentage of samples a gene needs to be present in to be kept\n",
    "    output:\n",
    "        - df: (pd.DataFrame) binary matrix of genes and samples\n",
    "        - metadata_df: (pd.DataFrame) metadata dataframe with all the info from the raw dataframe\n",
    "    \n",
    "    '''\n",
    "    df.set_index(df.columns[0], inplace=True)\n",
    "    SAMPLE_NO = df.shape[1] - sample_col\n",
    "\n",
    "    df = df[df['No. isolates'] > (threshold * SAMPLE_NO)]\n",
    "\n",
    "    metadata_df = df.iloc[:, 0:sample_col]\n",
    "    df=df.drop(df.columns[0:sample_col], axis=1)\n",
    "    df = df.fillna(0)\n",
    "    df=df.where(df == 0, 1)\n",
    "\n",
    "    return df, metadata_df\n",
    "\n",
    "\n",
    "    \n",
    "    \n",
    "\n",
    "\n",
    "test_df=read_df('../test/roary/gene_presence_absence.csv')\n",
    "test_df, test_metadata_df = collect_data(test_df, threshold=0.5)\n",
    "test_df"
   ]
  },
  {
   "cell_type": "code",
   "execution_count": null,
   "metadata": {},
   "outputs": [],
   "source": [
    "df= test_df\n",
    "adj_matrix = df.dot(df.T)"
   ]
  },
  {
   "cell_type": "code",
   "execution_count": null,
   "metadata": {},
   "outputs": [],
   "source": [
    "adj_matrix.index"
   ]
  },
  {
   "cell_type": "code",
   "execution_count": null,
   "metadata": {},
   "outputs": [],
   "source": [
    "import networkx as nx\n",
    "#make a [][] matrix out of adj_matrix\n",
    "# adj_matrix = adj_matrix.values\n",
    "adj_matrix"
   ]
  },
  {
   "cell_type": "code",
   "execution_count": null,
   "metadata": {},
   "outputs": [],
   "source": [
    "#make dataype int\n",
    "adj_matrix = adj_matrix.astype(int)\n",
    "#cretae a graph out of it\n",
    "G = nx.from_pandas_adjacency(adj_matrix)\n",
    "G.remove_edges_from(nx.selfloop_edges(G))"
   ]
  },
  {
   "cell_type": "code",
   "execution_count": null,
   "metadata": {},
   "outputs": [],
   "source": [
    "#visualize G\n",
    "import matplotlib.pyplot as plt\n",
    "nx.draw(G, with_labels=True)"
   ]
  },
  {
   "cell_type": "code",
   "execution_count": null,
   "metadata": {},
   "outputs": [],
   "source": [
    "# graph = nx.from_pandas_adjacency(adj_matrix)\n",
    "graph.remove_edges_from(nx.selfloop_edges(graph))"
   ]
  },
  {
   "cell_type": "code",
   "execution_count": null,
   "metadata": {},
   "outputs": [],
   "source": [
    "df.index"
   ]
  },
  {
   "cell_type": "code",
   "execution_count": null,
   "metadata": {},
   "outputs": [],
   "source": [
    "#show G as an adjacency matrix\n",
    "nx.to_pandas_adjacency(G)\n"
   ]
  },
  {
   "cell_type": "code",
   "execution_count": null,
   "metadata": {},
   "outputs": [],
   "source": [
    "import os\n",
    "os.getcwd()"
   ]
  },
  {
   "cell_type": "code",
   "execution_count": null,
   "metadata": {},
   "outputs": [],
   "source": [
    "create_gml = lambda G, file_path: nx.write_gml(G, file_path)\n",
    "create_gml(G, '../data/graphs/1.1_gene-gene_presence_0.5_strepto_31.gml') "
   ]
  },
  {
   "cell_type": "code",
   "execution_count": null,
   "metadata": {},
   "outputs": [],
   "source": [
    "np.mean(list(dict(G.degree(weight='weight')).values()))\n",
    "# np.mean(list(dict(G.degree()).values()))"
   ]
  },
  {
   "cell_type": "code",
   "execution_count": null,
   "metadata": {},
   "outputs": [],
   "source": [
    "import numpy as np\n",
    "import networkx as nx\n",
    "   \n",
    "def compute_network_stats(G, network_name):\n",
    "    largest_cc = max(nx.connected_components(G), key=len)\n",
    "    largest_cc_subgraph = G.subgraph(largest_cc)\n",
    "    stats = {\n",
    "        \"Network\": network_name,\n",
    "        \"|N|\": G.number_of_nodes(),\n",
    "        \"|V|\": G.number_of_edges(),\n",
    "        \"Density\": nx.density(G),\n",
    "        \"<k>\": np.mean(list(dict(G.degree()).values())),\n",
    "        \"<k> weighted\": np.mean(list(dict(G.degree(weight='weight')).values())),\n",
    "        \"<cc>\": nx.average_clustering(G),\n",
    "        \"<spath>\": nx.average_shortest_path_length(largest_cc_subgraph),\n",
    "        \"d\": nx.diameter(largest_cc_subgraph)\n",
    "    }\n",
    "    \n",
    "    return stats\n",
    "\n",
    "gene_presence_50 = compute_network_stats(G, 'gene presence network')"
   ]
  },
  {
   "cell_type": "code",
   "execution_count": null,
   "metadata": {},
   "outputs": [],
   "source": [
    "G=nx.read_gml('../data/graphs/1.1_gene-gene_presence_0.5_strepto_31.gml')\n",
    "g=nx.read_gml('../data/graphs/1.1_test.gml')\n",
    "g==G"
   ]
  },
  {
   "cell_type": "code",
   "execution_count": null,
   "metadata": {},
   "outputs": [],
   "source": [
    "test=compute_network_stats(g, 'test')"
   ]
  },
  {
   "cell_type": "code",
   "execution_count": null,
   "metadata": {},
   "outputs": [],
   "source": [
    "test"
   ]
  },
  {
   "cell_type": "code",
   "execution_count": null,
   "metadata": {},
   "outputs": [],
   "source": [
    "import network_calculations\n",
    "\n",
    "Rtab_path=\"../data/pangenomes/Campylobacter_coli/roary_pangenome/gene_presence_absence.Rtab\"\n",
    "pheno_path=\"../data/phenotypes/Campylobacter_coli_ciprofloxacin.csv\"\n",
    "log=network_calculations.log_odds(pheno_path=pheno_path, Rtab_presence_matrix_path=Rtab_path)\n"
   ]
  },
  {
   "cell_type": "code",
   "execution_count": null,
   "metadata": {},
   "outputs": [],
   "source": [
    "#make it a dict:\n",
    "log_dict = log.to_dict()\n",
    "log_dict"
   ]
  },
  {
   "cell_type": "code",
   "execution_count": 1,
   "metadata": {},
   "outputs": [
    {
     "name": "stdout",
     "output_type": "stream",
     "text": [
      "done\n"
     ]
    }
   ],
   "source": [
    "for i in range (6000**2):\n",
    "    continue\n",
    "print(\"done\")\n"
   ]
  }
 ],
 "metadata": {
  "kernelspec": {
   "display_name": "base",
   "language": "python",
   "name": "python3"
  },
  "language_info": {
   "codemirror_mode": {
    "name": "ipython",
    "version": 3
   },
   "file_extension": ".py",
   "mimetype": "text/x-python",
   "name": "python",
   "nbconvert_exporter": "python",
   "pygments_lexer": "ipython3",
   "version": "3.11.5"
  }
 },
 "nbformat": 4,
 "nbformat_minor": 2
}
