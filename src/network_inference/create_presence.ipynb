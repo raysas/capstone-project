{
 "cells": [
  {
   "cell_type": "code",
   "execution_count": 8,
   "metadata": {},
   "outputs": [],
   "source": [
    "import pandas as pd\n",
    "import numpy as np\n",
    "import networkx as nx\n",
    "import re\n",
    "import seaborn as sns\n",
    "\n",
    "genome_ids_file=\"../../pangenome-repo/Pangenome-Analysis-Workflow/genome_ids/Campylobacter_coli_genome_ids.csv\"\n",
    "clstr_freq_file=\"../../pangenome-repo/Pangenome-Analysis-Workflow/codes/Campylobacter_coli/Campylobacter_coli_cluster_frequencies.csv\"\n",
    "clstr_file=\"../../pangenome-repo/Pangenome-Analysis-Workflow/codes/Campylobacter_coli/Campylobacter_coli.fasta.clstr\"\n",
    "clstr_fasta_file=\"../../pangenome-repo/Pangenome-Analysis-Workflow/codes/Campylobacter_coli/Campylobacter_coli.fasta\""
   ]
  },
  {
   "cell_type": "markdown",
   "metadata": {},
   "source": [
    "# Creating presence-absence matrix"
   ]
  },
  {
   "cell_type": "code",
   "execution_count": 2,
   "metadata": {},
   "outputs": [],
   "source": [
    "samples_df = pd.read_csv(genome_ids_file, dtype=str)\n",
    "samples_list=samples_df['genome.genome_ids'].tolist()\n",
    "\n",
    "clstr_freq_df=pd.read_csv(clstr_freq_file, index_col=1)\n",
    "clstr_freq_df=clstr_freq_df.drop(clstr_freq_df.columns[0], axis=1)\n",
    "clstr_list=clstr_freq_df.index.tolist()\n",
    "\n",
    "df = pd.DataFrame(index=samples_list, columns=clstr_list)\n",
    "df = df.fillna(0)"
   ]
  },
  {
   "cell_type": "code",
   "execution_count": 5,
   "metadata": {},
   "outputs": [],
   "source": [
    "with open(clstr_file) as f:\n",
    "    for line in f:\n",
    "        if line.startswith(\">Cluster\"):\n",
    "            #if its a > line get the cluster id and start counting its occurences in which samples by saving it to the local var\n",
    "            cluster_id=line[1:].strip()\n",
    "        else:\n",
    "            #else its a line designating the sample genome, one that the last cluster_id is present in\n",
    "            # get the 1st group matching here \\d\\t\\d+aa, >fig\\|([\\d\\.\\d]+).+\n",
    "\n",
    "            genome_id=re.match(r\"\\d+\\t\\d+aa, >fig\\|([\\d\\.\\d]+).+\", line).group(1)\n",
    "            genome_id=genome_id[:-1]  #removing the trailing .\n",
    "            df.loc[genome_id, cluster_id]+=1"
   ]
  },
  {
   "cell_type": "code",
   "execution_count": 7,
   "metadata": {},
   "outputs": [],
   "source": [
    "df.to_csv(\"../../data/presence_matrices/Campylobacter_coli_presence_absence.csv\")"
   ]
  },
  {
   "cell_type": "markdown",
   "metadata": {},
   "source": [
    "## Save cluster names "
   ]
  },
  {
   "cell_type": "code",
   "execution_count": 12,
   "metadata": {},
   "outputs": [
    {
     "name": "stderr",
     "output_type": "stream",
     "text": [
      "<>:5: SyntaxWarning: invalid escape sequence '\\|'\n",
      "<>:5: SyntaxWarning: invalid escape sequence '\\|'\n",
      "/tmp/ipykernel_11299/3219330680.py:5: SyntaxWarning: invalid escape sequence '\\|'\n",
      "  pattern=\">fig\\|(\\d+\\.\\d+).peg.+? (.+)\"\n"
     ]
    },
    {
     "data": {
      "text/html": [
       "<div>\n",
       "<style scoped>\n",
       "    .dataframe tbody tr th:only-of-type {\n",
       "        vertical-align: middle;\n",
       "    }\n",
       "\n",
       "    .dataframe tbody tr th {\n",
       "        vertical-align: top;\n",
       "    }\n",
       "\n",
       "    .dataframe thead th {\n",
       "        text-align: right;\n",
       "    }\n",
       "</style>\n",
       "<table border=\"1\" class=\"dataframe\">\n",
       "  <thead>\n",
       "    <tr style=\"text-align: right;\">\n",
       "      <th></th>\n",
       "      <th>0</th>\n",
       "    </tr>\n",
       "  </thead>\n",
       "  <tbody>\n",
       "    <tr>\n",
       "      <th>195.2024</th>\n",
       "      <td>Cysteine desulfurase (EC 2.8.1.7)</td>\n",
       "    </tr>\n",
       "    <tr>\n",
       "      <th>195.2025</th>\n",
       "      <td>hypothetical protein</td>\n",
       "    </tr>\n",
       "    <tr>\n",
       "      <th>195.2026</th>\n",
       "      <td>FIG00470572: hypothetical protein</td>\n",
       "    </tr>\n",
       "    <tr>\n",
       "      <th>195.2027</th>\n",
       "      <td>hypothetical protein</td>\n",
       "    </tr>\n",
       "    <tr>\n",
       "      <th>195.2028</th>\n",
       "      <td>hypothetical protein</td>\n",
       "    </tr>\n",
       "    <tr>\n",
       "      <th>...</th>\n",
       "      <td>...</td>\n",
       "    </tr>\n",
       "    <tr>\n",
       "      <th>195.2313</th>\n",
       "      <td>hypothetical protein</td>\n",
       "    </tr>\n",
       "    <tr>\n",
       "      <th>195.2314</th>\n",
       "      <td>Putative transferase</td>\n",
       "    </tr>\n",
       "    <tr>\n",
       "      <th>195.2315</th>\n",
       "      <td>Pseudaminic acid biosynthesis protein PseA, po...</td>\n",
       "    </tr>\n",
       "    <tr>\n",
       "      <th>195.2316</th>\n",
       "      <td>hypothetical protein</td>\n",
       "    </tr>\n",
       "    <tr>\n",
       "      <th>195.2317</th>\n",
       "      <td>hypothetical protein</td>\n",
       "    </tr>\n",
       "  </tbody>\n",
       "</table>\n",
       "<p>268 rows × 1 columns</p>\n",
       "</div>"
      ],
      "text/plain": [
       "                                                          0\n",
       "195.2024                  Cysteine desulfurase (EC 2.8.1.7)\n",
       "195.2025                               hypothetical protein\n",
       "195.2026                  FIG00470572: hypothetical protein\n",
       "195.2027                               hypothetical protein\n",
       "195.2028                               hypothetical protein\n",
       "...                                                     ...\n",
       "195.2313                               hypothetical protein\n",
       "195.2314                               Putative transferase\n",
       "195.2315  Pseudaminic acid biosynthesis protein PseA, po...\n",
       "195.2316                               hypothetical protein\n",
       "195.2317                               hypothetical protein\n",
       "\n",
       "[268 rows x 1 columns]"
      ]
     },
     "execution_count": 12,
     "metadata": {},
     "output_type": "execute_result"
    }
   ],
   "source": [
    "dict={}\n",
    "with open(clstr_fasta_file) as f:\n",
    "    for line in f:\n",
    "        if line.startswith(\">\"):\n",
    "            pattern=\">fig\\|(\\d+\\.\\d+).peg.+? (.+)\"\n",
    "            id=re.match(pattern, line).group(1)\n",
    "            desc=re.match(pattern, line).group(2)\n",
    "            dict[id]=desc\n",
    "\n",
    "pd.DataFrame.from_dict(dict, orient='index')"
   ]
  }
 ],
 "metadata": {
  "kernelspec": {
   "display_name": "base",
   "language": "python",
   "name": "python3"
  },
  "language_info": {
   "codemirror_mode": {
    "name": "ipython",
    "version": 3
   },
   "file_extension": ".py",
   "mimetype": "text/x-python",
   "name": "python",
   "nbconvert_exporter": "python",
   "pygments_lexer": "ipython3",
   "version": "3.12.2"
  }
 },
 "nbformat": 4,
 "nbformat_minor": 2
}
