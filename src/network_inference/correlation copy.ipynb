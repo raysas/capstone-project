{
 "cells": [
  {
   "cell_type": "markdown",
   "metadata": {},
   "source": [
    "## Set-up"
   ]
  },
  {
   "cell_type": "code",
   "execution_count": 1,
   "metadata": {},
   "outputs": [],
   "source": [
    "import pandas as pd\n",
    "import os\n",
    "import sklearn\n",
    "import networkx as nx\n",
    "import numpy as np\n",
    "import matplotlib.pyplot as plt\n",
    "import seaborn as sns\n",
    "import sys\n",
    "\n",
    "sys.path.append(os.path.dirname(os.getcwd()))\n",
    "\n",
    "def _get_r_squared(G):\n",
    "    '''\n",
    "    takes x and y and returns r squared\n",
    "\n",
    "    params:\n",
    "     - x: list of x values\n",
    "     - y: list of y values\n",
    "\n",
    "    returns:\n",
    "     - r_squared: float\n",
    "    '''\n",
    "\n",
    "    degrees = [G.degree(n) for n in G.nodes()]\n",
    "    mean_degree = np.mean(degrees)\n",
    "\n",
    "    log_pk = np.log(np.unique(degrees, return_counts=True)[1])\n",
    "    log_k = np.log(np.unique(degrees, return_counts=True)[0])\n",
    "\n",
    "    x,y = log_k, log_pk\n",
    "\n",
    "    ### regression line\n",
    "    slope, intercept = np.polyfit(x, y, 1)\n",
    "    # print(f\"SLope: {slope*-1}, intercept: {intercept}\")\n",
    "    r_squared = 1 - (sum((y - (slope * x + intercept))**2) / ((len(y) - 1) * np.var(y)))\n",
    "\n",
    "    plt.title(f\"log-log degree distribution, r squared: {round(r_squared,5)}, <k>: {round(mean_degree, 2)}\")\n",
    "    plt.xlabel(\"log(k)\")\n",
    "    plt.ylabel(\"log(p(k))\")\n",
    "\n",
    "    plt.scatter(log_k, log_pk)\n",
    "    plt.plot(x, slope * x + intercept, color=\"red\")\n",
    "    plt.show()\n",
    "    \n",
    "    return r_squared, mean_degree\n",
    "\n",
    "\n",
    "import data_utils\n",
    "import network_calculations\n",
    "\n",
    "presence_path=\"../../data/presence_matrices/Campylobacter_coli_presence_absence.csv\"\n",
    "pheno_path=\"../../data/phenotypes/Campylobacter_coli_ciprofloxacin.csv\"\n",
    "\n",
    "presence= data_utils.get_gene_presence_matrix(presence_path)\n",
    "pheno = data_utils.get_pheno_df(pheno_path)\n",
    "\n",
    "labeled_data = data_utils.get_labeled_matrix(presence, pheno)\n"
   ]
  },
  {
   "cell_type": "code",
   "execution_count": 2,
   "metadata": {},
   "outputs": [],
   "source": [
    "log_odds_df = pd.read_csv(\"../../data/log_odds_nodes/Campylobacter_coli_ciprofloxacin_log_odds.csv\", index_col=0)\n",
    "log_odds_dict = log_odds_df.to_dict()[\"log_odds\"]\n",
    "# log_odds_dict"
   ]
  },
  {
   "cell_type": "markdown",
   "metadata": {},
   "source": [
    "## Correlation Network"
   ]
  },
  {
   "cell_type": "markdown",
   "metadata": {},
   "source": [
    "### Shell genes"
   ]
  },
  {
   "cell_type": "code",
   "execution_count": null,
   "metadata": {},
   "outputs": [],
   "source": [
    "core = data_utils.get_core(presence, 0.95)\n",
    "unique = data_utils.get_unique(presence, 0.15)\n",
    "\n",
    "core_uniqe=core+unique\n",
    "\n",
    "accessory = data_utils.get_presence_without_gene_set(presence, core_uniqe)\n",
    "labeled_accessory = data_utils.get_labeled_matrix(accessory, pheno)\n",
    "corr_accessory_gene = labeled_accessory.corr()\n",
    "\n",
    "sns.heatmap(corr_accessory_gene, cmap=\"coolwarm\", center=0)"
   ]
  },
  {
   "cell_type": "markdown",
   "metadata": {},
   "source": [
    "#### Hard threshold"
   ]
  },
  {
   "cell_type": "code",
   "execution_count": null,
   "metadata": {},
   "outputs": [],
   "source": [
    "G = nx.Graph()\n",
    "genes_num=corr_accessory_gene.shape[0]\n",
    "for i in range(genes_num):\n",
    "    for j in range(i+1, genes_num):\n",
    "        if corr_accessory_gene.iloc[i,j] > 0.5 or corr_accessory_gene.iloc[i,j] < -0.5:\n",
    "            G.add_edge(corr_accessory_gene.index[i], corr_accessory_gene.columns[j], weight=corr_accessory_gene.iloc[i,j])\n",
    "\n",
    "\n",
    "layout=nx.spring_layout(G, seed=42)\n",
    "plt.figure(figsize=(20, 20))\n",
    "nx.draw(G, with_labels=True, pos=layout, node_size=600, font_size=15)\n",
    "\n",
    "# nx.write_gml(G, \"../../data/graphs/accessory_gene_correlation_C.coli_ciprofloxacin.gml\")\n",
    "# print(f\"number of nodes: {G.number_of_nodes()}, number of edges: {G.number_of_edges()}\")"
   ]
  },
  {
   "cell_type": "code",
   "execution_count": null,
   "metadata": {},
   "outputs": [],
   "source": [
    "network_calculations.plot_degree_distribution(G, network_name=\"Shell genes correlation network with 0.5 hard threshold on C.coli ciprofloxacin data weighted deg dist\", weighted=True)"
   ]
  },
  {
   "cell_type": "code",
   "execution_count": null,
   "metadata": {},
   "outputs": [],
   "source": [
    "network_calculations.get_network_stats(G, network_name=\"Shell genes correlation network with 0.5 hard threshold on C.coli ciprofloxacin data\", weighted=True)"
   ]
  },
  {
   "cell_type": "code",
   "execution_count": null,
   "metadata": {},
   "outputs": [],
   "source": [
    "degrees = [G.degree(n) for n in G.nodes()]\n",
    "plt.hist(degrees, bins=30)\n",
    "plt.show()"
   ]
  },
  {
   "cell_type": "markdown",
   "metadata": {},
   "source": [
    "#### Soft-threshold\n",
    "\n",
    "The soft-thresholding consists of finding the power of the adjacency matrix that best approximates the scale-free topology. The power is chosen by the function `pickSoftThreshold` from the WGCNA package. The function calculates the scale-free topology fit index for a range of powers and returns the power that best approximates the scale-free topology."
   ]
  },
  {
   "cell_type": "code",
   "execution_count": null,
   "metadata": {},
   "outputs": [],
   "source": [
    "karate=nx.karate_club_graph()"
   ]
  },
  {
   "cell_type": "code",
   "execution_count": null,
   "metadata": {},
   "outputs": [],
   "source": [
    "def _get_r_squared(G):\n",
    "    '''\n",
    "    takes x and y and returns r squared\n",
    "\n",
    "    params:\n",
    "     - x: list of x values\n",
    "     - y: list of y values\n",
    "\n",
    "    returns:\n",
    "     - r_squared: float\n",
    "    '''\n",
    "\n",
    "    degrees = [G.degree(n) for n in G.nodes()]\n",
    "    mean_degree = np.mean(degrees)\n",
    "\n",
    "    log_pk = np.log(np.unique(degrees, return_counts=True)[1])\n",
    "    log_k = np.log(np.unique(degrees, return_counts=True)[0])\n",
    "\n",
    "    x,y = log_k, log_pk\n",
    "\n",
    "    ### regression line\n",
    "    slope, intercept = np.polyfit(x, y, 1)\n",
    "    # print(f\"SLope: {slope*-1}, intercept: {intercept}\")\n",
    "    r_squared = 1 - (sum((y - (slope * x + intercept))**2) / ((len(y) - 1) * np.var(y)))\n",
    "\n",
    "    plt.title(f\"log-log degree distribution, r squared: {round(r_squared,5)}, <k>: {round(mean_degree, 2)}\")\n",
    "    plt.xlabel(\"log(k)\")\n",
    "    plt.ylabel(\"log(p(k))\")\n",
    "\n",
    "    plt.scatter(log_k, log_pk)\n",
    "    plt.plot(x, slope * x + intercept, color=\"red\")\n",
    "    plt.show()\n",
    "    \n",
    "    return r_squared, mean_degree\n",
    "\n",
    "print(f\"r squared: {_get_r_squared(G)}\")"
   ]
  },
  {
   "cell_type": "code",
   "execution_count": null,
   "metadata": {},
   "outputs": [],
   "source": [
    "powers=range(1, 10)\n",
    "track_r_sq_k = {}\n",
    "for power in powers:\n",
    "    adj_matrix = nx.to_numpy_array(G)\n",
    "    adj_matrix = np.linalg.matrix_power(adj_matrix, power)\n",
    "    G_power = nx.from_numpy_array(adj_matrix)\n",
    "    r_sq, k = _get_r_squared(G_power)\n",
    "    track_r_sq_k[power] = (r_sq, k)\n",
    "\n",
    "#make a df of powers as rows and r squared and k as columns\n",
    "df = pd.DataFrame(track_r_sq_k).T\n",
    "df.columns = [\"r_squared\", \"k\"]\n",
    "df.index.name = \"power\"\n",
    "df.reset_index(inplace=True)\n",
    "df"
   ]
  },
  {
   "cell_type": "markdown",
   "metadata": {},
   "source": [
    "### Non hypothetical"
   ]
  },
  {
   "cell_type": "code",
   "execution_count": null,
   "metadata": {},
   "outputs": [],
   "source": [
    "presence_nh= data_utils.get_gene_presence_matrix(Rtab_path,True)\n",
    "# print(presence_nh)\n",
    "\n",
    "c=network_calculations.get_core(presence_nh)\n",
    "u=network_calculations.get_unique(presence_nh, 0.05)\n",
    "acc=c+u\n",
    "# print(acc)\n",
    "\n",
    "for i in range(len(acc)):\n",
    "    if (acc[i] not in list(presence_nh.index)):\n",
    "        print(acc[i])\n",
    "\n",
    "presence_nh_acc=data_utils.get_presence_without_gene_set(presence_nh, gene_set=acc)\n",
    "\n",
    "labeled_annotated = data_utils.get_labeled_matrix(presence_nh_acc, pheno)\n",
    "\n",
    "corr_genes=labeled_annotated.corr()\n",
    "sns.heatmap(corr_genes, cmap=\"coolwarm\")\n",
    "corr_genes"
   ]
  },
  {
   "cell_type": "code",
   "execution_count": null,
   "metadata": {},
   "outputs": [],
   "source": [
    "#create a graph out of the corr matrix with all entries\n",
    "G = nx.Graph()\n",
    "genes_num=corr_genes.shape[0]\n",
    "for i in range(genes_num):\n",
    "    for j in range(i+1, genes_num):\n",
    "        if corr_genes.iloc[i,j] > 0.3 or corr_genes.iloc[i,j] < -0.3:\n",
    "            G.add_edge(corr_genes.index[i], corr_genes.columns[j], weight=corr_genes.iloc[i,j])"
   ]
  },
  {
   "cell_type": "code",
   "execution_count": null,
   "metadata": {},
   "outputs": [],
   "source": [
    "G.number_of_edges()\n",
    "# G.number_of_nodes()*(G.number_of_nodes()-1)/2\n",
    "\n",
    "powers=range(1, 3)\n",
    "track_r_sq_k = {}\n",
    "for power in powers:\n",
    "    adj_matrix = nx.to_numpy_array(G)\n",
    "    adj_matrix = np.linalg.matrix_power(adj_matrix, power)\n",
    "    G_power = nx.from_numpy_array(adj_matrix)\n",
    "    r_sq, k = _get_r_squared(G_power)\n",
    "    track_r_sq_k[power] = (r_sq, k)\n",
    "\n",
    "#make a df of powers as rows and r squared and k as columns\n",
    "df = pd.DataFrame(track_r_sq_k).T\n",
    "df.columns = [\"r_squared\", \"k\"]\n",
    "df.index.name = \"power\"\n",
    "df.reset_index(inplace=True)\n",
    "df"
   ]
  },
  {
   "cell_type": "code",
   "execution_count": null,
   "metadata": {},
   "outputs": [],
   "source": [
    "nx.draw(G, with_labels=True, node_size=200, font_size=8, pos=nx.spring_layout(G, seed=42))"
   ]
  },
  {
   "cell_type": "code",
   "execution_count": null,
   "metadata": {},
   "outputs": [],
   "source": [
    "#get modularity\n",
    "mod = nx.community.modularity(G, nx.community.louvain_communities(G))\n",
    "mod\n",
    "#color by community\n",
    "communities = nx.community.louvain_communities(G)\n",
    "\n",
    "colors = sns.color_palette(\"Set2\", len(communities))\n",
    "\n",
    "plt.figure(figsize=(10, 10))\n",
    "for i, community in enumerate(communities):\n",
    "    nx.draw_networkx_nodes(G, pos=nx.spring_layout(G, seed=42), nodelist=community, node_color=colors[i], node_size=200)\n",
    "    nx.draw_networkx_edges(G, pos=nx.spring_layout(G, seed=42))"
   ]
  },
  {
   "cell_type": "code",
   "execution_count": null,
   "metadata": {},
   "outputs": [],
   "source": [
    "#get degree dist\n",
    "network_calculations.plot_degree_distribution(G, network_name=\"Accessory non hypothetocal genes correlation network with 0.3 hard threshold on C.coli ciprofloxacin data deg dist\", weighted=False)\n",
    "\n",
    "network_calculations.plot_degree_distribution(G, network_name=\"Accessory non hypothetocal genes correlation network with 0.3 hard threshold on C.coli ciprofloxacin data weighted deg dist\", weighted=True)"
   ]
  },
  {
   "cell_type": "code",
   "execution_count": null,
   "metadata": {},
   "outputs": [],
   "source": [
    "nx.set_node_attributes(G, log_odds_dict, name=\"log_odds\")"
   ]
  },
  {
   "cell_type": "code",
   "execution_count": null,
   "metadata": {},
   "outputs": [],
   "source": [
    "dict(G.nodes(data=True))"
   ]
  },
  {
   "cell_type": "code",
   "execution_count": null,
   "metadata": {},
   "outputs": [],
   "source": [
    "nx.write_gml(G, \"../../data/graphs/accessory_non_hypo_gene_correlation_C.coli_ciprofloxacin.gml\")\n",
    "nx.write_edgelist(G, \"../../data/graphs/accessory_non_hypo_gene_correlation_C.coli_ciprofloxacin.txt\")\n",
    "nx.write_graphml(G, \"../../data/graphs/accessory_non_hypo_gene_correlation_C.coli_ciprofloxacin.graphml\")"
   ]
  },
  {
   "cell_type": "markdown",
   "metadata": {},
   "source": [
    "### All genes"
   ]
  },
  {
   "cell_type": "code",
   "execution_count": 3,
   "metadata": {},
   "outputs": [],
   "source": [
    "#removing all the genes with st dev=0 from the presence absence matrix\n",
    "presence= pd.read_csv(\"../../data/presence_matrices/Campylobacter_coli_presence_absence.csv\", index_col=0)\n",
    "for gene in presence.columns:\n",
    "    if presence[gene].std() == 0:\n",
    "        presence.drop(gene, axis=1, inplace=True)\n",
    "\n",
    "cor_matrix=presence.corr()\n"
   ]
  },
  {
   "cell_type": "code",
   "execution_count": 4,
   "metadata": {},
   "outputs": [
    {
     "data": {
      "text/plain": [
       "(6995, 6995)"
      ]
     },
     "execution_count": 4,
     "metadata": {},
     "output_type": "execute_result"
    }
   ],
   "source": [
    "cor_matrix.shape"
   ]
  },
  {
   "cell_type": "code",
   "execution_count": null,
   "metadata": {},
   "outputs": [],
   "source": [
    "# cor_matrix.to_csv(\"../../updates/april2/FULL_correlation_matrix.csv\")"
   ]
  },
  {
   "cell_type": "markdown",
   "metadata": {},
   "source": [
    "#### Unsigned network"
   ]
  },
  {
   "cell_type": "code",
   "execution_count": 5,
   "metadata": {},
   "outputs": [],
   "source": [
    "#test on 0.6 cor\n",
    "\n",
    "t=round(0.6,2)\n",
    "G = nx.Graph()\n",
    "genes_num=cor_matrix.shape[0]\n",
    "for i in range(genes_num):\n",
    "    for j in range(i+1, genes_num):\n",
    "        if cor_matrix.iloc[i,j] > t:\n",
    "            G.add_edge(cor_matrix.index[i], cor_matrix.columns[j], weight=cor_matrix.iloc[i,j])\n",
    "degrees = [G.degree(n) for n in G.nodes()]\n",
    "weighted_degrees = [G.degree(n, weight=\"weight\") for n in G.nodes()]\n",
    "plt.subplot(1, 2, 1)\n",
    "plt.hist(degrees, bins=70)\n",
    "plt.title(f\"Unsigned > {round(t,2)}\")\n",
    "plt.subplot(1, 2, 2)\n",
    "plt.hist(weighted_degrees, bins=70)\n",
    "plt.title(f\"Unsigned > {round(t,2)} weighted\")\n",
    "plt.show()"
   ]
  },
  {
   "cell_type": "code",
   "execution_count": null,
   "metadata": {},
   "outputs": [],
   "source": [
    "nx.set_node_attributes(G, log_odds_dict, name=\"log_odds\")"
   ]
  },
  {
   "cell_type": "code",
   "execution_count": null,
   "metadata": {},
   "outputs": [],
   "source": [
    "print(f\"number of nodes: {G.number_of_nodes()}, number of edges: {G.number_of_edges()}\")\n",
    "nx.write_graphml(G, f\"../../data/graphs-2/unsigned_correlation_network_{t}.graphml\")"
   ]
  },
  {
   "cell_type": "code",
   "execution_count": null,
   "metadata": {},
   "outputs": [],
   "source": [
    "thresholds = list(np.arange(0.6, 1.0, 0.05))\n",
    "for t in thresholds:\n",
    "    t=round(t,2)\n",
    "    G = nx.Graph()\n",
    "    genes_num=cor_matrix.shape[0]\n",
    "    for i in range(genes_num):\n",
    "        for j in range(i+1, genes_num):\n",
    "            if cor_matrix.iloc[i,j] > t:\n",
    "                G.add_edge(cor_matrix.index[i], cor_matrix.columns[j], weight=cor_matrix.iloc[i,j])\n",
    "    degrees = [G.degree(n) for n in G.nodes()]\n",
    "    weighted_degrees = [G.degree(n, weight=\"weight\") for n in G.nodes()]\n",
    "    plt.subplot(1, 2, 1)\n",
    "    plt.hist(degrees, bins=70)\n",
    "    plt.title(f\"Unsigned > {round(t,2)}\")\n",
    "    plt.subplot(1, 2, 2)\n",
    "    plt.hist(weighted_degrees, bins=70)\n",
    "    plt.title(f\"Unsigned > {round(t,2)} weighted\")\n",
    "    plt.show()\n",
    "\n",
    "    nx.set_node_attributes(G,log_odds_dict, name=\"log_odds\")\n",
    "\n",
    "    nx.write_gml(G, f\"../../data/graphs/unsigned_full_gene_correlation_C.coli_ciprofloxacin_{t}.gml\")\n",
    "\n",
    "    print(\"done with \", t)"
   ]
  },
  {
   "cell_type": "code",
   "execution_count": null,
   "metadata": {},
   "outputs": [],
   "source": [
    "unsigned_G6 = nx.read_gml(\"../../data/graphs/unsigned_full_gene_correlation_C.coli_ciprofloxacin_0.6.gml\")\n",
    "unsigned_G65 = nx.read_gml(\"../../data/graphs/unsigned_full_gene_correlation_C.coli_ciprofloxacin_0.65.gml\")\n",
    "unsigned_G7 = nx.read_gml(\"../../data/graphs/unsigned_full_gene_correlation_C.coli_ciprofloxacin_0.7.gml\")\n",
    "unsigned_G75 = nx.read_gml(\"../../data/graphs/unsigned_full_gene_correlation_C.coli_ciprofloxacin_0.75.gml\")\n",
    "unsigned_G8 = nx.read_gml(\"../../data/graphs/unsigned_full_gene_correlation_C.coli_ciprofloxacin_0.8.gml\")\n",
    "unsigned_G85 = nx.read_gml(\"../../data/graphs/unsigned_full_gene_correlation_C.coli_ciprofloxacin_0.85.gml\")\n",
    "unsigned_G9 = nx.read_gml(\"../../data/graphs/unsigned_full_gene_correlation_C.coli_ciprofloxacin_0.9.gml\")\n",
    "unsigned_G95 = nx.read_gml(\"../../data/graphs/unsigned_full_gene_correlation_C.coli_ciprofloxacin_0.95.gml\")\n",
    "\n",
    "unsigned_G6_stats = network_calculations.get_network_stats(unsigned_G6, network_name=\"Unsigned full gene correlation network with 0.6 hard threshold on C.coli ciprofloxacin data\", weighted=True)\n",
    "unsigned_G65_stats = network_calculations.get_network_stats(unsigned_G65, network_name=\"Unsigned full gene correlation network with 0.65 hard threshold on C.coli ciprofloxacin data\", weighted=True)\n",
    "unsigned_G7_stats = network_calculations.get_network_stats(unsigned_G7, network_name=\"Unsigned full gene correlation network with 0.7 hard threshold on C.coli ciprofloxacin data\", weighted=True)\n",
    "unsigned_G75_stats = network_calculations.get_network_stats(unsigned_G75, network_name=\"Unsigned full gene correlation network with 0.75 hard threshold on C.coli ciprofloxacin data\", weighted=True)\n",
    "unsigned_G8_stats = network_calculations.get_network_stats(unsigned_G8, network_name=\"Unsigned full gene correlation network with 0.8 hard threshold on C.coli ciprofloxacin data\", weighted=True)\n",
    "unsigned_G85_stats = network_calculations.get_network_stats(unsigned_G85, network_name=\"Unsigned full gene correlation network with 0.85 hard threshold on C.coli ciprofloxacin data\", weighted=True)\n",
    "unsigned_G9_stats = network_calculations.get_network_stats(unsigned_G9, network_name=\"Unsigned full gene correlation network with 0.9 hard threshold on C.coli ciprofloxacin data\", weighted=True)\n",
    "unsigned_G95_stats = network_calculations.get_network_stats(unsigned_G95, network_name=\"Unsigned full gene correlation network with 0.95 hard threshold on C.coli ciprofloxacin data\", weighted=True)\n"
   ]
  },
  {
   "cell_type": "code",
   "execution_count": null,
   "metadata": {},
   "outputs": [],
   "source": [
    "unsigned_stats = pd.concat([unsigned_G6_stats, unsigned_G65_stats, unsigned_G7_stats, unsigned_G75_stats, unsigned_G8_stats, unsigned_G85_stats, unsigned_G9_stats, unsigned_G95_stats])\n",
    "unsigned_stats.reset_index(inplace=True)\n",
    "unsigned_stats"
   ]
  },
  {
   "cell_type": "markdown",
   "metadata": {},
   "source": [
    "#### Signed network"
   ]
  },
  {
   "cell_type": "code",
   "execution_count": null,
   "metadata": {},
   "outputs": [],
   "source": [
    "thresholds = list(np.arange(0.6, 1.0, 0.05))\n",
    "for t in thresholds:\n",
    "    G = nx.Graph()\n",
    "    genes_num=cor_matrix.shape[0]\n",
    "    for i in range(genes_num):\n",
    "        for j in range(i+1, genes_num):\n",
    "            if cor_matrix.iloc[i,j] > t or cor_matrix.iloc[i,j] < -t:\n",
    "                G.add_edge(cor_matrix.index[i], cor_matrix.columns[j], weight=cor_matrix.iloc[i,j])\n",
    "    degrees = [G.degree(n) for n in G.nodes()]\n",
    "    weighted_degrees = [G.degree(n, weight=\"weight\") for n in G.nodes()]\n",
    "    plt.subplot(1, 2, 1)\n",
    "    plt.hist(degrees, bins=70)\n",
    "    plt.title(f\"Signed > {round(t,2)}\")\n",
    "    plt.subplot(1, 2, 2)\n",
    "    plt.hist(weighted_degrees, bins=70)\n",
    "    plt.title(f\"Signed > {round(t,2)} weighted\")\n",
    "    plt.show()\n",
    "\n",
    "    nx.set_node_attributes(G,log_odds_dict, name=\"log_odds\")\n",
    "\n",
    "    nx.write_gml(G, f\"../../data/graphs/signed_full_gene_correlation_C.coli_ciprofloxacin_{t}.gml\")"
   ]
  },
  {
   "cell_type": "code",
   "execution_count": null,
   "metadata": {},
   "outputs": [],
   "source": [
    "signed_G6 = nx.read_gml(\"../../data/graphs/signed_full_gene_correlation_C.coli_ciprofloxacin_0.6.gml\")\n",
    "signed_G65 = nx.read_gml(\"../../data/graphs/signed_full_gene_correlation_C.coli_ciprofloxacin_0.65.gml\")\n",
    "signed_G7 = nx.read_gml(\"../../data/graphs/signed_full_gene_correlation_C.coli_ciprofloxacin_0.7.gml\")\n",
    "signed_G75 = nx.read_gml(\"../../data/graphs/signed_full_gene_correlation_C.coli_ciprofloxacin_0.75.gml\")\n",
    "signed_G8 = nx.read_gml(\"../../data/graphs/signed_full_gene_correlation_C.coli_ciprofloxacin_0.8.gml\")\n",
    "signed_G85 = nx.read_gml(\"../../data/graphs/signed_full_gene_correlation_C.coli_ciprofloxacin_0.85.gml\")\n",
    "signed_G9 = nx.read_gml(\"../../data/graphs/signed_full_gene_correlation_C.coli_ciprofloxacin_0.9.gml\")\n",
    "signed_G95 = nx.read_gml(\"../../data/graphs/signed_full_gene_correlation_C.coli_ciprofloxacin_0.95.gml\")\n",
    "\n",
    "\n",
    "signed_G6_stats = network_calculations.get_network_stats(signed_G6, network_name=\"Signed with 0.6 hard threshold\", weighted=True)\n",
    "signed_G65_stats = network_calculations.get_network_stats(signed_G65, network_name=\"Signed with 0.65 hard threshold\", weighted=True)\n",
    "signed_G7_stats = network_calculations.get_network_stats(signed_G7, network_name=\"Signed with 0.7 hard threshold\", weighted=True)\n",
    "signed_G75_stats = network_calculations.get_network_stats(signed_G75, network_name=\"Signed with 0.75 hard threshold\", weighted=True)\n",
    "signed_G8_stats = network_calculations.get_network_stats(signed_G8, network_name=\"Signed with 0.8 hard threshold\", weighted=True)\n",
    "signed_G85_stats = network_calculations.get_network_stats(signed_G85, network_name=\"Signed with 0.85 hard threshold\", weighted=True)\n",
    "signed_G9_stats = network_calculations.get_network_stats(signed_G9, network_name=\"Signed with 0.9 hard threshold\", weighted=True)\n",
    "signed_G95_stats = network_calculations.get_network_stats(signed_G95, network_name=\"Signed with 0.95 hard threshold\", weighted=True)\n"
   ]
  },
  {
   "cell_type": "code",
   "execution_count": null,
   "metadata": {},
   "outputs": [],
   "source": [
    "signed_stats = pd.concat([signed_G6_stats, signed_G65_stats, signed_G7_stats, signed_G75_stats, signed_G8_stats, signed_G85_stats, signed_G9_stats, signed_G95_stats])\n",
    "signed_stats.reset_index(inplace=True)\n",
    "signed_stats"
   ]
  },
  {
   "cell_type": "code",
   "execution_count": null,
   "metadata": {},
   "outputs": [],
   "source": [
    "#put signeed and unsigned stats together in a csv\n",
    "all_stats = pd.concat([signed_stats, unsigned_stats])\n",
    "all_stats.to_csv(\"../../data/stats/signed_unsigned_network_metrics.csv\")\n",
    "all_stats"
   ]
  },
  {
   "cell_type": "markdown",
   "metadata": {},
   "source": [
    "#### Soft-threshold"
   ]
  },
  {
   "cell_type": "markdown",
   "metadata": {},
   "source": [
    "soft thresholding using the function `pickSoftThreshold` from the WGCNA package was 4 given the correlation matrix, will try to use this value to build the network."
   ]
  },
  {
   "cell_type": "code",
   "execution_count": null,
   "metadata": {},
   "outputs": [],
   "source": [
    "#make the cor matrix to the power of 4\n",
    "adj_matrix = np.array(cor_matrix)\n",
    "adj_matrix = np.linalg.matrix_power(adj_matrix, 4)\n",
    "G = nx.from_numpy_array(adj_matrix)\n",
    "network_calculations.get_network_stats(G, network_name=\"soft thresholding 4 power on C.coli ciprofloxacin\", weighted=False)"
   ]
  },
  {
   "cell_type": "code",
   "execution_count": null,
   "metadata": {},
   "outputs": [],
   "source": [
    "nx.set_node_attributes(G, log_odds_dict, name=\"log_odds\")\n",
    "nx.write_gml(G, \"../../data/graphs/soft_thresholding_4_power_C.coli_ciprofloxacin.gml\")\n",
    "\n",
    "plt.subplot(1, 2, 1)\n",
    "degrees = [G.degree(n) for n in G.nodes()]\n",
    "plt.hist(degrees, bins=70)\n",
    "plt.title(\"4 power soft unweighted\")\n",
    "plt.subplot(1, 2, 2)\n",
    "weighted_degrees = [G.degree(n, weight=\"weight\") for n in G.nodes()]\n",
    "plt.hist(weighted_degrees, bins=70)\n",
    "plt.title(\"4 power soft weighted\")\n",
    "plt.show()"
   ]
  }
 ],
 "metadata": {
  "kernelspec": {
   "display_name": "base",
   "language": "python",
   "name": "python3"
  },
  "language_info": {
   "codemirror_mode": {
    "name": "ipython",
    "version": 3
   },
   "file_extension": ".py",
   "mimetype": "text/x-python",
   "name": "python",
   "nbconvert_exporter": "python",
   "pygments_lexer": "ipython3",
   "version": "3.12.2"
  }
 },
 "nbformat": 4,
 "nbformat_minor": 2
}
